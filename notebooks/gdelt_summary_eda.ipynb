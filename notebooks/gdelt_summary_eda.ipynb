{
 "cells": [
  {
   "cell_type": "code",
   "execution_count": 1,
   "id": "0358254f-9151-4f14-933d-e9f4391cb50f",
   "metadata": {
    "tags": []
   },
   "outputs": [],
   "source": [
    "#!pip install universal_pathlib"
   ]
  },
  {
   "cell_type": "code",
   "execution_count": 2,
   "id": "5fd10929-7ff6-4a7f-a57c-4e6323b4620f",
   "metadata": {
    "tags": []
   },
   "outputs": [],
   "source": [
    "import numpy as np\n",
    "import pandas as pd\n",
    "from upath import UPath as Path\n",
    "\n",
    "from scipy.ndimage import gaussian_filter1d\n",
    "from scipy.interpolate import interp1d\n",
    "from scipy.signal import find_peaks\n",
    "from sklearn.preprocessing import scale\n",
    "\n",
    "import seaborn as sns\n",
    "import matplotlib.pyplot as plt\n",
    "import plotly.graph_objects as go\n",
    "import plotly.io as pio"
   ]
  },
  {
   "cell_type": "code",
   "execution_count": 3,
   "id": "48baf3fe-4c98-431a-b497-d71633e133f0",
   "metadata": {},
   "outputs": [],
   "source": [
    "import warnings\n",
    "warnings.filterwarnings('ignore')"
   ]
  },
  {
   "cell_type": "code",
   "execution_count": 4,
   "id": "8dfb3606-2b1c-436b-bc6e-6ec180f2a726",
   "metadata": {
    "tags": []
   },
   "outputs": [],
   "source": [
    "files_dir = Path(\"/Users/ewheeler/dev/UNDatathon/data/gdelt_files/\")"
   ]
  },
  {
   "cell_type": "code",
   "execution_count": 5,
   "id": "33a513d1-9e4c-4ae5-8626-942a5d623741",
   "metadata": {
    "tags": []
   },
   "outputs": [],
   "source": [
    "def make_country_name_mapper(location_column_name, extra_from=None):\n",
    "    # TODO caller needs a way to find out what `location_column_names` are possible\n",
    "    # and/or we should match shorthands like\n",
    "    # {'unicef': 'UNICEFOU', 'iso3': 'ISO3 (geonames)'}\n",
    "    territory_identifiers = pd.read_csv(files_dir / \"country-codes/country_codes.csv\")\n",
    "\n",
    "    class CountryNameMapper:\n",
    "        # TODO add docstring\n",
    "        def __init__(self, location_column_name, codes, extra_from):\n",
    "            self.map = dict()\n",
    "            self.codes = codes\n",
    "        \n",
    "            # these columns have country name strings in various formats\n",
    "            ccode_name_cols = ['Country or Area_en (M49)', 'English Short (unterm)',\n",
    "                               'English Formal (unterm)', 'name_short (exio-wiod-eora)',\n",
    "                               'name_official (exio-wiod-eora)', 'Short name (fao)',\n",
    "                               'Official name (fao)', 'Country (geonames)']\n",
    "            if extra_from is not None:\n",
    "                for extra in extra_from:\n",
    "                    ccode_name_cols.append(extra)\n",
    "\n",
    "            # make mapping of all various country name formats to desired location_column_name contents\n",
    "            for country_name_col in ccode_name_cols:\n",
    "                self.map.update(dict(self.codes[[country_name_col, location_column_name]].dropna().values))\n",
    "            print(len(self.map.keys()))\n",
    "        \n",
    "        def __call__(self, location_name):\n",
    "            # TODO might want to return the original location_name if not matched.\n",
    "            # should make_location_name_mapper take some kind of 'missing value handler' parameter?\n",
    "            return self.map.get(location_name, pd.NA)\n",
    "        \n",
    "    return CountryNameMapper(location_column_name, territory_identifiers, extra_from)"
   ]
  },
  {
   "cell_type": "code",
   "execution_count": 6,
   "id": "a7b11fc5-c798-40fb-990d-545c9bc52c77",
   "metadata": {
    "tags": []
   },
   "outputs": [
    {
     "name": "stdout",
     "output_type": "stream",
     "text": [
      "1141\n"
     ]
    }
   ],
   "source": [
    "iso3_mapper = make_country_name_mapper('ISO3 (geonames)', extra_from=['fips (geonames)', 'M49 Code (M49)'])"
   ]
  },
  {
   "cell_type": "code",
   "execution_count": 7,
   "id": "16e06e91-e1c0-4ba0-a685-90bf0ff62ea5",
   "metadata": {
    "tags": []
   },
   "outputs": [],
   "source": [
    "gdelt_query = 'food'"
   ]
  },
  {
   "cell_type": "code",
   "execution_count": 8,
   "id": "3966be7a-4e7b-4a51-9cc1-f5884e8126b1",
   "metadata": {
    "tags": []
   },
   "outputs": [
    {
     "data": {
      "text/plain": [
       "[PosixPath('/Users/ewheeler/dev/UNDatathon/data/gdelt_files/gdelt_food_timelinetone.feather'),\n",
       " PosixPath('/Users/ewheeler/dev/UNDatathon/data/gdelt_files/gdelt_food_timelinevol.feather'),\n",
       " PosixPath('/Users/ewheeler/dev/UNDatathon/data/gdelt_files/gdelt_food_artlist.feather'),\n",
       " PosixPath('/Users/ewheeler/dev/UNDatathon/data/gdelt_files/gdelt_food_timelinevolraw.feather')]"
      ]
     },
     "execution_count": 8,
     "metadata": {},
     "output_type": "execute_result"
    }
   ],
   "source": [
    "datasets = list(files_dir.glob(f'*{gdelt_query}*.feather'))\n",
    "datasets"
   ]
  },
  {
   "cell_type": "code",
   "execution_count": 9,
   "id": "00f08723-3b4d-408a-ae7d-9bada81fb3d6",
   "metadata": {
    "tags": []
   },
   "outputs": [
    {
     "data": {
      "text/html": [
       "<div>\n",
       "<style scoped>\n",
       "    .dataframe tbody tr th:only-of-type {\n",
       "        vertical-align: middle;\n",
       "    }\n",
       "\n",
       "    .dataframe tbody tr th {\n",
       "        vertical-align: top;\n",
       "    }\n",
       "\n",
       "    .dataframe thead th {\n",
       "        text-align: right;\n",
       "    }\n",
       "</style>\n",
       "<table border=\"1\" class=\"dataframe\">\n",
       "  <thead>\n",
       "    <tr style=\"text-align: right;\">\n",
       "      <th></th>\n",
       "      <th>Date</th>\n",
       "      <th>Series</th>\n",
       "      <th>Value</th>\n",
       "      <th>fips</th>\n",
       "      <th>query</th>\n",
       "      <th>api_mode</th>\n",
       "    </tr>\n",
       "  </thead>\n",
       "  <tbody>\n",
       "    <tr>\n",
       "      <th>0</th>\n",
       "      <td>2020-01-01</td>\n",
       "      <td>Average Tone</td>\n",
       "      <td>0.9926</td>\n",
       "      <td>CV</td>\n",
       "      <td>food</td>\n",
       "      <td>timelinetone</td>\n",
       "    </tr>\n",
       "    <tr>\n",
       "      <th>1</th>\n",
       "      <td>2020-01-02</td>\n",
       "      <td>Average Tone</td>\n",
       "      <td>-3.3071</td>\n",
       "      <td>CV</td>\n",
       "      <td>food</td>\n",
       "      <td>timelinetone</td>\n",
       "    </tr>\n",
       "    <tr>\n",
       "      <th>2</th>\n",
       "      <td>2020-01-03</td>\n",
       "      <td>Average Tone</td>\n",
       "      <td>0.0000</td>\n",
       "      <td>CV</td>\n",
       "      <td>food</td>\n",
       "      <td>timelinetone</td>\n",
       "    </tr>\n",
       "    <tr>\n",
       "      <th>3</th>\n",
       "      <td>2020-01-04</td>\n",
       "      <td>Average Tone</td>\n",
       "      <td>0.0000</td>\n",
       "      <td>CV</td>\n",
       "      <td>food</td>\n",
       "      <td>timelinetone</td>\n",
       "    </tr>\n",
       "    <tr>\n",
       "      <th>4</th>\n",
       "      <td>2020-01-05</td>\n",
       "      <td>Average Tone</td>\n",
       "      <td>0.0000</td>\n",
       "      <td>CV</td>\n",
       "      <td>food</td>\n",
       "      <td>timelinetone</td>\n",
       "    </tr>\n",
       "    <tr>\n",
       "      <th>...</th>\n",
       "      <td>...</td>\n",
       "      <td>...</td>\n",
       "      <td>...</td>\n",
       "      <td>...</td>\n",
       "      <td>...</td>\n",
       "      <td>...</td>\n",
       "    </tr>\n",
       "    <tr>\n",
       "      <th>1393</th>\n",
       "      <td>2023-10-27</td>\n",
       "      <td>Average Tone</td>\n",
       "      <td>-4.3418</td>\n",
       "      <td>SI</td>\n",
       "      <td>food</td>\n",
       "      <td>timelinetone</td>\n",
       "    </tr>\n",
       "    <tr>\n",
       "      <th>1394</th>\n",
       "      <td>2023-10-28</td>\n",
       "      <td>Average Tone</td>\n",
       "      <td>-2.1853</td>\n",
       "      <td>SI</td>\n",
       "      <td>food</td>\n",
       "      <td>timelinetone</td>\n",
       "    </tr>\n",
       "    <tr>\n",
       "      <th>1395</th>\n",
       "      <td>2023-10-29</td>\n",
       "      <td>Average Tone</td>\n",
       "      <td>-0.4722</td>\n",
       "      <td>SI</td>\n",
       "      <td>food</td>\n",
       "      <td>timelinetone</td>\n",
       "    </tr>\n",
       "    <tr>\n",
       "      <th>1396</th>\n",
       "      <td>2023-10-30</td>\n",
       "      <td>Average Tone</td>\n",
       "      <td>-1.8085</td>\n",
       "      <td>SI</td>\n",
       "      <td>food</td>\n",
       "      <td>timelinetone</td>\n",
       "    </tr>\n",
       "    <tr>\n",
       "      <th>1397</th>\n",
       "      <td>2023-10-31</td>\n",
       "      <td>Average Tone</td>\n",
       "      <td>-0.0121</td>\n",
       "      <td>SI</td>\n",
       "      <td>food</td>\n",
       "      <td>timelinetone</td>\n",
       "    </tr>\n",
       "  </tbody>\n",
       "</table>\n",
       "<p>306162 rows × 6 columns</p>\n",
       "</div>"
      ],
      "text/plain": [
       "            Date        Series   Value fips query      api_mode\n",
       "0     2020-01-01  Average Tone  0.9926   CV  food  timelinetone\n",
       "1     2020-01-02  Average Tone -3.3071   CV  food  timelinetone\n",
       "2     2020-01-03  Average Tone  0.0000   CV  food  timelinetone\n",
       "3     2020-01-04  Average Tone  0.0000   CV  food  timelinetone\n",
       "4     2020-01-05  Average Tone  0.0000   CV  food  timelinetone\n",
       "...          ...           ...     ...  ...   ...           ...\n",
       "1393  2023-10-27  Average Tone -4.3418   SI  food  timelinetone\n",
       "1394  2023-10-28  Average Tone -2.1853   SI  food  timelinetone\n",
       "1395  2023-10-29  Average Tone -0.4722   SI  food  timelinetone\n",
       "1396  2023-10-30  Average Tone -1.8085   SI  food  timelinetone\n",
       "1397  2023-10-31  Average Tone -0.0121   SI  food  timelinetone\n",
       "\n",
       "[306162 rows x 6 columns]"
      ]
     },
     "execution_count": 9,
     "metadata": {},
     "output_type": "execute_result"
    }
   ],
   "source": [
    "_df_tone = pd.read_feather(datasets[0])\n",
    "_df_tone"
   ]
  },
  {
   "cell_type": "code",
   "execution_count": 10,
   "id": "332479b7-7f4c-4761-8fe2-f3430088a905",
   "metadata": {
    "tags": []
   },
   "outputs": [
    {
     "data": {
      "text/html": [
       "<div>\n",
       "<style scoped>\n",
       "    .dataframe tbody tr th:only-of-type {\n",
       "        vertical-align: middle;\n",
       "    }\n",
       "\n",
       "    .dataframe tbody tr th {\n",
       "        vertical-align: top;\n",
       "    }\n",
       "\n",
       "    .dataframe thead th {\n",
       "        text-align: right;\n",
       "    }\n",
       "</style>\n",
       "<table border=\"1\" class=\"dataframe\">\n",
       "  <thead>\n",
       "    <tr style=\"text-align: right;\">\n",
       "      <th></th>\n",
       "      <th>Date</th>\n",
       "      <th>Series</th>\n",
       "      <th>Value</th>\n",
       "      <th>fips</th>\n",
       "      <th>query</th>\n",
       "      <th>api_mode</th>\n",
       "    </tr>\n",
       "  </thead>\n",
       "  <tbody>\n",
       "    <tr>\n",
       "      <th>0</th>\n",
       "      <td>2020-01-01</td>\n",
       "      <td>Volume Intensity</td>\n",
       "      <td>0.0000</td>\n",
       "      <td>AY</td>\n",
       "      <td>food</td>\n",
       "      <td>volumeintensity</td>\n",
       "    </tr>\n",
       "    <tr>\n",
       "      <th>1</th>\n",
       "      <td>2020-01-02</td>\n",
       "      <td>Volume Intensity</td>\n",
       "      <td>0.0000</td>\n",
       "      <td>AY</td>\n",
       "      <td>food</td>\n",
       "      <td>volumeintensity</td>\n",
       "    </tr>\n",
       "    <tr>\n",
       "      <th>2</th>\n",
       "      <td>2020-01-03</td>\n",
       "      <td>Volume Intensity</td>\n",
       "      <td>0.0000</td>\n",
       "      <td>AY</td>\n",
       "      <td>food</td>\n",
       "      <td>volumeintensity</td>\n",
       "    </tr>\n",
       "    <tr>\n",
       "      <th>3</th>\n",
       "      <td>2020-01-04</td>\n",
       "      <td>Volume Intensity</td>\n",
       "      <td>0.0000</td>\n",
       "      <td>AY</td>\n",
       "      <td>food</td>\n",
       "      <td>volumeintensity</td>\n",
       "    </tr>\n",
       "    <tr>\n",
       "      <th>4</th>\n",
       "      <td>2020-01-05</td>\n",
       "      <td>Volume Intensity</td>\n",
       "      <td>0.0000</td>\n",
       "      <td>AY</td>\n",
       "      <td>food</td>\n",
       "      <td>volumeintensity</td>\n",
       "    </tr>\n",
       "    <tr>\n",
       "      <th>...</th>\n",
       "      <td>...</td>\n",
       "      <td>...</td>\n",
       "      <td>...</td>\n",
       "      <td>...</td>\n",
       "      <td>...</td>\n",
       "      <td>...</td>\n",
       "    </tr>\n",
       "    <tr>\n",
       "      <th>1393</th>\n",
       "      <td>2023-10-27</td>\n",
       "      <td>Volume Intensity</td>\n",
       "      <td>0.0023</td>\n",
       "      <td>SU</td>\n",
       "      <td>food</td>\n",
       "      <td>volumeintensity</td>\n",
       "    </tr>\n",
       "    <tr>\n",
       "      <th>1394</th>\n",
       "      <td>2023-10-28</td>\n",
       "      <td>Volume Intensity</td>\n",
       "      <td>0.0014</td>\n",
       "      <td>SU</td>\n",
       "      <td>food</td>\n",
       "      <td>volumeintensity</td>\n",
       "    </tr>\n",
       "    <tr>\n",
       "      <th>1395</th>\n",
       "      <td>2023-10-29</td>\n",
       "      <td>Volume Intensity</td>\n",
       "      <td>0.0054</td>\n",
       "      <td>SU</td>\n",
       "      <td>food</td>\n",
       "      <td>volumeintensity</td>\n",
       "    </tr>\n",
       "    <tr>\n",
       "      <th>1396</th>\n",
       "      <td>2023-10-30</td>\n",
       "      <td>Volume Intensity</td>\n",
       "      <td>0.0038</td>\n",
       "      <td>SU</td>\n",
       "      <td>food</td>\n",
       "      <td>volumeintensity</td>\n",
       "    </tr>\n",
       "    <tr>\n",
       "      <th>1397</th>\n",
       "      <td>2023-10-31</td>\n",
       "      <td>Volume Intensity</td>\n",
       "      <td>0.0024</td>\n",
       "      <td>SU</td>\n",
       "      <td>food</td>\n",
       "      <td>volumeintensity</td>\n",
       "    </tr>\n",
       "  </tbody>\n",
       "</table>\n",
       "<p>306162 rows × 6 columns</p>\n",
       "</div>"
      ],
      "text/plain": [
       "            Date            Series   Value fips query         api_mode\n",
       "0     2020-01-01  Volume Intensity  0.0000   AY  food  volumeintensity\n",
       "1     2020-01-02  Volume Intensity  0.0000   AY  food  volumeintensity\n",
       "2     2020-01-03  Volume Intensity  0.0000   AY  food  volumeintensity\n",
       "3     2020-01-04  Volume Intensity  0.0000   AY  food  volumeintensity\n",
       "4     2020-01-05  Volume Intensity  0.0000   AY  food  volumeintensity\n",
       "...          ...               ...     ...  ...   ...              ...\n",
       "1393  2023-10-27  Volume Intensity  0.0023   SU  food  volumeintensity\n",
       "1394  2023-10-28  Volume Intensity  0.0014   SU  food  volumeintensity\n",
       "1395  2023-10-29  Volume Intensity  0.0054   SU  food  volumeintensity\n",
       "1396  2023-10-30  Volume Intensity  0.0038   SU  food  volumeintensity\n",
       "1397  2023-10-31  Volume Intensity  0.0024   SU  food  volumeintensity\n",
       "\n",
       "[306162 rows x 6 columns]"
      ]
     },
     "execution_count": 10,
     "metadata": {},
     "output_type": "execute_result"
    }
   ],
   "source": [
    "_df_vol = pd.read_feather(datasets[1])\n",
    "_df_vol"
   ]
  },
  {
   "cell_type": "code",
   "execution_count": 11,
   "id": "95cdd351-a233-4722-affd-f909b90a0e34",
   "metadata": {
    "tags": []
   },
   "outputs": [
    {
     "data": {
      "text/html": [
       "<div>\n",
       "<style scoped>\n",
       "    .dataframe tbody tr th:only-of-type {\n",
       "        vertical-align: middle;\n",
       "    }\n",
       "\n",
       "    .dataframe tbody tr th {\n",
       "        vertical-align: top;\n",
       "    }\n",
       "\n",
       "    .dataframe thead th {\n",
       "        text-align: right;\n",
       "    }\n",
       "</style>\n",
       "<table border=\"1\" class=\"dataframe\">\n",
       "  <thead>\n",
       "    <tr style=\"text-align: right;\">\n",
       "      <th></th>\n",
       "      <th>URL</th>\n",
       "      <th>MobileURL</th>\n",
       "      <th>Date</th>\n",
       "      <th>Title</th>\n",
       "      <th>fips</th>\n",
       "      <th>query</th>\n",
       "      <th>api_mode</th>\n",
       "    </tr>\n",
       "  </thead>\n",
       "  <tbody>\n",
       "    <tr>\n",
       "      <th>0</th>\n",
       "      <td>https://lapagina.com.sv/nacionales/impulsan-la...</td>\n",
       "      <td>None</td>\n",
       "      <td>2023-08-09 23:45:00</td>\n",
       "      <td>Impulsan la inocuidad alimentaria con el progr...</td>\n",
       "      <td>ES</td>\n",
       "      <td>food</td>\n",
       "      <td>artlist</td>\n",
       "    </tr>\n",
       "    <tr>\n",
       "      <th>1</th>\n",
       "      <td>https://lapagina.com.sv/nacionales/anuncian-la...</td>\n",
       "      <td>None</td>\n",
       "      <td>2023-09-07 20:30:00</td>\n",
       "      <td>Anuncian la construcción de la primera central...</td>\n",
       "      <td>ES</td>\n",
       "      <td>food</td>\n",
       "      <td>artlist</td>\n",
       "    </tr>\n",
       "    <tr>\n",
       "      <th>2</th>\n",
       "      <td>https://lapagina.com.sv/nacionales/asamblea-ap...</td>\n",
       "      <td>None</td>\n",
       "      <td>2023-08-24 19:15:00</td>\n",
       "      <td>Asamblea aprueba que Policías continúen recibi...</td>\n",
       "      <td>ES</td>\n",
       "      <td>food</td>\n",
       "      <td>artlist</td>\n",
       "    </tr>\n",
       "    <tr>\n",
       "      <th>3</th>\n",
       "      <td>https://lapagina.com.sv/nacionales/fosalud-org...</td>\n",
       "      <td>None</td>\n",
       "      <td>2023-08-17 15:45:00</td>\n",
       "      <td>Fosalud organiza actividades para difundir la ...</td>\n",
       "      <td>ES</td>\n",
       "      <td>food</td>\n",
       "      <td>artlist</td>\n",
       "    </tr>\n",
       "    <tr>\n",
       "      <th>4</th>\n",
       "      <td>https://lapagina.com.sv/nacionales/pescadores-...</td>\n",
       "      <td>None</td>\n",
       "      <td>2023-09-15 17:15:00</td>\n",
       "      <td>Pescadores de Usulután reciben insumos y paque...</td>\n",
       "      <td>ES</td>\n",
       "      <td>food</td>\n",
       "      <td>artlist</td>\n",
       "    </tr>\n",
       "    <tr>\n",
       "      <th>...</th>\n",
       "      <td>...</td>\n",
       "      <td>...</td>\n",
       "      <td>...</td>\n",
       "      <td>...</td>\n",
       "      <td>...</td>\n",
       "      <td>...</td>\n",
       "      <td>...</td>\n",
       "    </tr>\n",
       "    <tr>\n",
       "      <th>5</th>\n",
       "      <td>http://www.alwatwan.net/economie/premi%C3%A8re...</td>\n",
       "      <td>None</td>\n",
       "      <td>2023-09-13 07:00:00</td>\n",
       "      <td>Premières journées scientifiques de lInrape I ...</td>\n",
       "      <td>CN</td>\n",
       "      <td>food</td>\n",
       "      <td>artlist</td>\n",
       "    </tr>\n",
       "    <tr>\n",
       "      <th>6</th>\n",
       "      <td>http://www.alwatwan.net/societe/coupures-d%E2%...</td>\n",
       "      <td>None</td>\n",
       "      <td>2023-10-13 04:45:00</td>\n",
       "      <td>Coupures d  électricité à Ngazidja I Des entre...</td>\n",
       "      <td>CN</td>\n",
       "      <td>food</td>\n",
       "      <td>artlist</td>\n",
       "    </tr>\n",
       "    <tr>\n",
       "      <th>7</th>\n",
       "      <td>http://www.alwatwan.net/politique/78%C3%A8me-a...</td>\n",
       "      <td>None</td>\n",
       "      <td>2023-09-22 06:15:00</td>\n",
       "      <td>78ème Assemblée Générale des Nations Unies I L...</td>\n",
       "      <td>CN</td>\n",
       "      <td>food</td>\n",
       "      <td>artlist</td>\n",
       "    </tr>\n",
       "    <tr>\n",
       "      <th>0</th>\n",
       "      <td>https://www.gov.ms/2023/09/20/post-cabinet-pre...</td>\n",
       "      <td>None</td>\n",
       "      <td>2023-09-20 23:00:00</td>\n",
       "      <td>POST CABINET PRESS NOTES FOR 14TH SEPTEMBER 2023</td>\n",
       "      <td>MH</td>\n",
       "      <td>food</td>\n",
       "      <td>artlist</td>\n",
       "    </tr>\n",
       "    <tr>\n",
       "      <th>1</th>\n",
       "      <td>https://www.gov.ms/2023/08/18/eight-individual...</td>\n",
       "      <td>None</td>\n",
       "      <td>2023-08-18 16:45:00</td>\n",
       "      <td>Eight Individuals Awarded Government of Montse...</td>\n",
       "      <td>MH</td>\n",
       "      <td>food</td>\n",
       "      <td>artlist</td>\n",
       "    </tr>\n",
       "  </tbody>\n",
       "</table>\n",
       "<p>12816 rows × 7 columns</p>\n",
       "</div>"
      ],
      "text/plain": [
       "                                                  URL MobileURL  \\\n",
       "0   https://lapagina.com.sv/nacionales/impulsan-la...      None   \n",
       "1   https://lapagina.com.sv/nacionales/anuncian-la...      None   \n",
       "2   https://lapagina.com.sv/nacionales/asamblea-ap...      None   \n",
       "3   https://lapagina.com.sv/nacionales/fosalud-org...      None   \n",
       "4   https://lapagina.com.sv/nacionales/pescadores-...      None   \n",
       "..                                                ...       ...   \n",
       "5   http://www.alwatwan.net/economie/premi%C3%A8re...      None   \n",
       "6   http://www.alwatwan.net/societe/coupures-d%E2%...      None   \n",
       "7   http://www.alwatwan.net/politique/78%C3%A8me-a...      None   \n",
       "0   https://www.gov.ms/2023/09/20/post-cabinet-pre...      None   \n",
       "1   https://www.gov.ms/2023/08/18/eight-individual...      None   \n",
       "\n",
       "                   Date                                              Title  \\\n",
       "0   2023-08-09 23:45:00  Impulsan la inocuidad alimentaria con el progr...   \n",
       "1   2023-09-07 20:30:00  Anuncian la construcción de la primera central...   \n",
       "2   2023-08-24 19:15:00  Asamblea aprueba que Policías continúen recibi...   \n",
       "3   2023-08-17 15:45:00  Fosalud organiza actividades para difundir la ...   \n",
       "4   2023-09-15 17:15:00  Pescadores de Usulután reciben insumos y paque...   \n",
       "..                  ...                                                ...   \n",
       "5   2023-09-13 07:00:00  Premières journées scientifiques de lInrape I ...   \n",
       "6   2023-10-13 04:45:00  Coupures d  électricité à Ngazidja I Des entre...   \n",
       "7   2023-09-22 06:15:00  78ème Assemblée Générale des Nations Unies I L...   \n",
       "0   2023-09-20 23:00:00   POST CABINET PRESS NOTES FOR 14TH SEPTEMBER 2023   \n",
       "1   2023-08-18 16:45:00  Eight Individuals Awarded Government of Montse...   \n",
       "\n",
       "   fips query api_mode  \n",
       "0    ES  food  artlist  \n",
       "1    ES  food  artlist  \n",
       "2    ES  food  artlist  \n",
       "3    ES  food  artlist  \n",
       "4    ES  food  artlist  \n",
       "..  ...   ...      ...  \n",
       "5    CN  food  artlist  \n",
       "6    CN  food  artlist  \n",
       "7    CN  food  artlist  \n",
       "0    MH  food  artlist  \n",
       "1    MH  food  artlist  \n",
       "\n",
       "[12816 rows x 7 columns]"
      ]
     },
     "execution_count": 11,
     "metadata": {},
     "output_type": "execute_result"
    }
   ],
   "source": [
    "_df_art = pd.read_feather(datasets[2])\n",
    "_df_art"
   ]
  },
  {
   "cell_type": "code",
   "execution_count": 12,
   "id": "de1feeae-7f53-4525-92ad-518ea01aae77",
   "metadata": {
    "tags": []
   },
   "outputs": [
    {
     "data": {
      "text/html": [
       "<div>\n",
       "<style scoped>\n",
       "    .dataframe tbody tr th:only-of-type {\n",
       "        vertical-align: middle;\n",
       "    }\n",
       "\n",
       "    .dataframe tbody tr th {\n",
       "        vertical-align: top;\n",
       "    }\n",
       "\n",
       "    .dataframe thead th {\n",
       "        text-align: right;\n",
       "    }\n",
       "</style>\n",
       "<table border=\"1\" class=\"dataframe\">\n",
       "  <thead>\n",
       "    <tr style=\"text-align: right;\">\n",
       "      <th></th>\n",
       "      <th>Date</th>\n",
       "      <th>Series</th>\n",
       "      <th>Value</th>\n",
       "      <th>fips</th>\n",
       "      <th>query</th>\n",
       "      <th>api_mode</th>\n",
       "    </tr>\n",
       "  </thead>\n",
       "  <tbody>\n",
       "    <tr>\n",
       "      <th>0</th>\n",
       "      <td>2020-01-01</td>\n",
       "      <td>Article Count</td>\n",
       "      <td>1.0</td>\n",
       "      <td>CK</td>\n",
       "      <td>food</td>\n",
       "      <td>timelinevolraw</td>\n",
       "    </tr>\n",
       "    <tr>\n",
       "      <th>1</th>\n",
       "      <td>2020-01-01</td>\n",
       "      <td>Total Monitored Articles</td>\n",
       "      <td>262970.0</td>\n",
       "      <td>CK</td>\n",
       "      <td>food</td>\n",
       "      <td>timelinevolraw</td>\n",
       "    </tr>\n",
       "    <tr>\n",
       "      <th>2</th>\n",
       "      <td>2020-01-02</td>\n",
       "      <td>Article Count</td>\n",
       "      <td>5.0</td>\n",
       "      <td>CK</td>\n",
       "      <td>food</td>\n",
       "      <td>timelinevolraw</td>\n",
       "    </tr>\n",
       "    <tr>\n",
       "      <th>3</th>\n",
       "      <td>2020-01-02</td>\n",
       "      <td>Total Monitored Articles</td>\n",
       "      <td>389269.0</td>\n",
       "      <td>CK</td>\n",
       "      <td>food</td>\n",
       "      <td>timelinevolraw</td>\n",
       "    </tr>\n",
       "    <tr>\n",
       "      <th>4</th>\n",
       "      <td>2020-01-03</td>\n",
       "      <td>Article Count</td>\n",
       "      <td>1.0</td>\n",
       "      <td>CK</td>\n",
       "      <td>food</td>\n",
       "      <td>timelinevolraw</td>\n",
       "    </tr>\n",
       "    <tr>\n",
       "      <th>...</th>\n",
       "      <td>...</td>\n",
       "      <td>...</td>\n",
       "      <td>...</td>\n",
       "      <td>...</td>\n",
       "      <td>...</td>\n",
       "      <td>...</td>\n",
       "    </tr>\n",
       "    <tr>\n",
       "      <th>2791</th>\n",
       "      <td>2023-10-29</td>\n",
       "      <td>Total Monitored Articles</td>\n",
       "      <td>110515.0</td>\n",
       "      <td>NP</td>\n",
       "      <td>food</td>\n",
       "      <td>timelinevolraw</td>\n",
       "    </tr>\n",
       "    <tr>\n",
       "      <th>2792</th>\n",
       "      <td>2023-10-30</td>\n",
       "      <td>Article Count</td>\n",
       "      <td>12.0</td>\n",
       "      <td>NP</td>\n",
       "      <td>food</td>\n",
       "      <td>timelinevolraw</td>\n",
       "    </tr>\n",
       "    <tr>\n",
       "      <th>2793</th>\n",
       "      <td>2023-10-30</td>\n",
       "      <td>Total Monitored Articles</td>\n",
       "      <td>129977.0</td>\n",
       "      <td>NP</td>\n",
       "      <td>food</td>\n",
       "      <td>timelinevolraw</td>\n",
       "    </tr>\n",
       "    <tr>\n",
       "      <th>2794</th>\n",
       "      <td>2023-10-31</td>\n",
       "      <td>Article Count</td>\n",
       "      <td>35.0</td>\n",
       "      <td>NP</td>\n",
       "      <td>food</td>\n",
       "      <td>timelinevolraw</td>\n",
       "    </tr>\n",
       "    <tr>\n",
       "      <th>2795</th>\n",
       "      <td>2023-10-31</td>\n",
       "      <td>Total Monitored Articles</td>\n",
       "      <td>169323.0</td>\n",
       "      <td>NP</td>\n",
       "      <td>food</td>\n",
       "      <td>timelinevolraw</td>\n",
       "    </tr>\n",
       "  </tbody>\n",
       "</table>\n",
       "<p>612324 rows × 6 columns</p>\n",
       "</div>"
      ],
      "text/plain": [
       "            Date                    Series     Value fips query  \\\n",
       "0     2020-01-01             Article Count       1.0   CK  food   \n",
       "1     2020-01-01  Total Monitored Articles  262970.0   CK  food   \n",
       "2     2020-01-02             Article Count       5.0   CK  food   \n",
       "3     2020-01-02  Total Monitored Articles  389269.0   CK  food   \n",
       "4     2020-01-03             Article Count       1.0   CK  food   \n",
       "...          ...                       ...       ...  ...   ...   \n",
       "2791  2023-10-29  Total Monitored Articles  110515.0   NP  food   \n",
       "2792  2023-10-30             Article Count      12.0   NP  food   \n",
       "2793  2023-10-30  Total Monitored Articles  129977.0   NP  food   \n",
       "2794  2023-10-31             Article Count      35.0   NP  food   \n",
       "2795  2023-10-31  Total Monitored Articles  169323.0   NP  food   \n",
       "\n",
       "            api_mode  \n",
       "0     timelinevolraw  \n",
       "1     timelinevolraw  \n",
       "2     timelinevolraw  \n",
       "3     timelinevolraw  \n",
       "4     timelinevolraw  \n",
       "...              ...  \n",
       "2791  timelinevolraw  \n",
       "2792  timelinevolraw  \n",
       "2793  timelinevolraw  \n",
       "2794  timelinevolraw  \n",
       "2795  timelinevolraw  \n",
       "\n",
       "[612324 rows x 6 columns]"
      ]
     },
     "execution_count": 12,
     "metadata": {},
     "output_type": "execute_result"
    }
   ],
   "source": [
    "_df_volraw = pd.read_feather(datasets[3])\n",
    "_df_volraw"
   ]
  },
  {
   "cell_type": "code",
   "execution_count": 13,
   "id": "3a2c8b41-e93b-4b72-b2c7-be2491914f95",
   "metadata": {
    "tags": []
   },
   "outputs": [],
   "source": [
    "def mutate_vol_df(df):\n",
    "    df['Date'] = pd.to_datetime(df['Date'])\n",
    "    df.index = df['Date']\n",
    "    df['iso3'] = df['fips'].map(iso3_mapper)\n",
    "    df['Value_scaled'] = df.groupby('iso3')['Value'].transform(lambda x: scale(x))\n",
    "    \n",
    "    df_vol = df.groupby(['query', 'iso3', pd.Grouper(freq='M')]).sum(numeric_only=True).reset_index()\n",
    "    df_vol['Date'] = df_vol['Date'].dt.normalize().map(lambda x : x.replace(day=1))\n",
    "    df_vol = df_vol.rename(columns={'Value': 'timelinevol_orig', 'Value_scaled': 'timelinevol'})\n",
    "    df_vol = df_vol.drop(columns=['query'])\n",
    "    return df_vol"
   ]
  },
  {
   "cell_type": "code",
   "execution_count": 14,
   "id": "631245d6-1735-4d38-ad18-85b3506953ca",
   "metadata": {
    "tags": []
   },
   "outputs": [],
   "source": [
    "def mutate_tone_df(df):\n",
    "    df['Date'] = pd.to_datetime(df['Date'])\n",
    "    df.index = df['Date']\n",
    "    df['iso3'] = df['fips'].map(iso3_mapper)\n",
    "    df['Value_scaled'] = df.groupby('iso3')['Value'].transform(lambda x: scale(x))\n",
    "\n",
    "    df_tone = df.groupby(['query', 'iso3', pd.Grouper(freq='M')]).sum(numeric_only=True).reset_index()\n",
    "    df_tone['Date'] = df_tone['Date'].dt.normalize().map(lambda x : x.replace(day=1))\n",
    "    df_tone = df_tone.rename(columns={'Value': 'timelinetone_orig', 'Value_scaled': 'timelinetone'})\n",
    "    df_tone = df_tone.drop(columns=['query'])\n",
    "    return df_tone"
   ]
  },
  {
   "cell_type": "code",
   "execution_count": 15,
   "id": "9b350508-f1da-49f0-b921-e5777acdd042",
   "metadata": {
    "tags": []
   },
   "outputs": [],
   "source": [
    "def mutate_cpi_df(df):\n",
    "    df = df[df['Item'] == 'Food price inflation']\n",
    "    df_fp = df[['Year', 'Months', 'Area Code (M49)', 'Area', 'Value']]\n",
    "    df_fp['Date'] = pd.to_datetime(df_fp['Year'].astype(str) + ' ' + df_fp['Months']).dt.normalize()\n",
    "    df_fp['cpi_orig'] = df_fp['Value'].astype(float)\n",
    "    df_fp['iso3'] = df_fp['Area Code (M49)'].map(iso3_mapper)\n",
    "    df_fp['cpi'] = df_fp.groupby('iso3')['cpi_orig'].transform(lambda x: scale(x))\n",
    "\n",
    "    return df_fp[['Date', 'iso3', 'cpi', 'cpi_orig']]"
   ]
  },
  {
   "cell_type": "code",
   "execution_count": 16,
   "id": "b9f18865-3093-4a4f-8b90-5f604622b0a0",
   "metadata": {
    "tags": []
   },
   "outputs": [],
   "source": [
    "_df_fp = pd.read_csv(files_dir / 'FAOSTAT_data_en_.csv')\n",
    "df_fp = mutate_cpi_df(_df_fp)"
   ]
  },
  {
   "cell_type": "code",
   "execution_count": 17,
   "id": "85a29b52-ecf5-4c7d-b673-4c10e61f43e0",
   "metadata": {
    "tags": []
   },
   "outputs": [],
   "source": [
    "df_vol = mutate_vol_df(_df_vol)\n",
    "df_tone = mutate_tone_df(_df_tone)"
   ]
  },
  {
   "cell_type": "code",
   "execution_count": 18,
   "id": "4af5803a-c54a-4d68-92fe-c8334afa4593",
   "metadata": {
    "tags": []
   },
   "outputs": [
    {
     "data": {
      "text/html": [
       "<div>\n",
       "<style scoped>\n",
       "    .dataframe tbody tr th:only-of-type {\n",
       "        vertical-align: middle;\n",
       "    }\n",
       "\n",
       "    .dataframe tbody tr th {\n",
       "        vertical-align: top;\n",
       "    }\n",
       "\n",
       "    .dataframe thead th {\n",
       "        text-align: right;\n",
       "    }\n",
       "</style>\n",
       "<table border=\"1\" class=\"dataframe\">\n",
       "  <thead>\n",
       "    <tr style=\"text-align: right;\">\n",
       "      <th></th>\n",
       "      <th>iso3</th>\n",
       "      <th>Date</th>\n",
       "      <th>timelinevol_orig</th>\n",
       "      <th>timelinevol</th>\n",
       "    </tr>\n",
       "  </thead>\n",
       "  <tbody>\n",
       "    <tr>\n",
       "      <th>0</th>\n",
       "      <td>ABW</td>\n",
       "      <td>2020-01-01</td>\n",
       "      <td>0.0000</td>\n",
       "      <td>-1.161558</td>\n",
       "    </tr>\n",
       "    <tr>\n",
       "      <th>1</th>\n",
       "      <td>ABW</td>\n",
       "      <td>2020-02-01</td>\n",
       "      <td>0.0000</td>\n",
       "      <td>-1.086619</td>\n",
       "    </tr>\n",
       "    <tr>\n",
       "      <th>2</th>\n",
       "      <td>ABW</td>\n",
       "      <td>2020-03-01</td>\n",
       "      <td>0.0000</td>\n",
       "      <td>-1.161558</td>\n",
       "    </tr>\n",
       "    <tr>\n",
       "      <th>3</th>\n",
       "      <td>ABW</td>\n",
       "      <td>2020-04-01</td>\n",
       "      <td>0.0000</td>\n",
       "      <td>-1.124088</td>\n",
       "    </tr>\n",
       "    <tr>\n",
       "      <th>4</th>\n",
       "      <td>ABW</td>\n",
       "      <td>2020-05-01</td>\n",
       "      <td>0.0000</td>\n",
       "      <td>-1.161558</td>\n",
       "    </tr>\n",
       "    <tr>\n",
       "      <th>...</th>\n",
       "      <td>...</td>\n",
       "      <td>...</td>\n",
       "      <td>...</td>\n",
       "      <td>...</td>\n",
       "    </tr>\n",
       "    <tr>\n",
       "      <th>10069</th>\n",
       "      <td>ZWE</td>\n",
       "      <td>2023-06-01</td>\n",
       "      <td>0.2061</td>\n",
       "      <td>11.142314</td>\n",
       "    </tr>\n",
       "    <tr>\n",
       "      <th>10070</th>\n",
       "      <td>ZWE</td>\n",
       "      <td>2023-07-01</td>\n",
       "      <td>0.2399</td>\n",
       "      <td>21.378492</td>\n",
       "    </tr>\n",
       "    <tr>\n",
       "      <th>10071</th>\n",
       "      <td>ZWE</td>\n",
       "      <td>2023-08-01</td>\n",
       "      <td>0.2346</td>\n",
       "      <td>19.437041</td>\n",
       "    </tr>\n",
       "    <tr>\n",
       "      <th>10072</th>\n",
       "      <td>ZWE</td>\n",
       "      <td>2023-09-01</td>\n",
       "      <td>0.2097</td>\n",
       "      <td>12.461035</td>\n",
       "    </tr>\n",
       "    <tr>\n",
       "      <th>10073</th>\n",
       "      <td>ZWE</td>\n",
       "      <td>2023-10-01</td>\n",
       "      <td>0.2424</td>\n",
       "      <td>22.294271</td>\n",
       "    </tr>\n",
       "  </tbody>\n",
       "</table>\n",
       "<p>10074 rows × 4 columns</p>\n",
       "</div>"
      ],
      "text/plain": [
       "      iso3       Date  timelinevol_orig  timelinevol\n",
       "0      ABW 2020-01-01            0.0000    -1.161558\n",
       "1      ABW 2020-02-01            0.0000    -1.086619\n",
       "2      ABW 2020-03-01            0.0000    -1.161558\n",
       "3      ABW 2020-04-01            0.0000    -1.124088\n",
       "4      ABW 2020-05-01            0.0000    -1.161558\n",
       "...    ...        ...               ...          ...\n",
       "10069  ZWE 2023-06-01            0.2061    11.142314\n",
       "10070  ZWE 2023-07-01            0.2399    21.378492\n",
       "10071  ZWE 2023-08-01            0.2346    19.437041\n",
       "10072  ZWE 2023-09-01            0.2097    12.461035\n",
       "10073  ZWE 2023-10-01            0.2424    22.294271\n",
       "\n",
       "[10074 rows x 4 columns]"
      ]
     },
     "execution_count": 18,
     "metadata": {},
     "output_type": "execute_result"
    }
   ],
   "source": [
    "df_vol"
   ]
  },
  {
   "cell_type": "code",
   "execution_count": 19,
   "id": "ca190a7d-94b0-449a-b7c7-e7e03b627d3d",
   "metadata": {
    "tags": []
   },
   "outputs": [
    {
     "data": {
      "text/html": [
       "<div>\n",
       "<style scoped>\n",
       "    .dataframe tbody tr th:only-of-type {\n",
       "        vertical-align: middle;\n",
       "    }\n",
       "\n",
       "    .dataframe tbody tr th {\n",
       "        vertical-align: top;\n",
       "    }\n",
       "\n",
       "    .dataframe thead th {\n",
       "        text-align: right;\n",
       "    }\n",
       "</style>\n",
       "<table border=\"1\" class=\"dataframe\">\n",
       "  <thead>\n",
       "    <tr style=\"text-align: right;\">\n",
       "      <th></th>\n",
       "      <th>iso3</th>\n",
       "      <th>Date</th>\n",
       "      <th>timelinetone_orig</th>\n",
       "      <th>timelinetone</th>\n",
       "    </tr>\n",
       "  </thead>\n",
       "  <tbody>\n",
       "    <tr>\n",
       "      <th>0</th>\n",
       "      <td>ABW</td>\n",
       "      <td>2020-01-01</td>\n",
       "      <td>0.0000</td>\n",
       "      <td>1.051377</td>\n",
       "    </tr>\n",
       "    <tr>\n",
       "      <th>1</th>\n",
       "      <td>ABW</td>\n",
       "      <td>2020-02-01</td>\n",
       "      <td>0.0000</td>\n",
       "      <td>0.983546</td>\n",
       "    </tr>\n",
       "    <tr>\n",
       "      <th>2</th>\n",
       "      <td>ABW</td>\n",
       "      <td>2020-03-01</td>\n",
       "      <td>0.0000</td>\n",
       "      <td>1.051377</td>\n",
       "    </tr>\n",
       "    <tr>\n",
       "      <th>3</th>\n",
       "      <td>ABW</td>\n",
       "      <td>2020-04-01</td>\n",
       "      <td>0.0000</td>\n",
       "      <td>1.017462</td>\n",
       "    </tr>\n",
       "    <tr>\n",
       "      <th>4</th>\n",
       "      <td>ABW</td>\n",
       "      <td>2020-05-01</td>\n",
       "      <td>0.0000</td>\n",
       "      <td>1.051377</td>\n",
       "    </tr>\n",
       "    <tr>\n",
       "      <th>...</th>\n",
       "      <td>...</td>\n",
       "      <td>...</td>\n",
       "      <td>...</td>\n",
       "      <td>...</td>\n",
       "    </tr>\n",
       "    <tr>\n",
       "      <th>10069</th>\n",
       "      <td>ZWE</td>\n",
       "      <td>2023-06-01</td>\n",
       "      <td>-22.4871</td>\n",
       "      <td>9.131794</td>\n",
       "    </tr>\n",
       "    <tr>\n",
       "      <th>10070</th>\n",
       "      <td>ZWE</td>\n",
       "      <td>2023-07-01</td>\n",
       "      <td>-2.5441</td>\n",
       "      <td>24.654237</td>\n",
       "    </tr>\n",
       "    <tr>\n",
       "      <th>10071</th>\n",
       "      <td>ZWE</td>\n",
       "      <td>2023-08-01</td>\n",
       "      <td>-18.8438</td>\n",
       "      <td>12.666859</td>\n",
       "    </tr>\n",
       "    <tr>\n",
       "      <th>10072</th>\n",
       "      <td>ZWE</td>\n",
       "      <td>2023-09-01</td>\n",
       "      <td>-2.7245</td>\n",
       "      <td>23.665911</td>\n",
       "    </tr>\n",
       "    <tr>\n",
       "      <th>10073</th>\n",
       "      <td>ZWE</td>\n",
       "      <td>2023-10-01</td>\n",
       "      <td>-28.6756</td>\n",
       "      <td>5.436205</td>\n",
       "    </tr>\n",
       "  </tbody>\n",
       "</table>\n",
       "<p>10074 rows × 4 columns</p>\n",
       "</div>"
      ],
      "text/plain": [
       "      iso3       Date  timelinetone_orig  timelinetone\n",
       "0      ABW 2020-01-01             0.0000      1.051377\n",
       "1      ABW 2020-02-01             0.0000      0.983546\n",
       "2      ABW 2020-03-01             0.0000      1.051377\n",
       "3      ABW 2020-04-01             0.0000      1.017462\n",
       "4      ABW 2020-05-01             0.0000      1.051377\n",
       "...    ...        ...                ...           ...\n",
       "10069  ZWE 2023-06-01           -22.4871      9.131794\n",
       "10070  ZWE 2023-07-01            -2.5441     24.654237\n",
       "10071  ZWE 2023-08-01           -18.8438     12.666859\n",
       "10072  ZWE 2023-09-01            -2.7245     23.665911\n",
       "10073  ZWE 2023-10-01           -28.6756      5.436205\n",
       "\n",
       "[10074 rows x 4 columns]"
      ]
     },
     "execution_count": 19,
     "metadata": {},
     "output_type": "execute_result"
    }
   ],
   "source": [
    "df_tone"
   ]
  },
  {
   "cell_type": "code",
   "execution_count": 20,
   "id": "3db182ee-0a01-48ff-8526-516e5005c210",
   "metadata": {
    "tags": []
   },
   "outputs": [
    {
     "data": {
      "text/html": [
       "<div>\n",
       "<style scoped>\n",
       "    .dataframe tbody tr th:only-of-type {\n",
       "        vertical-align: middle;\n",
       "    }\n",
       "\n",
       "    .dataframe tbody tr th {\n",
       "        vertical-align: top;\n",
       "    }\n",
       "\n",
       "    .dataframe thead th {\n",
       "        text-align: right;\n",
       "    }\n",
       "</style>\n",
       "<table border=\"1\" class=\"dataframe\">\n",
       "  <thead>\n",
       "    <tr style=\"text-align: right;\">\n",
       "      <th></th>\n",
       "      <th>iso3</th>\n",
       "      <th>Date</th>\n",
       "      <th>timelinetone_orig</th>\n",
       "      <th>timelinetone</th>\n",
       "      <th>timelinevol_orig</th>\n",
       "      <th>timelinevol</th>\n",
       "    </tr>\n",
       "  </thead>\n",
       "  <tbody>\n",
       "    <tr>\n",
       "      <th>0</th>\n",
       "      <td>ABW</td>\n",
       "      <td>2020-01-01</td>\n",
       "      <td>0.0000</td>\n",
       "      <td>1.051377</td>\n",
       "      <td>0.0000</td>\n",
       "      <td>-1.161558</td>\n",
       "    </tr>\n",
       "    <tr>\n",
       "      <th>1</th>\n",
       "      <td>ABW</td>\n",
       "      <td>2020-02-01</td>\n",
       "      <td>0.0000</td>\n",
       "      <td>0.983546</td>\n",
       "      <td>0.0000</td>\n",
       "      <td>-1.086619</td>\n",
       "    </tr>\n",
       "    <tr>\n",
       "      <th>2</th>\n",
       "      <td>ABW</td>\n",
       "      <td>2020-03-01</td>\n",
       "      <td>0.0000</td>\n",
       "      <td>1.051377</td>\n",
       "      <td>0.0000</td>\n",
       "      <td>-1.161558</td>\n",
       "    </tr>\n",
       "    <tr>\n",
       "      <th>3</th>\n",
       "      <td>ABW</td>\n",
       "      <td>2020-04-01</td>\n",
       "      <td>0.0000</td>\n",
       "      <td>1.017462</td>\n",
       "      <td>0.0000</td>\n",
       "      <td>-1.124088</td>\n",
       "    </tr>\n",
       "    <tr>\n",
       "      <th>4</th>\n",
       "      <td>ABW</td>\n",
       "      <td>2020-05-01</td>\n",
       "      <td>0.0000</td>\n",
       "      <td>1.051377</td>\n",
       "      <td>0.0000</td>\n",
       "      <td>-1.161558</td>\n",
       "    </tr>\n",
       "    <tr>\n",
       "      <th>...</th>\n",
       "      <td>...</td>\n",
       "      <td>...</td>\n",
       "      <td>...</td>\n",
       "      <td>...</td>\n",
       "      <td>...</td>\n",
       "      <td>...</td>\n",
       "    </tr>\n",
       "    <tr>\n",
       "      <th>10069</th>\n",
       "      <td>ZWE</td>\n",
       "      <td>2023-06-01</td>\n",
       "      <td>-22.4871</td>\n",
       "      <td>9.131794</td>\n",
       "      <td>0.2061</td>\n",
       "      <td>11.142314</td>\n",
       "    </tr>\n",
       "    <tr>\n",
       "      <th>10070</th>\n",
       "      <td>ZWE</td>\n",
       "      <td>2023-07-01</td>\n",
       "      <td>-2.5441</td>\n",
       "      <td>24.654237</td>\n",
       "      <td>0.2399</td>\n",
       "      <td>21.378492</td>\n",
       "    </tr>\n",
       "    <tr>\n",
       "      <th>10071</th>\n",
       "      <td>ZWE</td>\n",
       "      <td>2023-08-01</td>\n",
       "      <td>-18.8438</td>\n",
       "      <td>12.666859</td>\n",
       "      <td>0.2346</td>\n",
       "      <td>19.437041</td>\n",
       "    </tr>\n",
       "    <tr>\n",
       "      <th>10072</th>\n",
       "      <td>ZWE</td>\n",
       "      <td>2023-09-01</td>\n",
       "      <td>-2.7245</td>\n",
       "      <td>23.665911</td>\n",
       "      <td>0.2097</td>\n",
       "      <td>12.461035</td>\n",
       "    </tr>\n",
       "    <tr>\n",
       "      <th>10073</th>\n",
       "      <td>ZWE</td>\n",
       "      <td>2023-10-01</td>\n",
       "      <td>-28.6756</td>\n",
       "      <td>5.436205</td>\n",
       "      <td>0.2424</td>\n",
       "      <td>22.294271</td>\n",
       "    </tr>\n",
       "  </tbody>\n",
       "</table>\n",
       "<p>10074 rows × 6 columns</p>\n",
       "</div>"
      ],
      "text/plain": [
       "      iso3       Date  timelinetone_orig  timelinetone  timelinevol_orig  \\\n",
       "0      ABW 2020-01-01             0.0000      1.051377            0.0000   \n",
       "1      ABW 2020-02-01             0.0000      0.983546            0.0000   \n",
       "2      ABW 2020-03-01             0.0000      1.051377            0.0000   \n",
       "3      ABW 2020-04-01             0.0000      1.017462            0.0000   \n",
       "4      ABW 2020-05-01             0.0000      1.051377            0.0000   \n",
       "...    ...        ...                ...           ...               ...   \n",
       "10069  ZWE 2023-06-01           -22.4871      9.131794            0.2061   \n",
       "10070  ZWE 2023-07-01            -2.5441     24.654237            0.2399   \n",
       "10071  ZWE 2023-08-01           -18.8438     12.666859            0.2346   \n",
       "10072  ZWE 2023-09-01            -2.7245     23.665911            0.2097   \n",
       "10073  ZWE 2023-10-01           -28.6756      5.436205            0.2424   \n",
       "\n",
       "       timelinevol  \n",
       "0        -1.161558  \n",
       "1        -1.086619  \n",
       "2        -1.161558  \n",
       "3        -1.124088  \n",
       "4        -1.161558  \n",
       "...            ...  \n",
       "10069    11.142314  \n",
       "10070    21.378492  \n",
       "10071    19.437041  \n",
       "10072    12.461035  \n",
       "10073    22.294271  \n",
       "\n",
       "[10074 rows x 6 columns]"
      ]
     },
     "execution_count": 20,
     "metadata": {},
     "output_type": "execute_result"
    }
   ],
   "source": [
    "df_gdelt = (df_tone.set_index(['iso3', 'Date'])\n",
    "                   .join(df_vol.set_index(['iso3', 'Date']),\n",
    "                          how='inner')).reset_index()\n",
    "df_gdelt"
   ]
  },
  {
   "cell_type": "code",
   "execution_count": 21,
   "id": "c1e54da9-3c70-4b90-bf62-3b9bf04864cc",
   "metadata": {
    "tags": []
   },
   "outputs": [
    {
     "data": {
      "text/plain": [
       "219"
      ]
     },
     "execution_count": 21,
     "metadata": {},
     "output_type": "execute_result"
    }
   ],
   "source": [
    "df_gdelt.iso3.nunique()"
   ]
  },
  {
   "cell_type": "code",
   "execution_count": 22,
   "id": "d5fa075b-cfc7-4416-aa66-af32047eece1",
   "metadata": {
    "tags": []
   },
   "outputs": [
    {
     "data": {
      "text/plain": [
       "46"
      ]
     },
     "execution_count": 22,
     "metadata": {},
     "output_type": "execute_result"
    }
   ],
   "source": [
    "df_gdelt.Date.nunique()"
   ]
  },
  {
   "cell_type": "code",
   "execution_count": 23,
   "id": "3eecded3-34b6-450b-b0cd-1ee8b4c35b6b",
   "metadata": {
    "tags": []
   },
   "outputs": [
    {
     "data": {
      "text/plain": [
       "203"
      ]
     },
     "execution_count": 23,
     "metadata": {},
     "output_type": "execute_result"
    }
   ],
   "source": [
    "#df_fp = df_fp.set_index(['iso3', 'Date'])\n",
    "df_fp.iso3.nunique()"
   ]
  },
  {
   "cell_type": "code",
   "execution_count": 24,
   "id": "daf85b98-d470-40cd-8c1f-fca252387d3e",
   "metadata": {
    "tags": []
   },
   "outputs": [
    {
     "data": {
      "text/plain": [
       "42"
      ]
     },
     "execution_count": 24,
     "metadata": {},
     "output_type": "execute_result"
    }
   ],
   "source": [
    "df_fp.Date.nunique()"
   ]
  },
  {
   "cell_type": "code",
   "execution_count": 25,
   "id": "2e0bbc47-aa11-464c-8e20-07faa173cc13",
   "metadata": {
    "tags": []
   },
   "outputs": [],
   "source": [
    "df_gdelt['key'] = df_gdelt['iso3'] + '_' + df_gdelt['Date'].astype(str)"
   ]
  },
  {
   "cell_type": "code",
   "execution_count": 26,
   "id": "4e5e3a9d-30a8-48e6-b7b4-a7d9d8d2c491",
   "metadata": {
    "tags": []
   },
   "outputs": [
    {
     "data": {
      "text/plain": [
       "10074"
      ]
     },
     "execution_count": 26,
     "metadata": {},
     "output_type": "execute_result"
    }
   ],
   "source": [
    "df_gdelt['key'].nunique()"
   ]
  },
  {
   "cell_type": "code",
   "execution_count": 27,
   "id": "35b5de41-8ffe-45a3-ba82-8d4f51eb7065",
   "metadata": {
    "tags": []
   },
   "outputs": [],
   "source": [
    "df_fp['key'] = df_fp['iso3'] + '_' + df_fp['Date'].astype(str)"
   ]
  },
  {
   "cell_type": "code",
   "execution_count": 28,
   "id": "a26e7cf0-2bf9-45fd-83ee-07b69f5e6cc2",
   "metadata": {
    "tags": []
   },
   "outputs": [
    {
     "data": {
      "text/plain": [
       "8526"
      ]
     },
     "execution_count": 28,
     "metadata": {},
     "output_type": "execute_result"
    }
   ],
   "source": [
    "df_fp['key'].nunique()"
   ]
  },
  {
   "cell_type": "code",
   "execution_count": 29,
   "id": "a77c339c-20a3-4767-99b7-a64482302d7a",
   "metadata": {
    "tags": []
   },
   "outputs": [
    {
     "data": {
      "text/html": [
       "<div>\n",
       "<style scoped>\n",
       "    .dataframe tbody tr th:only-of-type {\n",
       "        vertical-align: middle;\n",
       "    }\n",
       "\n",
       "    .dataframe tbody tr th {\n",
       "        vertical-align: top;\n",
       "    }\n",
       "\n",
       "    .dataframe thead th {\n",
       "        text-align: right;\n",
       "    }\n",
       "</style>\n",
       "<table border=\"1\" class=\"dataframe\">\n",
       "  <thead>\n",
       "    <tr style=\"text-align: right;\">\n",
       "      <th></th>\n",
       "      <th>iso3</th>\n",
       "      <th>Date</th>\n",
       "      <th>timelinetone_orig</th>\n",
       "      <th>timelinetone</th>\n",
       "      <th>timelinevol_orig</th>\n",
       "      <th>timelinevol</th>\n",
       "      <th>cpi</th>\n",
       "      <th>cpi_orig</th>\n",
       "    </tr>\n",
       "    <tr>\n",
       "      <th>key</th>\n",
       "      <th></th>\n",
       "      <th></th>\n",
       "      <th></th>\n",
       "      <th></th>\n",
       "      <th></th>\n",
       "      <th></th>\n",
       "      <th></th>\n",
       "      <th></th>\n",
       "    </tr>\n",
       "  </thead>\n",
       "  <tbody>\n",
       "    <tr>\n",
       "      <th>ABW_2020-01-01</th>\n",
       "      <td>ABW</td>\n",
       "      <td>2020-01-01</td>\n",
       "      <td>0.0000</td>\n",
       "      <td>1.051377</td>\n",
       "      <td>0.0000</td>\n",
       "      <td>-1.161558</td>\n",
       "      <td>0.127038</td>\n",
       "      <td>4.827223</td>\n",
       "    </tr>\n",
       "    <tr>\n",
       "      <th>ABW_2020-02-01</th>\n",
       "      <td>ABW</td>\n",
       "      <td>2020-02-01</td>\n",
       "      <td>0.0000</td>\n",
       "      <td>0.983546</td>\n",
       "      <td>0.0000</td>\n",
       "      <td>-1.086619</td>\n",
       "      <td>-0.042390</td>\n",
       "      <td>3.861202</td>\n",
       "    </tr>\n",
       "    <tr>\n",
       "      <th>ABW_2020-03-01</th>\n",
       "      <td>ABW</td>\n",
       "      <td>2020-03-01</td>\n",
       "      <td>0.0000</td>\n",
       "      <td>1.051377</td>\n",
       "      <td>0.0000</td>\n",
       "      <td>-1.161558</td>\n",
       "      <td>-0.520920</td>\n",
       "      <td>1.132792</td>\n",
       "    </tr>\n",
       "    <tr>\n",
       "      <th>ABW_2020-04-01</th>\n",
       "      <td>ABW</td>\n",
       "      <td>2020-04-01</td>\n",
       "      <td>0.0000</td>\n",
       "      <td>1.017462</td>\n",
       "      <td>0.0000</td>\n",
       "      <td>-1.124088</td>\n",
       "      <td>-0.463157</td>\n",
       "      <td>1.462135</td>\n",
       "    </tr>\n",
       "    <tr>\n",
       "      <th>ABW_2020-05-01</th>\n",
       "      <td>ABW</td>\n",
       "      <td>2020-05-01</td>\n",
       "      <td>0.0000</td>\n",
       "      <td>1.051377</td>\n",
       "      <td>0.0000</td>\n",
       "      <td>-1.161558</td>\n",
       "      <td>-0.833010</td>\n",
       "      <td>-0.646643</td>\n",
       "    </tr>\n",
       "    <tr>\n",
       "      <th>...</th>\n",
       "      <td>...</td>\n",
       "      <td>...</td>\n",
       "      <td>...</td>\n",
       "      <td>...</td>\n",
       "      <td>...</td>\n",
       "      <td>...</td>\n",
       "      <td>...</td>\n",
       "      <td>...</td>\n",
       "    </tr>\n",
       "    <tr>\n",
       "      <th>ZWE_2023-02-01</th>\n",
       "      <td>ZWE</td>\n",
       "      <td>2023-02-01</td>\n",
       "      <td>-27.9529</td>\n",
       "      <td>3.400744</td>\n",
       "      <td>0.1904</td>\n",
       "      <td>9.681523</td>\n",
       "      <td>-0.418014</td>\n",
       "      <td>136.853386</td>\n",
       "    </tr>\n",
       "    <tr>\n",
       "      <th>ZWE_2023-03-01</th>\n",
       "      <td>ZWE</td>\n",
       "      <td>2023-03-01</td>\n",
       "      <td>-20.8521</td>\n",
       "      <td>10.334231</td>\n",
       "      <td>0.1836</td>\n",
       "      <td>2.900306</td>\n",
       "      <td>-0.451320</td>\n",
       "      <td>127.921669</td>\n",
       "    </tr>\n",
       "    <tr>\n",
       "      <th>ZWE_2023-04-01</th>\n",
       "      <td>ZWE</td>\n",
       "      <td>2023-04-01</td>\n",
       "      <td>-19.1552</td>\n",
       "      <td>11.582191</td>\n",
       "      <td>0.2328</td>\n",
       "      <td>20.922830</td>\n",
       "      <td>-0.549300</td>\n",
       "      <td>101.645424</td>\n",
       "    </tr>\n",
       "    <tr>\n",
       "      <th>ZWE_2023-05-01</th>\n",
       "      <td>ZWE</td>\n",
       "      <td>2023-05-01</td>\n",
       "      <td>-31.5214</td>\n",
       "      <td>3.343303</td>\n",
       "      <td>0.2243</td>\n",
       "      <td>15.664033</td>\n",
       "      <td>-0.492183</td>\n",
       "      <td>116.962939</td>\n",
       "    </tr>\n",
       "    <tr>\n",
       "      <th>ZWE_2023-06-01</th>\n",
       "      <td>ZWE</td>\n",
       "      <td>2023-06-01</td>\n",
       "      <td>-22.4871</td>\n",
       "      <td>9.131794</td>\n",
       "      <td>0.2061</td>\n",
       "      <td>11.142314</td>\n",
       "      <td>0.024768</td>\n",
       "      <td>255.597846</td>\n",
       "    </tr>\n",
       "  </tbody>\n",
       "</table>\n",
       "<p>8106 rows × 8 columns</p>\n",
       "</div>"
      ],
      "text/plain": [
       "               iso3       Date  timelinetone_orig  timelinetone  \\\n",
       "key                                                               \n",
       "ABW_2020-01-01  ABW 2020-01-01             0.0000      1.051377   \n",
       "ABW_2020-02-01  ABW 2020-02-01             0.0000      0.983546   \n",
       "ABW_2020-03-01  ABW 2020-03-01             0.0000      1.051377   \n",
       "ABW_2020-04-01  ABW 2020-04-01             0.0000      1.017462   \n",
       "ABW_2020-05-01  ABW 2020-05-01             0.0000      1.051377   \n",
       "...             ...        ...                ...           ...   \n",
       "ZWE_2023-02-01  ZWE 2023-02-01           -27.9529      3.400744   \n",
       "ZWE_2023-03-01  ZWE 2023-03-01           -20.8521     10.334231   \n",
       "ZWE_2023-04-01  ZWE 2023-04-01           -19.1552     11.582191   \n",
       "ZWE_2023-05-01  ZWE 2023-05-01           -31.5214      3.343303   \n",
       "ZWE_2023-06-01  ZWE 2023-06-01           -22.4871      9.131794   \n",
       "\n",
       "                timelinevol_orig  timelinevol       cpi    cpi_orig  \n",
       "key                                                                  \n",
       "ABW_2020-01-01            0.0000    -1.161558  0.127038    4.827223  \n",
       "ABW_2020-02-01            0.0000    -1.086619 -0.042390    3.861202  \n",
       "ABW_2020-03-01            0.0000    -1.161558 -0.520920    1.132792  \n",
       "ABW_2020-04-01            0.0000    -1.124088 -0.463157    1.462135  \n",
       "ABW_2020-05-01            0.0000    -1.161558 -0.833010   -0.646643  \n",
       "...                          ...          ...       ...         ...  \n",
       "ZWE_2023-02-01            0.1904     9.681523 -0.418014  136.853386  \n",
       "ZWE_2023-03-01            0.1836     2.900306 -0.451320  127.921669  \n",
       "ZWE_2023-04-01            0.2328    20.922830 -0.549300  101.645424  \n",
       "ZWE_2023-05-01            0.2243    15.664033 -0.492183  116.962939  \n",
       "ZWE_2023-06-01            0.2061    11.142314  0.024768  255.597846  \n",
       "\n",
       "[8106 rows x 8 columns]"
      ]
     },
     "execution_count": 29,
     "metadata": {},
     "output_type": "execute_result"
    }
   ],
   "source": [
    "df = df_gdelt.set_index('key').join(df_fp.set_index('key'), how='inner', lsuffix='g', rsuffix='f')\n",
    "df = df.rename(columns={'iso3g': 'iso3', 'Dateg': 'Date'})\n",
    "df = df.drop(columns=['Datef', 'iso3f'])\n",
    "df"
   ]
  },
  {
   "cell_type": "code",
   "execution_count": 30,
   "id": "84f04b26-9e86-46d8-8933-3ec6614d13af",
   "metadata": {
    "tags": []
   },
   "outputs": [],
   "source": [
    "events = list()\n",
    "\n",
    "for g, rows in df.groupby(['iso3']):\n",
    "    y = gaussian_filter1d(rows['timelinevol'], 1)\n",
    "    peaks, _ = find_peaks(y, height=None)\n",
    "    d2 = np.gradient(np.gradient(y))\n",
    "    sd2 = gaussian_filter1d(d2, 2)\n",
    "    infls = np.where(np.diff(np.sign(sd2)))[0]\n",
    "    co_events = (g[0], len(peaks), len(infls))\n",
    "    #print(co_events)\n",
    "    events.append(co_events)\n",
    "df_ev = pd.DataFrame(events, columns=('iso3', 'peaks', 'infls'))"
   ]
  },
  {
   "cell_type": "code",
   "execution_count": 31,
   "id": "e17f5dc3-6f92-4c1d-b365-3c96bf4f0136",
   "metadata": {
    "tags": []
   },
   "outputs": [
    {
     "data": {
      "text/plain": [
       "count    193.000000\n",
       "mean       5.435233\n",
       "std        1.034409\n",
       "min        3.000000\n",
       "25%        5.000000\n",
       "50%        5.000000\n",
       "75%        6.000000\n",
       "max        9.000000\n",
       "Name: peaks, dtype: float64"
      ]
     },
     "execution_count": 31,
     "metadata": {},
     "output_type": "execute_result"
    }
   ],
   "source": [
    "df_ev.peaks.describe()"
   ]
  },
  {
   "cell_type": "code",
   "execution_count": 32,
   "id": "868c948e-d104-476e-ab3a-ca1a0405d543",
   "metadata": {
    "tags": []
   },
   "outputs": [
    {
     "data": {
      "text/plain": [
       "count    193.000000\n",
       "mean       6.911917\n",
       "std        1.463982\n",
       "min        2.000000\n",
       "25%        6.000000\n",
       "50%        7.000000\n",
       "75%        8.000000\n",
       "max       11.000000\n",
       "Name: infls, dtype: float64"
      ]
     },
     "execution_count": 32,
     "metadata": {},
     "output_type": "execute_result"
    }
   ],
   "source": [
    "df_ev.infls.describe()"
   ]
  },
  {
   "cell_type": "code",
   "execution_count": 33,
   "id": "98d2f3ba-743c-44d0-9870-5955434657f1",
   "metadata": {
    "tags": []
   },
   "outputs": [],
   "source": [
    "#print(pio.renderers)\n",
    "pio.renderers.default = \"jupyterlab\"\n",
    "\n",
    "colors = [\"#E69F00\", \"#56B4E9\", \"#009E73\", \"#F0E442\", \"#D55E00\", \"#0072B2\", \"#CC79A7\"]\n",
    "\n",
    "def plot_timeseries(tsdf, colname='timelinevol', query=None, smooth_x=1, show_infl=True, show_peaks=True, smooth_y=2):\n",
    "    fig = go.Figure()\n",
    "    title_text = f\"<b>{colname}\"\n",
    "    if query is not None:\n",
    "        data = tsdf.query(query)\n",
    "        title_text += \" (\" + query + \")\"\n",
    "    else:\n",
    "        data = tsdf\n",
    "    for index, org in enumerate(data['iso3'].unique()):\n",
    "        cdata = data.loc[data['iso3'] == org, :]\n",
    "        cname = cdata['iso3'].values[0]\n",
    "        if smooth_x is not None:\n",
    "            y = gaussian_filter1d(cdata[colname], smooth_x)\n",
    "        else:\n",
    "            y = cdata[colname]\n",
    "        fig.add_trace(go.Scatter(x=cdata['Date'], y=y,\n",
    "                                 mode='lines',\n",
    "                                 marker_color=colors[index % 7],\n",
    "                                 hoverinfo=\"text\",\n",
    "                                 name=f\"{cname} {colname}\",\n",
    "                                 #xperiod=\"M1\",\n",
    "                                 #xperiodalignment=\"middle\",\n",
    "                                 # NOTE hovertemplate uses d3js formatting not f-string\n",
    "                                 # https://github.com/d3/d3-3.x-api-reference/blob/master/Formatting.md#d3_format\n",
    "                                 hovertemplate=\"%{y}%{_xother}\"\n",
    "                                 ))\n",
    "        if 'cpi' in cdata:\n",
    "            fig.add_trace(go.Scatter(x=cdata['Date'], y=cdata['cpi'],\n",
    "                                     mode='lines',\n",
    "                                     marker_color=colors[index % 7],\n",
    "                                     hoverinfo=\"text\",\n",
    "                                     name=f'{cname} cpi',\n",
    "                                     #xperiod=\"M1\",\n",
    "                                     #xperiodalignment=\"middle\",\n",
    "                                     # NOTE hovertemplate uses d3js formatting not f-string\n",
    "                                     # https://github.com/d3/d3-3.x-api-reference/blob/master/Formatting.md#d3_format\n",
    "                                     hovertemplate=\"%{y}%{_xother}\"\n",
    "                                     ))\n",
    "        if 'timelinetone' in cdata:\n",
    "            fig.add_trace(go.Scatter(x=cdata['Date'], y=cdata['timelinetone'],\n",
    "                                     mode='lines',\n",
    "                                     marker_color=colors[index % 7],\n",
    "                                     hoverinfo=\"text\",\n",
    "                                     name=f'{cname} tone',\n",
    "                                     #xperiod=\"M1\",\n",
    "                                     #xperiodalignment=\"middle\",\n",
    "                                     # NOTE hovertemplate uses d3js formatting not f-string\n",
    "                                     # https://github.com/d3/d3-3.x-api-reference/blob/master/Formatting.md#d3_format\n",
    "                                     hovertemplate=\"%{y}%{_xother}\"\n",
    "                                     ))\n",
    "        if show_peaks:\n",
    "            peaks, _ = find_peaks(y, height=None)\n",
    "            #print(len(peaks), ' peaks')\n",
    "            for i, peak in enumerate(peaks, 1):\n",
    "                fig.add_vline(x=cdata['Date'].iloc[peak], line_width=2, line_dash=\"dash\", line_color=\"red\")\n",
    "        if show_infl:\n",
    "            d2 = np.gradient(np.gradient(y))\n",
    "            sd2 = gaussian_filter1d(d2, smooth_y)\n",
    "            infls = np.where(np.diff(np.sign(sd2)))[0]\n",
    "            #print(len(infls), ' infls')\n",
    "            for i, infl in enumerate(infls, 1):\n",
    "                fig.add_vline(x=cdata['Date'].iloc[infl], line_width=1, line_dash=\"dash\", line_color=\"green\")\n",
    "\n",
    "    fig.update_xaxes(showgrid=True, rangeslider_visible=True)\n",
    "    fig.update_yaxes(showgrid=True)\n",
    "    fig.update_layout(\n",
    "        yaxis_title=\"Frequency\",\n",
    "\n",
    "        title={\n",
    "            'text': title_text,\n",
    "            'y': .95,\n",
    "            'x': 0.40,\n",
    "            'xanchor': 'center',\n",
    "            'yanchor': 'top',\n",
    "            'font': dict(\n",
    "                size=22,\n",
    "                color=\"Black\")\n",
    "        },\n",
    "        template=\"simple_white\",\n",
    "        width=1250,\n",
    "        height=650,\n",
    "        hoverlabel=dict(\n",
    "            bgcolor=\"white\",\n",
    "            font_size=16,\n",
    "            font_family=\"Rockwell\"\n",
    "        ),\n",
    "        legend=dict(\n",
    "            title=\"<b>Org\",\n",
    "        )\n",
    "    )\n",
    "    return fig"
   ]
  },
  {
   "cell_type": "code",
   "execution_count": 34,
   "id": "16567bf0-6f60-427d-aab0-c989585d6a57",
   "metadata": {
    "tags": []
   },
   "outputs": [
    {
     "data": {
      "application/vnd.plotly.v1+json": {
       "config": {
        "plotlyServerURL": "https://plot.ly"
       },
       "data": [
        {
         "hoverinfo": "text",
         "hovertemplate": "%{y}%{_xother}",
         "marker": {
          "color": "#E69F00"
         },
         "mode": "lines",
         "name": "KEN timelinevol",
         "type": "scatter",
         "x": [
          "2020-01-01T00:00:00",
          "2020-02-01T00:00:00",
          "2020-03-01T00:00:00",
          "2020-04-01T00:00:00",
          "2020-05-01T00:00:00",
          "2020-06-01T00:00:00",
          "2020-07-01T00:00:00",
          "2020-08-01T00:00:00",
          "2020-09-01T00:00:00",
          "2020-10-01T00:00:00",
          "2020-11-01T00:00:00",
          "2020-12-01T00:00:00",
          "2021-01-01T00:00:00",
          "2021-02-01T00:00:00",
          "2021-03-01T00:00:00",
          "2021-04-01T00:00:00",
          "2021-05-01T00:00:00",
          "2021-06-01T00:00:00",
          "2021-07-01T00:00:00",
          "2021-08-01T00:00:00",
          "2021-09-01T00:00:00",
          "2021-10-01T00:00:00",
          "2021-11-01T00:00:00",
          "2021-12-01T00:00:00",
          "2022-01-01T00:00:00",
          "2022-02-01T00:00:00",
          "2022-03-01T00:00:00",
          "2022-04-01T00:00:00",
          "2022-05-01T00:00:00",
          "2022-06-01T00:00:00",
          "2022-07-01T00:00:00",
          "2022-08-01T00:00:00",
          "2022-09-01T00:00:00",
          "2022-10-01T00:00:00",
          "2022-11-01T00:00:00",
          "2022-12-01T00:00:00",
          "2023-01-01T00:00:00",
          "2023-02-01T00:00:00",
          "2023-03-01T00:00:00",
          "2023-04-01T00:00:00",
          "2023-05-01T00:00:00",
          "2023-06-01T00:00:00"
         ],
         "y": [
          -7.019168366416957,
          0.4486114254373623,
          16.164025368263435,
          26.05219924063058,
          14.920310032671145,
          -3.085897785884724,
          -8.99246822535455,
          -8.105666488396604,
          -7.726755295627318,
          -4.586090213403525,
          -5.060234156109814,
          -9.90674879551551,
          -13.399273598809302,
          -15.04170133308024,
          -18.648837581110513,
          -23.656677002079064,
          -27.708124194554443,
          -28.699953235972238,
          -26.956633386803652,
          -23.95249689505941,
          -20.31165247542116,
          -16.638798090434214,
          -13.98823283814638,
          -14.639028112125391,
          -13.494901492661473,
          -5.2999684449936595,
          5.243446213203483,
          11.667805721588998,
          15.281814488488594,
          19.257133859049127,
          19.26711570117242,
          13.562462307911744,
          15.375164909839784,
          24.911732242077196,
          28.254815942985875,
          19.743205993436135,
          9.64629194029892,
          5.67545068190208,
          8.070369679633682,
          12.391817317504621,
          13.471465280418123,
          11.852686206738785
         ]
        },
        {
         "hoverinfo": "text",
         "hovertemplate": "%{y}%{_xother}",
         "marker": {
          "color": "#E69F00"
         },
         "mode": "lines",
         "name": "KEN cpi",
         "type": "scatter",
         "x": [
          "2020-01-01T00:00:00",
          "2020-02-01T00:00:00",
          "2020-03-01T00:00:00",
          "2020-04-01T00:00:00",
          "2020-05-01T00:00:00",
          "2020-06-01T00:00:00",
          "2020-07-01T00:00:00",
          "2020-08-01T00:00:00",
          "2020-09-01T00:00:00",
          "2020-10-01T00:00:00",
          "2020-11-01T00:00:00",
          "2020-12-01T00:00:00",
          "2021-01-01T00:00:00",
          "2021-02-01T00:00:00",
          "2021-03-01T00:00:00",
          "2021-04-01T00:00:00",
          "2021-05-01T00:00:00",
          "2021-06-01T00:00:00",
          "2021-07-01T00:00:00",
          "2021-08-01T00:00:00",
          "2021-09-01T00:00:00",
          "2021-10-01T00:00:00",
          "2021-11-01T00:00:00",
          "2021-12-01T00:00:00",
          "2022-01-01T00:00:00",
          "2022-02-01T00:00:00",
          "2022-03-01T00:00:00",
          "2022-04-01T00:00:00",
          "2022-05-01T00:00:00",
          "2022-06-01T00:00:00",
          "2022-07-01T00:00:00",
          "2022-08-01T00:00:00",
          "2022-09-01T00:00:00",
          "2022-10-01T00:00:00",
          "2022-11-01T00:00:00",
          "2022-12-01T00:00:00",
          "2023-01-01T00:00:00",
          "2023-02-01T00:00:00",
          "2023-03-01T00:00:00",
          "2023-04-01T00:00:00",
          "2023-05-01T00:00:00",
          "2023-06-01T00:00:00"
         ],
         "y": [
          -0.04017082496545333,
          0.2521109802826242,
          -0.6252017985950914,
          -2.15392274794092,
          -1.7761364547801137,
          -1.6720618132107101,
          -1.5962562287681232,
          -1.3177176435760325,
          -1.1446868077110879,
          -0.9375301120057391,
          -0.6483030184444041,
          -0.33410942804792443,
          -0.053142761637148594,
          -0.5625312954534366,
          -0.6265096399099095,
          -0.6391266549933188,
          -0.810926598929813,
          -0.38097518338717873,
          -0.2701099075975291,
          0.21188255689775182,
          0.198726299602896,
          0.18895999085632376,
          -0.015269049125819775,
          -0.26112979490702515,
          -0.32204865562178653,
          -0.3797952927962047,
          -0.01231693662090089,
          0.4057484830088189,
          0.7294187780659669,
          1.1105994935765897,
          1.6409140849368384,
          1.654598549066025,
          1.7198528217197135,
          1.8186534477885636,
          1.7125262260758127,
          1.2451058279338691,
          0.9526728081939755,
          1.076263663317569,
          1.1129020100989147,
          0.15053659726330537,
          0.18299283437158817,
          0.2155131959685111
         ]
        },
        {
         "hoverinfo": "text",
         "hovertemplate": "%{y}%{_xother}",
         "marker": {
          "color": "#E69F00"
         },
         "mode": "lines",
         "name": "KEN tone",
         "type": "scatter",
         "x": [
          "2020-01-01T00:00:00",
          "2020-02-01T00:00:00",
          "2020-03-01T00:00:00",
          "2020-04-01T00:00:00",
          "2020-05-01T00:00:00",
          "2020-06-01T00:00:00",
          "2020-07-01T00:00:00",
          "2020-08-01T00:00:00",
          "2020-09-01T00:00:00",
          "2020-10-01T00:00:00",
          "2020-11-01T00:00:00",
          "2020-12-01T00:00:00",
          "2021-01-01T00:00:00",
          "2021-02-01T00:00:00",
          "2021-03-01T00:00:00",
          "2021-04-01T00:00:00",
          "2021-05-01T00:00:00",
          "2021-06-01T00:00:00",
          "2021-07-01T00:00:00",
          "2021-08-01T00:00:00",
          "2021-09-01T00:00:00",
          "2021-10-01T00:00:00",
          "2021-11-01T00:00:00",
          "2021-12-01T00:00:00",
          "2022-01-01T00:00:00",
          "2022-02-01T00:00:00",
          "2022-03-01T00:00:00",
          "2022-04-01T00:00:00",
          "2022-05-01T00:00:00",
          "2022-06-01T00:00:00",
          "2022-07-01T00:00:00",
          "2022-08-01T00:00:00",
          "2022-09-01T00:00:00",
          "2022-10-01T00:00:00",
          "2022-11-01T00:00:00",
          "2022-12-01T00:00:00",
          "2023-01-01T00:00:00",
          "2023-02-01T00:00:00",
          "2023-03-01T00:00:00",
          "2023-04-01T00:00:00",
          "2023-05-01T00:00:00",
          "2023-06-01T00:00:00"
         ],
         "y": [
          -17.386903236561697,
          -7.090295892909408,
          -26.055098411022755,
          -28.4142482075258,
          -21.506040222193672,
          -12.885257527044427,
          -5.385361377312202,
          -4.041128937315815,
          6.481963996979965,
          19.599388199527723,
          14.215262724488658,
          12.846667783270327,
          7.718673330135983,
          6.021250590635412,
          12.89822189365371,
          3.0766601616564135,
          5.997804412338739,
          5.5438795750038965,
          -9.49092669784325,
          -4.226486913694229,
          11.965281037756665,
          8.628703571903426,
          -2.3520969637145526,
          11.968608376740637,
          6.221327004000964,
          0.028677311071627076,
          -12.757143737132482,
          -18.2069897766195,
          -3.8680674360288427,
          -9.766416018851153,
          1.7679991508837816,
          0.3150112200786318,
          -2.0593497715375366,
          -8.67926825680735,
          1.7459993867609518,
          16.46529269018024,
          3.0775282056220976,
          -1.9019603632855646,
          12.017017318141402,
          1.1702510974793991,
          -1.39255928761972,
          -1.0662500091523484
         ]
        }
       ],
       "layout": {
        "height": 650,
        "hoverlabel": {
         "bgcolor": "white",
         "font": {
          "family": "Rockwell",
          "size": 16
         }
        },
        "legend": {
         "title": {
          "text": "<b>Org"
         }
        },
        "shapes": [
         {
          "line": {
           "color": "red",
           "dash": "dash",
           "width": 2
          },
          "type": "line",
          "x0": "2020-04-01T00:00:00",
          "x1": "2020-04-01T00:00:00",
          "xref": "x",
          "y0": 0,
          "y1": 1,
          "yref": "y domain"
         },
         {
          "line": {
           "color": "red",
           "dash": "dash",
           "width": 2
          },
          "type": "line",
          "x0": "2020-10-01T00:00:00",
          "x1": "2020-10-01T00:00:00",
          "xref": "x",
          "y0": 0,
          "y1": 1,
          "yref": "y domain"
         },
         {
          "line": {
           "color": "red",
           "dash": "dash",
           "width": 2
          },
          "type": "line",
          "x0": "2021-11-01T00:00:00",
          "x1": "2021-11-01T00:00:00",
          "xref": "x",
          "y0": 0,
          "y1": 1,
          "yref": "y domain"
         },
         {
          "line": {
           "color": "red",
           "dash": "dash",
           "width": 2
          },
          "type": "line",
          "x0": "2022-07-01T00:00:00",
          "x1": "2022-07-01T00:00:00",
          "xref": "x",
          "y0": 0,
          "y1": 1,
          "yref": "y domain"
         },
         {
          "line": {
           "color": "red",
           "dash": "dash",
           "width": 2
          },
          "type": "line",
          "x0": "2022-11-01T00:00:00",
          "x1": "2022-11-01T00:00:00",
          "xref": "x",
          "y0": 0,
          "y1": 1,
          "yref": "y domain"
         },
         {
          "line": {
           "color": "red",
           "dash": "dash",
           "width": 2
          },
          "type": "line",
          "x0": "2023-05-01T00:00:00",
          "x1": "2023-05-01T00:00:00",
          "xref": "x",
          "y0": 0,
          "y1": 1,
          "yref": "y domain"
         },
         {
          "line": {
           "color": "green",
           "dash": "dash",
           "width": 1
          },
          "type": "line",
          "x0": "2020-06-01T00:00:00",
          "x1": "2020-06-01T00:00:00",
          "xref": "x",
          "y0": 0,
          "y1": 1,
          "yref": "y domain"
         },
         {
          "line": {
           "color": "green",
           "dash": "dash",
           "width": 1
          },
          "type": "line",
          "x0": "2020-09-01T00:00:00",
          "x1": "2020-09-01T00:00:00",
          "xref": "x",
          "y0": 0,
          "y1": 1,
          "yref": "y domain"
         },
         {
          "line": {
           "color": "green",
           "dash": "dash",
           "width": 1
          },
          "type": "line",
          "x0": "2021-02-01T00:00:00",
          "x1": "2021-02-01T00:00:00",
          "xref": "x",
          "y0": 0,
          "y1": 1,
          "yref": "y domain"
         },
         {
          "line": {
           "color": "green",
           "dash": "dash",
           "width": 1
          },
          "type": "line",
          "x0": "2022-02-01T00:00:00",
          "x1": "2022-02-01T00:00:00",
          "xref": "x",
          "y0": 0,
          "y1": 1,
          "yref": "y domain"
         },
         {
          "line": {
           "color": "green",
           "dash": "dash",
           "width": 1
          },
          "type": "line",
          "x0": "2022-12-01T00:00:00",
          "x1": "2022-12-01T00:00:00",
          "xref": "x",
          "y0": 0,
          "y1": 1,
          "yref": "y domain"
         },
         {
          "line": {
           "color": "green",
           "dash": "dash",
           "width": 1
          },
          "type": "line",
          "x0": "2023-04-01T00:00:00",
          "x1": "2023-04-01T00:00:00",
          "xref": "x",
          "y0": 0,
          "y1": 1,
          "yref": "y domain"
         }
        ],
        "template": {
         "data": {
          "bar": [
           {
            "error_x": {
             "color": "rgb(36,36,36)"
            },
            "error_y": {
             "color": "rgb(36,36,36)"
            },
            "marker": {
             "line": {
              "color": "white",
              "width": 0.5
             },
             "pattern": {
              "fillmode": "overlay",
              "size": 10,
              "solidity": 0.2
             }
            },
            "type": "bar"
           }
          ],
          "barpolar": [
           {
            "marker": {
             "line": {
              "color": "white",
              "width": 0.5
             },
             "pattern": {
              "fillmode": "overlay",
              "size": 10,
              "solidity": 0.2
             }
            },
            "type": "barpolar"
           }
          ],
          "carpet": [
           {
            "aaxis": {
             "endlinecolor": "rgb(36,36,36)",
             "gridcolor": "white",
             "linecolor": "white",
             "minorgridcolor": "white",
             "startlinecolor": "rgb(36,36,36)"
            },
            "baxis": {
             "endlinecolor": "rgb(36,36,36)",
             "gridcolor": "white",
             "linecolor": "white",
             "minorgridcolor": "white",
             "startlinecolor": "rgb(36,36,36)"
            },
            "type": "carpet"
           }
          ],
          "choropleth": [
           {
            "colorbar": {
             "outlinewidth": 1,
             "tickcolor": "rgb(36,36,36)",
             "ticks": "outside"
            },
            "type": "choropleth"
           }
          ],
          "contour": [
           {
            "colorbar": {
             "outlinewidth": 1,
             "tickcolor": "rgb(36,36,36)",
             "ticks": "outside"
            },
            "colorscale": [
             [
              0,
              "#440154"
             ],
             [
              0.1111111111111111,
              "#482878"
             ],
             [
              0.2222222222222222,
              "#3e4989"
             ],
             [
              0.3333333333333333,
              "#31688e"
             ],
             [
              0.4444444444444444,
              "#26828e"
             ],
             [
              0.5555555555555556,
              "#1f9e89"
             ],
             [
              0.6666666666666666,
              "#35b779"
             ],
             [
              0.7777777777777778,
              "#6ece58"
             ],
             [
              0.8888888888888888,
              "#b5de2b"
             ],
             [
              1,
              "#fde725"
             ]
            ],
            "type": "contour"
           }
          ],
          "contourcarpet": [
           {
            "colorbar": {
             "outlinewidth": 1,
             "tickcolor": "rgb(36,36,36)",
             "ticks": "outside"
            },
            "type": "contourcarpet"
           }
          ],
          "heatmap": [
           {
            "colorbar": {
             "outlinewidth": 1,
             "tickcolor": "rgb(36,36,36)",
             "ticks": "outside"
            },
            "colorscale": [
             [
              0,
              "#440154"
             ],
             [
              0.1111111111111111,
              "#482878"
             ],
             [
              0.2222222222222222,
              "#3e4989"
             ],
             [
              0.3333333333333333,
              "#31688e"
             ],
             [
              0.4444444444444444,
              "#26828e"
             ],
             [
              0.5555555555555556,
              "#1f9e89"
             ],
             [
              0.6666666666666666,
              "#35b779"
             ],
             [
              0.7777777777777778,
              "#6ece58"
             ],
             [
              0.8888888888888888,
              "#b5de2b"
             ],
             [
              1,
              "#fde725"
             ]
            ],
            "type": "heatmap"
           }
          ],
          "heatmapgl": [
           {
            "colorbar": {
             "outlinewidth": 1,
             "tickcolor": "rgb(36,36,36)",
             "ticks": "outside"
            },
            "colorscale": [
             [
              0,
              "#440154"
             ],
             [
              0.1111111111111111,
              "#482878"
             ],
             [
              0.2222222222222222,
              "#3e4989"
             ],
             [
              0.3333333333333333,
              "#31688e"
             ],
             [
              0.4444444444444444,
              "#26828e"
             ],
             [
              0.5555555555555556,
              "#1f9e89"
             ],
             [
              0.6666666666666666,
              "#35b779"
             ],
             [
              0.7777777777777778,
              "#6ece58"
             ],
             [
              0.8888888888888888,
              "#b5de2b"
             ],
             [
              1,
              "#fde725"
             ]
            ],
            "type": "heatmapgl"
           }
          ],
          "histogram": [
           {
            "marker": {
             "line": {
              "color": "white",
              "width": 0.6
             }
            },
            "type": "histogram"
           }
          ],
          "histogram2d": [
           {
            "colorbar": {
             "outlinewidth": 1,
             "tickcolor": "rgb(36,36,36)",
             "ticks": "outside"
            },
            "colorscale": [
             [
              0,
              "#440154"
             ],
             [
              0.1111111111111111,
              "#482878"
             ],
             [
              0.2222222222222222,
              "#3e4989"
             ],
             [
              0.3333333333333333,
              "#31688e"
             ],
             [
              0.4444444444444444,
              "#26828e"
             ],
             [
              0.5555555555555556,
              "#1f9e89"
             ],
             [
              0.6666666666666666,
              "#35b779"
             ],
             [
              0.7777777777777778,
              "#6ece58"
             ],
             [
              0.8888888888888888,
              "#b5de2b"
             ],
             [
              1,
              "#fde725"
             ]
            ],
            "type": "histogram2d"
           }
          ],
          "histogram2dcontour": [
           {
            "colorbar": {
             "outlinewidth": 1,
             "tickcolor": "rgb(36,36,36)",
             "ticks": "outside"
            },
            "colorscale": [
             [
              0,
              "#440154"
             ],
             [
              0.1111111111111111,
              "#482878"
             ],
             [
              0.2222222222222222,
              "#3e4989"
             ],
             [
              0.3333333333333333,
              "#31688e"
             ],
             [
              0.4444444444444444,
              "#26828e"
             ],
             [
              0.5555555555555556,
              "#1f9e89"
             ],
             [
              0.6666666666666666,
              "#35b779"
             ],
             [
              0.7777777777777778,
              "#6ece58"
             ],
             [
              0.8888888888888888,
              "#b5de2b"
             ],
             [
              1,
              "#fde725"
             ]
            ],
            "type": "histogram2dcontour"
           }
          ],
          "mesh3d": [
           {
            "colorbar": {
             "outlinewidth": 1,
             "tickcolor": "rgb(36,36,36)",
             "ticks": "outside"
            },
            "type": "mesh3d"
           }
          ],
          "parcoords": [
           {
            "line": {
             "colorbar": {
              "outlinewidth": 1,
              "tickcolor": "rgb(36,36,36)",
              "ticks": "outside"
             }
            },
            "type": "parcoords"
           }
          ],
          "pie": [
           {
            "automargin": true,
            "type": "pie"
           }
          ],
          "scatter": [
           {
            "fillpattern": {
             "fillmode": "overlay",
             "size": 10,
             "solidity": 0.2
            },
            "type": "scatter"
           }
          ],
          "scatter3d": [
           {
            "line": {
             "colorbar": {
              "outlinewidth": 1,
              "tickcolor": "rgb(36,36,36)",
              "ticks": "outside"
             }
            },
            "marker": {
             "colorbar": {
              "outlinewidth": 1,
              "tickcolor": "rgb(36,36,36)",
              "ticks": "outside"
             }
            },
            "type": "scatter3d"
           }
          ],
          "scattercarpet": [
           {
            "marker": {
             "colorbar": {
              "outlinewidth": 1,
              "tickcolor": "rgb(36,36,36)",
              "ticks": "outside"
             }
            },
            "type": "scattercarpet"
           }
          ],
          "scattergeo": [
           {
            "marker": {
             "colorbar": {
              "outlinewidth": 1,
              "tickcolor": "rgb(36,36,36)",
              "ticks": "outside"
             }
            },
            "type": "scattergeo"
           }
          ],
          "scattergl": [
           {
            "marker": {
             "colorbar": {
              "outlinewidth": 1,
              "tickcolor": "rgb(36,36,36)",
              "ticks": "outside"
             }
            },
            "type": "scattergl"
           }
          ],
          "scattermapbox": [
           {
            "marker": {
             "colorbar": {
              "outlinewidth": 1,
              "tickcolor": "rgb(36,36,36)",
              "ticks": "outside"
             }
            },
            "type": "scattermapbox"
           }
          ],
          "scatterpolar": [
           {
            "marker": {
             "colorbar": {
              "outlinewidth": 1,
              "tickcolor": "rgb(36,36,36)",
              "ticks": "outside"
             }
            },
            "type": "scatterpolar"
           }
          ],
          "scatterpolargl": [
           {
            "marker": {
             "colorbar": {
              "outlinewidth": 1,
              "tickcolor": "rgb(36,36,36)",
              "ticks": "outside"
             }
            },
            "type": "scatterpolargl"
           }
          ],
          "scatterternary": [
           {
            "marker": {
             "colorbar": {
              "outlinewidth": 1,
              "tickcolor": "rgb(36,36,36)",
              "ticks": "outside"
             }
            },
            "type": "scatterternary"
           }
          ],
          "surface": [
           {
            "colorbar": {
             "outlinewidth": 1,
             "tickcolor": "rgb(36,36,36)",
             "ticks": "outside"
            },
            "colorscale": [
             [
              0,
              "#440154"
             ],
             [
              0.1111111111111111,
              "#482878"
             ],
             [
              0.2222222222222222,
              "#3e4989"
             ],
             [
              0.3333333333333333,
              "#31688e"
             ],
             [
              0.4444444444444444,
              "#26828e"
             ],
             [
              0.5555555555555556,
              "#1f9e89"
             ],
             [
              0.6666666666666666,
              "#35b779"
             ],
             [
              0.7777777777777778,
              "#6ece58"
             ],
             [
              0.8888888888888888,
              "#b5de2b"
             ],
             [
              1,
              "#fde725"
             ]
            ],
            "type": "surface"
           }
          ],
          "table": [
           {
            "cells": {
             "fill": {
              "color": "rgb(237,237,237)"
             },
             "line": {
              "color": "white"
             }
            },
            "header": {
             "fill": {
              "color": "rgb(217,217,217)"
             },
             "line": {
              "color": "white"
             }
            },
            "type": "table"
           }
          ]
         },
         "layout": {
          "annotationdefaults": {
           "arrowhead": 0,
           "arrowwidth": 1
          },
          "autotypenumbers": "strict",
          "coloraxis": {
           "colorbar": {
            "outlinewidth": 1,
            "tickcolor": "rgb(36,36,36)",
            "ticks": "outside"
           }
          },
          "colorscale": {
           "diverging": [
            [
             0,
             "rgb(103,0,31)"
            ],
            [
             0.1,
             "rgb(178,24,43)"
            ],
            [
             0.2,
             "rgb(214,96,77)"
            ],
            [
             0.3,
             "rgb(244,165,130)"
            ],
            [
             0.4,
             "rgb(253,219,199)"
            ],
            [
             0.5,
             "rgb(247,247,247)"
            ],
            [
             0.6,
             "rgb(209,229,240)"
            ],
            [
             0.7,
             "rgb(146,197,222)"
            ],
            [
             0.8,
             "rgb(67,147,195)"
            ],
            [
             0.9,
             "rgb(33,102,172)"
            ],
            [
             1,
             "rgb(5,48,97)"
            ]
           ],
           "sequential": [
            [
             0,
             "#440154"
            ],
            [
             0.1111111111111111,
             "#482878"
            ],
            [
             0.2222222222222222,
             "#3e4989"
            ],
            [
             0.3333333333333333,
             "#31688e"
            ],
            [
             0.4444444444444444,
             "#26828e"
            ],
            [
             0.5555555555555556,
             "#1f9e89"
            ],
            [
             0.6666666666666666,
             "#35b779"
            ],
            [
             0.7777777777777778,
             "#6ece58"
            ],
            [
             0.8888888888888888,
             "#b5de2b"
            ],
            [
             1,
             "#fde725"
            ]
           ],
           "sequentialminus": [
            [
             0,
             "#440154"
            ],
            [
             0.1111111111111111,
             "#482878"
            ],
            [
             0.2222222222222222,
             "#3e4989"
            ],
            [
             0.3333333333333333,
             "#31688e"
            ],
            [
             0.4444444444444444,
             "#26828e"
            ],
            [
             0.5555555555555556,
             "#1f9e89"
            ],
            [
             0.6666666666666666,
             "#35b779"
            ],
            [
             0.7777777777777778,
             "#6ece58"
            ],
            [
             0.8888888888888888,
             "#b5de2b"
            ],
            [
             1,
             "#fde725"
            ]
           ]
          },
          "colorway": [
           "#1F77B4",
           "#FF7F0E",
           "#2CA02C",
           "#D62728",
           "#9467BD",
           "#8C564B",
           "#E377C2",
           "#7F7F7F",
           "#BCBD22",
           "#17BECF"
          ],
          "font": {
           "color": "rgb(36,36,36)"
          },
          "geo": {
           "bgcolor": "white",
           "lakecolor": "white",
           "landcolor": "white",
           "showlakes": true,
           "showland": true,
           "subunitcolor": "white"
          },
          "hoverlabel": {
           "align": "left"
          },
          "hovermode": "closest",
          "mapbox": {
           "style": "light"
          },
          "paper_bgcolor": "white",
          "plot_bgcolor": "white",
          "polar": {
           "angularaxis": {
            "gridcolor": "rgb(232,232,232)",
            "linecolor": "rgb(36,36,36)",
            "showgrid": false,
            "showline": true,
            "ticks": "outside"
           },
           "bgcolor": "white",
           "radialaxis": {
            "gridcolor": "rgb(232,232,232)",
            "linecolor": "rgb(36,36,36)",
            "showgrid": false,
            "showline": true,
            "ticks": "outside"
           }
          },
          "scene": {
           "xaxis": {
            "backgroundcolor": "white",
            "gridcolor": "rgb(232,232,232)",
            "gridwidth": 2,
            "linecolor": "rgb(36,36,36)",
            "showbackground": true,
            "showgrid": false,
            "showline": true,
            "ticks": "outside",
            "zeroline": false,
            "zerolinecolor": "rgb(36,36,36)"
           },
           "yaxis": {
            "backgroundcolor": "white",
            "gridcolor": "rgb(232,232,232)",
            "gridwidth": 2,
            "linecolor": "rgb(36,36,36)",
            "showbackground": true,
            "showgrid": false,
            "showline": true,
            "ticks": "outside",
            "zeroline": false,
            "zerolinecolor": "rgb(36,36,36)"
           },
           "zaxis": {
            "backgroundcolor": "white",
            "gridcolor": "rgb(232,232,232)",
            "gridwidth": 2,
            "linecolor": "rgb(36,36,36)",
            "showbackground": true,
            "showgrid": false,
            "showline": true,
            "ticks": "outside",
            "zeroline": false,
            "zerolinecolor": "rgb(36,36,36)"
           }
          },
          "shapedefaults": {
           "fillcolor": "black",
           "line": {
            "width": 0
           },
           "opacity": 0.3
          },
          "ternary": {
           "aaxis": {
            "gridcolor": "rgb(232,232,232)",
            "linecolor": "rgb(36,36,36)",
            "showgrid": false,
            "showline": true,
            "ticks": "outside"
           },
           "baxis": {
            "gridcolor": "rgb(232,232,232)",
            "linecolor": "rgb(36,36,36)",
            "showgrid": false,
            "showline": true,
            "ticks": "outside"
           },
           "bgcolor": "white",
           "caxis": {
            "gridcolor": "rgb(232,232,232)",
            "linecolor": "rgb(36,36,36)",
            "showgrid": false,
            "showline": true,
            "ticks": "outside"
           }
          },
          "title": {
           "x": 0.05
          },
          "xaxis": {
           "automargin": true,
           "gridcolor": "rgb(232,232,232)",
           "linecolor": "rgb(36,36,36)",
           "showgrid": false,
           "showline": true,
           "ticks": "outside",
           "title": {
            "standoff": 15
           },
           "zeroline": false,
           "zerolinecolor": "rgb(36,36,36)"
          },
          "yaxis": {
           "automargin": true,
           "gridcolor": "rgb(232,232,232)",
           "linecolor": "rgb(36,36,36)",
           "showgrid": false,
           "showline": true,
           "ticks": "outside",
           "title": {
            "standoff": 15
           },
           "zeroline": false,
           "zerolinecolor": "rgb(36,36,36)"
          }
         }
        },
        "title": {
         "font": {
          "color": "Black",
          "size": 22
         },
         "text": "<b>timelinevol",
         "x": 0.4,
         "xanchor": "center",
         "y": 0.95,
         "yanchor": "top"
        },
        "width": 1250,
        "xaxis": {
         "autorange": true,
         "range": [
          "2020-01-01",
          "2023-06-01"
         ],
         "rangeslider": {
          "autorange": true,
          "range": [
           "2020-01-01",
           "2023-06-01"
          ],
          "visible": true,
          "yaxis": {
           "_template": null,
           "rangemode": "match"
          }
         },
         "showgrid": true,
         "type": "date"
        },
        "yaxis": {
         "autorange": true,
         "range": [
          -31.864107079247688,
          31.418969786261325
         ],
         "showgrid": true,
         "title": {
          "text": "Frequency"
         },
         "type": "linear"
        }
       }
      },
      "image/png": "[encoded data removed]"
     },
     "metadata": {},
     "output_type": "display_data"
    }
   ],
   "source": [
    "plot_timeseries(df.query(f\"iso3=='KEN'\"), smooth_x=1, show_infl=True, show_peaks=True)"
   ]
  },
  {
   "cell_type": "code",
   "execution_count": 35,
   "id": "5f107e2e-c637-4e51-9f22-3dddb711f86f",
   "metadata": {
    "tags": []
   },
   "outputs": [
    {
     "data": {
      "application/vnd.plotly.v1+json": {
       "config": {
        "plotlyServerURL": "https://plot.ly"
       },
       "data": [
        {
         "hoverinfo": "text",
         "hovertemplate": "%{y}%{_xother}",
         "marker": {
          "color": "#E69F00"
         },
         "mode": "lines",
         "name": "KEN timelinevol_orig",
         "type": "scatter",
         "x": [
          "2020-01-01T00:00:00",
          "2020-02-01T00:00:00",
          "2020-03-01T00:00:00",
          "2020-04-01T00:00:00",
          "2020-05-01T00:00:00",
          "2020-06-01T00:00:00",
          "2020-07-01T00:00:00",
          "2020-08-01T00:00:00",
          "2020-09-01T00:00:00",
          "2020-10-01T00:00:00",
          "2020-11-01T00:00:00",
          "2020-12-01T00:00:00",
          "2021-01-01T00:00:00",
          "2021-02-01T00:00:00",
          "2021-03-01T00:00:00",
          "2021-04-01T00:00:00",
          "2021-05-01T00:00:00",
          "2021-06-01T00:00:00",
          "2021-07-01T00:00:00",
          "2021-08-01T00:00:00",
          "2021-09-01T00:00:00",
          "2021-10-01T00:00:00",
          "2021-11-01T00:00:00",
          "2021-12-01T00:00:00",
          "2022-01-01T00:00:00",
          "2022-02-01T00:00:00",
          "2022-03-01T00:00:00",
          "2022-04-01T00:00:00",
          "2022-05-01T00:00:00",
          "2022-06-01T00:00:00",
          "2022-07-01T00:00:00",
          "2022-08-01T00:00:00",
          "2022-09-01T00:00:00",
          "2022-10-01T00:00:00",
          "2022-11-01T00:00:00",
          "2022-12-01T00:00:00",
          "2023-01-01T00:00:00",
          "2023-02-01T00:00:00",
          "2023-03-01T00:00:00",
          "2023-04-01T00:00:00",
          "2023-05-01T00:00:00",
          "2023-06-01T00:00:00"
         ],
         "y": [
          0.1999,
          0.1902,
          0.2692,
          0.3676,
          0.2798,
          0.1691,
          0.1858,
          0.2349,
          0.1552,
          0.2372,
          0.2061,
          0.1968,
          0.1739,
          0.1756,
          0.16770000000000002,
          0.1522,
          0.136,
          0.1293,
          0.1485,
          0.15,
          0.1663,
          0.1676,
          0.19720000000000001,
          0.1787,
          0.1679,
          0.1834,
          0.2592,
          0.2566,
          0.2713,
          0.2686,
          0.3307,
          0.225,
          0.2547,
          0.308,
          0.3463,
          0.2731,
          0.2483,
          0.208,
          0.24,
          0.2662,
          0.2751,
          0.2484
         ]
        },
        {
         "hoverinfo": "text",
         "hovertemplate": "%{y}%{_xother}",
         "marker": {
          "color": "#E69F00"
         },
         "mode": "lines",
         "name": "KEN cpi",
         "type": "scatter",
         "x": [
          "2020-01-01T00:00:00",
          "2020-02-01T00:00:00",
          "2020-03-01T00:00:00",
          "2020-04-01T00:00:00",
          "2020-05-01T00:00:00",
          "2020-06-01T00:00:00",
          "2020-07-01T00:00:00",
          "2020-08-01T00:00:00",
          "2020-09-01T00:00:00",
          "2020-10-01T00:00:00",
          "2020-11-01T00:00:00",
          "2020-12-01T00:00:00",
          "2021-01-01T00:00:00",
          "2021-02-01T00:00:00",
          "2021-03-01T00:00:00",
          "2021-04-01T00:00:00",
          "2021-05-01T00:00:00",
          "2021-06-01T00:00:00",
          "2021-07-01T00:00:00",
          "2021-08-01T00:00:00",
          "2021-09-01T00:00:00",
          "2021-10-01T00:00:00",
          "2021-11-01T00:00:00",
          "2021-12-01T00:00:00",
          "2022-01-01T00:00:00",
          "2022-02-01T00:00:00",
          "2022-03-01T00:00:00",
          "2022-04-01T00:00:00",
          "2022-05-01T00:00:00",
          "2022-06-01T00:00:00",
          "2022-07-01T00:00:00",
          "2022-08-01T00:00:00",
          "2022-09-01T00:00:00",
          "2022-10-01T00:00:00",
          "2022-11-01T00:00:00",
          "2022-12-01T00:00:00",
          "2023-01-01T00:00:00",
          "2023-02-01T00:00:00",
          "2023-03-01T00:00:00",
          "2023-04-01T00:00:00",
          "2023-05-01T00:00:00",
          "2023-06-01T00:00:00"
         ],
         "y": [
          -0.04017082496545333,
          0.2521109802826242,
          -0.6252017985950914,
          -2.15392274794092,
          -1.7761364547801137,
          -1.6720618132107101,
          -1.5962562287681232,
          -1.3177176435760325,
          -1.1446868077110879,
          -0.9375301120057391,
          -0.6483030184444041,
          -0.33410942804792443,
          -0.053142761637148594,
          -0.5625312954534366,
          -0.6265096399099095,
          -0.6391266549933188,
          -0.810926598929813,
          -0.38097518338717873,
          -0.2701099075975291,
          0.21188255689775182,
          0.198726299602896,
          0.18895999085632376,
          -0.015269049125819775,
          -0.26112979490702515,
          -0.32204865562178653,
          -0.3797952927962047,
          -0.01231693662090089,
          0.4057484830088189,
          0.7294187780659669,
          1.1105994935765897,
          1.6409140849368384,
          1.654598549066025,
          1.7198528217197135,
          1.8186534477885636,
          1.7125262260758127,
          1.2451058279338691,
          0.9526728081939755,
          1.076263663317569,
          1.1129020100989147,
          0.15053659726330537,
          0.18299283437158817,
          0.2155131959685111
         ]
        },
        {
         "hoverinfo": "text",
         "hovertemplate": "%{y}%{_xother}",
         "marker": {
          "color": "#E69F00"
         },
         "mode": "lines",
         "name": "KEN tone",
         "type": "scatter",
         "x": [
          "2020-01-01T00:00:00",
          "2020-02-01T00:00:00",
          "2020-03-01T00:00:00",
          "2020-04-01T00:00:00",
          "2020-05-01T00:00:00",
          "2020-06-01T00:00:00",
          "2020-07-01T00:00:00",
          "2020-08-01T00:00:00",
          "2020-09-01T00:00:00",
          "2020-10-01T00:00:00",
          "2020-11-01T00:00:00",
          "2020-12-01T00:00:00",
          "2021-01-01T00:00:00",
          "2021-02-01T00:00:00",
          "2021-03-01T00:00:00",
          "2021-04-01T00:00:00",
          "2021-05-01T00:00:00",
          "2021-06-01T00:00:00",
          "2021-07-01T00:00:00",
          "2021-08-01T00:00:00",
          "2021-09-01T00:00:00",
          "2021-10-01T00:00:00",
          "2021-11-01T00:00:00",
          "2021-12-01T00:00:00",
          "2022-01-01T00:00:00",
          "2022-02-01T00:00:00",
          "2022-03-01T00:00:00",
          "2022-04-01T00:00:00",
          "2022-05-01T00:00:00",
          "2022-06-01T00:00:00",
          "2022-07-01T00:00:00",
          "2022-08-01T00:00:00",
          "2022-09-01T00:00:00",
          "2022-10-01T00:00:00",
          "2022-11-01T00:00:00",
          "2022-12-01T00:00:00",
          "2023-01-01T00:00:00",
          "2023-02-01T00:00:00",
          "2023-03-01T00:00:00",
          "2023-04-01T00:00:00",
          "2023-05-01T00:00:00",
          "2023-06-01T00:00:00"
         ],
         "y": [
          -17.386903236561697,
          -7.090295892909408,
          -26.055098411022755,
          -28.4142482075258,
          -21.506040222193672,
          -12.885257527044427,
          -5.385361377312202,
          -4.041128937315815,
          6.481963996979965,
          19.599388199527723,
          14.215262724488658,
          12.846667783270327,
          7.718673330135983,
          6.021250590635412,
          12.89822189365371,
          3.0766601616564135,
          5.997804412338739,
          5.5438795750038965,
          -9.49092669784325,
          -4.226486913694229,
          11.965281037756665,
          8.628703571903426,
          -2.3520969637145526,
          11.968608376740637,
          6.221327004000964,
          0.028677311071627076,
          -12.757143737132482,
          -18.2069897766195,
          -3.8680674360288427,
          -9.766416018851153,
          1.7679991508837816,
          0.3150112200786318,
          -2.0593497715375366,
          -8.67926825680735,
          1.7459993867609518,
          16.46529269018024,
          3.0775282056220976,
          -1.9019603632855646,
          12.017017318141402,
          1.1702510974793991,
          -1.39255928761972,
          -1.0662500091523484
         ]
        }
       ],
       "layout": {
        "height": 650,
        "hoverlabel": {
         "bgcolor": "white",
         "font": {
          "family": "Rockwell",
          "size": 16
         }
        },
        "legend": {
         "title": {
          "text": "<b>Org"
         }
        },
        "shapes": [
         {
          "line": {
           "color": "red",
           "dash": "dash",
           "width": 2
          },
          "type": "line",
          "x0": "2020-04-01T00:00:00",
          "x1": "2020-04-01T00:00:00",
          "xref": "x",
          "y0": 0,
          "y1": 1,
          "yref": "y domain"
         },
         {
          "line": {
           "color": "red",
           "dash": "dash",
           "width": 2
          },
          "type": "line",
          "x0": "2020-08-01T00:00:00",
          "x1": "2020-08-01T00:00:00",
          "xref": "x",
          "y0": 0,
          "y1": 1,
          "yref": "y domain"
         },
         {
          "line": {
           "color": "red",
           "dash": "dash",
           "width": 2
          },
          "type": "line",
          "x0": "2020-10-01T00:00:00",
          "x1": "2020-10-01T00:00:00",
          "xref": "x",
          "y0": 0,
          "y1": 1,
          "yref": "y domain"
         },
         {
          "line": {
           "color": "red",
           "dash": "dash",
           "width": 2
          },
          "type": "line",
          "x0": "2021-02-01T00:00:00",
          "x1": "2021-02-01T00:00:00",
          "xref": "x",
          "y0": 0,
          "y1": 1,
          "yref": "y domain"
         },
         {
          "line": {
           "color": "red",
           "dash": "dash",
           "width": 2
          },
          "type": "line",
          "x0": "2021-11-01T00:00:00",
          "x1": "2021-11-01T00:00:00",
          "xref": "x",
          "y0": 0,
          "y1": 1,
          "yref": "y domain"
         },
         {
          "line": {
           "color": "red",
           "dash": "dash",
           "width": 2
          },
          "type": "line",
          "x0": "2022-03-01T00:00:00",
          "x1": "2022-03-01T00:00:00",
          "xref": "x",
          "y0": 0,
          "y1": 1,
          "yref": "y domain"
         },
         {
          "line": {
           "color": "red",
           "dash": "dash",
           "width": 2
          },
          "type": "line",
          "x0": "2022-05-01T00:00:00",
          "x1": "2022-05-01T00:00:00",
          "xref": "x",
          "y0": 0,
          "y1": 1,
          "yref": "y domain"
         },
         {
          "line": {
           "color": "red",
           "dash": "dash",
           "width": 2
          },
          "type": "line",
          "x0": "2022-07-01T00:00:00",
          "x1": "2022-07-01T00:00:00",
          "xref": "x",
          "y0": 0,
          "y1": 1,
          "yref": "y domain"
         },
         {
          "line": {
           "color": "red",
           "dash": "dash",
           "width": 2
          },
          "type": "line",
          "x0": "2022-11-01T00:00:00",
          "x1": "2022-11-01T00:00:00",
          "xref": "x",
          "y0": 0,
          "y1": 1,
          "yref": "y domain"
         },
         {
          "line": {
           "color": "red",
           "dash": "dash",
           "width": 2
          },
          "type": "line",
          "x0": "2023-05-01T00:00:00",
          "x1": "2023-05-01T00:00:00",
          "xref": "x",
          "y0": 0,
          "y1": 1,
          "yref": "y domain"
         },
         {
          "line": {
           "color": "green",
           "dash": "dash",
           "width": 1
          },
          "type": "line",
          "x0": "2020-02-01T00:00:00",
          "x1": "2020-02-01T00:00:00",
          "xref": "x",
          "y0": 0,
          "y1": 1,
          "yref": "y domain"
         },
         {
          "line": {
           "color": "green",
           "dash": "dash",
           "width": 1
          },
          "type": "line",
          "x0": "2020-06-01T00:00:00",
          "x1": "2020-06-01T00:00:00",
          "xref": "x",
          "y0": 0,
          "y1": 1,
          "yref": "y domain"
         },
         {
          "line": {
           "color": "green",
           "dash": "dash",
           "width": 1
          },
          "type": "line",
          "x0": "2020-09-01T00:00:00",
          "x1": "2020-09-01T00:00:00",
          "xref": "x",
          "y0": 0,
          "y1": 1,
          "yref": "y domain"
         },
         {
          "line": {
           "color": "green",
           "dash": "dash",
           "width": 1
          },
          "type": "line",
          "x0": "2021-01-01T00:00:00",
          "x1": "2021-01-01T00:00:00",
          "xref": "x",
          "y0": 0,
          "y1": 1,
          "yref": "y domain"
         },
         {
          "line": {
           "color": "green",
           "dash": "dash",
           "width": 1
          },
          "type": "line",
          "x0": "2022-02-01T00:00:00",
          "x1": "2022-02-01T00:00:00",
          "xref": "x",
          "y0": 0,
          "y1": 1,
          "yref": "y domain"
         },
         {
          "line": {
           "color": "green",
           "dash": "dash",
           "width": 1
          },
          "type": "line",
          "x0": "2022-12-01T00:00:00",
          "x1": "2022-12-01T00:00:00",
          "xref": "x",
          "y0": 0,
          "y1": 1,
          "yref": "y domain"
         },
         {
          "line": {
           "color": "green",
           "dash": "dash",
           "width": 1
          },
          "type": "line",
          "x0": "2023-03-01T00:00:00",
          "x1": "2023-03-01T00:00:00",
          "xref": "x",
          "y0": 0,
          "y1": 1,
          "yref": "y domain"
         }
        ],
        "template": {
         "data": {
          "bar": [
           {
            "error_x": {
             "color": "rgb(36,36,36)"
            },
            "error_y": {
             "color": "rgb(36,36,36)"
            },
            "marker": {
             "line": {
              "color": "white",
              "width": 0.5
             },
             "pattern": {
              "fillmode": "overlay",
              "size": 10,
              "solidity": 0.2
             }
            },
            "type": "bar"
           }
          ],
          "barpolar": [
           {
            "marker": {
             "line": {
              "color": "white",
              "width": 0.5
             },
             "pattern": {
              "fillmode": "overlay",
              "size": 10,
              "solidity": 0.2
             }
            },
            "type": "barpolar"
           }
          ],
          "carpet": [
           {
            "aaxis": {
             "endlinecolor": "rgb(36,36,36)",
             "gridcolor": "white",
             "linecolor": "white",
             "minorgridcolor": "white",
             "startlinecolor": "rgb(36,36,36)"
            },
            "baxis": {
             "endlinecolor": "rgb(36,36,36)",
             "gridcolor": "white",
             "linecolor": "white",
             "minorgridcolor": "white",
             "startlinecolor": "rgb(36,36,36)"
            },
            "type": "carpet"
           }
          ],
          "choropleth": [
           {
            "colorbar": {
             "outlinewidth": 1,
             "tickcolor": "rgb(36,36,36)",
             "ticks": "outside"
            },
            "type": "choropleth"
           }
          ],
          "contour": [
           {
            "colorbar": {
             "outlinewidth": 1,
             "tickcolor": "rgb(36,36,36)",
             "ticks": "outside"
            },
            "colorscale": [
             [
              0,
              "#440154"
             ],
             [
              0.1111111111111111,
              "#482878"
             ],
             [
              0.2222222222222222,
              "#3e4989"
             ],
             [
              0.3333333333333333,
              "#31688e"
             ],
             [
              0.4444444444444444,
              "#26828e"
             ],
             [
              0.5555555555555556,
              "#1f9e89"
             ],
             [
              0.6666666666666666,
              "#35b779"
             ],
             [
              0.7777777777777778,
              "#6ece58"
             ],
             [
              0.8888888888888888,
              "#b5de2b"
             ],
             [
              1,
              "#fde725"
             ]
            ],
            "type": "contour"
           }
          ],
          "contourcarpet": [
           {
            "colorbar": {
             "outlinewidth": 1,
             "tickcolor": "rgb(36,36,36)",
             "ticks": "outside"
            },
            "type": "contourcarpet"
           }
          ],
          "heatmap": [
           {
            "colorbar": {
             "outlinewidth": 1,
             "tickcolor": "rgb(36,36,36)",
             "ticks": "outside"
            },
            "colorscale": [
             [
              0,
              "#440154"
             ],
             [
              0.1111111111111111,
              "#482878"
             ],
             [
              0.2222222222222222,
              "#3e4989"
             ],
             [
              0.3333333333333333,
              "#31688e"
             ],
             [
              0.4444444444444444,
              "#26828e"
             ],
             [
              0.5555555555555556,
              "#1f9e89"
             ],
             [
              0.6666666666666666,
              "#35b779"
             ],
             [
              0.7777777777777778,
              "#6ece58"
             ],
             [
              0.8888888888888888,
              "#b5de2b"
             ],
             [
              1,
              "#fde725"
             ]
            ],
            "type": "heatmap"
           }
          ],
          "heatmapgl": [
           {
            "colorbar": {
             "outlinewidth": 1,
             "tickcolor": "rgb(36,36,36)",
             "ticks": "outside"
            },
            "colorscale": [
             [
              0,
              "#440154"
             ],
             [
              0.1111111111111111,
              "#482878"
             ],
             [
              0.2222222222222222,
              "#3e4989"
             ],
             [
              0.3333333333333333,
              "#31688e"
             ],
             [
              0.4444444444444444,
              "#26828e"
             ],
             [
              0.5555555555555556,
              "#1f9e89"
             ],
             [
              0.6666666666666666,
              "#35b779"
             ],
             [
              0.7777777777777778,
              "#6ece58"
             ],
             [
              0.8888888888888888,
              "#b5de2b"
             ],
             [
              1,
              "#fde725"
             ]
            ],
            "type": "heatmapgl"
           }
          ],
          "histogram": [
           {
            "marker": {
             "line": {
              "color": "white",
              "width": 0.6
             }
            },
            "type": "histogram"
           }
          ],
          "histogram2d": [
           {
            "colorbar": {
             "outlinewidth": 1,
             "tickcolor": "rgb(36,36,36)",
             "ticks": "outside"
            },
            "colorscale": [
             [
              0,
              "#440154"
             ],
             [
              0.1111111111111111,
              "#482878"
             ],
             [
              0.2222222222222222,
              "#3e4989"
             ],
             [
              0.3333333333333333,
              "#31688e"
             ],
             [
              0.4444444444444444,
              "#26828e"
             ],
             [
              0.5555555555555556,
              "#1f9e89"
             ],
             [
              0.6666666666666666,
              "#35b779"
             ],
             [
              0.7777777777777778,
              "#6ece58"
             ],
             [
              0.8888888888888888,
              "#b5de2b"
             ],
             [
              1,
              "#fde725"
             ]
            ],
            "type": "histogram2d"
           }
          ],
          "histogram2dcontour": [
           {
            "colorbar": {
             "outlinewidth": 1,
             "tickcolor": "rgb(36,36,36)",
             "ticks": "outside"
            },
            "colorscale": [
             [
              0,
              "#440154"
             ],
             [
              0.1111111111111111,
              "#482878"
             ],
             [
              0.2222222222222222,
              "#3e4989"
             ],
             [
              0.3333333333333333,
              "#31688e"
             ],
             [
              0.4444444444444444,
              "#26828e"
             ],
             [
              0.5555555555555556,
              "#1f9e89"
             ],
             [
              0.6666666666666666,
              "#35b779"
             ],
             [
              0.7777777777777778,
              "#6ece58"
             ],
             [
              0.8888888888888888,
              "#b5de2b"
             ],
             [
              1,
              "#fde725"
             ]
            ],
            "type": "histogram2dcontour"
           }
          ],
          "mesh3d": [
           {
            "colorbar": {
             "outlinewidth": 1,
             "tickcolor": "rgb(36,36,36)",
             "ticks": "outside"
            },
            "type": "mesh3d"
           }
          ],
          "parcoords": [
           {
            "line": {
             "colorbar": {
              "outlinewidth": 1,
              "tickcolor": "rgb(36,36,36)",
              "ticks": "outside"
             }
            },
            "type": "parcoords"
           }
          ],
          "pie": [
           {
            "automargin": true,
            "type": "pie"
           }
          ],
          "scatter": [
           {
            "fillpattern": {
             "fillmode": "overlay",
             "size": 10,
             "solidity": 0.2
            },
            "type": "scatter"
           }
          ],
          "scatter3d": [
           {
            "line": {
             "colorbar": {
              "outlinewidth": 1,
              "tickcolor": "rgb(36,36,36)",
              "ticks": "outside"
             }
            },
            "marker": {
             "colorbar": {
              "outlinewidth": 1,
              "tickcolor": "rgb(36,36,36)",
              "ticks": "outside"
             }
            },
            "type": "scatter3d"
           }
          ],
          "scattercarpet": [
           {
            "marker": {
             "colorbar": {
              "outlinewidth": 1,
              "tickcolor": "rgb(36,36,36)",
              "ticks": "outside"
             }
            },
            "type": "scattercarpet"
           }
          ],
          "scattergeo": [
           {
            "marker": {
             "colorbar": {
              "outlinewidth": 1,
              "tickcolor": "rgb(36,36,36)",
              "ticks": "outside"
             }
            },
            "type": "scattergeo"
           }
          ],
          "scattergl": [
           {
            "marker": {
             "colorbar": {
              "outlinewidth": 1,
              "tickcolor": "rgb(36,36,36)",
              "ticks": "outside"
             }
            },
            "type": "scattergl"
           }
          ],
          "scattermapbox": [
           {
            "marker": {
             "colorbar": {
              "outlinewidth": 1,
              "tickcolor": "rgb(36,36,36)",
              "ticks": "outside"
             }
            },
            "type": "scattermapbox"
           }
          ],
          "scatterpolar": [
           {
            "marker": {
             "colorbar": {
              "outlinewidth": 1,
              "tickcolor": "rgb(36,36,36)",
              "ticks": "outside"
             }
            },
            "type": "scatterpolar"
           }
          ],
          "scatterpolargl": [
           {
            "marker": {
             "colorbar": {
              "outlinewidth": 1,
              "tickcolor": "rgb(36,36,36)",
              "ticks": "outside"
             }
            },
            "type": "scatterpolargl"
           }
          ],
          "scatterternary": [
           {
            "marker": {
             "colorbar": {
              "outlinewidth": 1,
              "tickcolor": "rgb(36,36,36)",
              "ticks": "outside"
             }
            },
            "type": "scatterternary"
           }
          ],
          "surface": [
           {
            "colorbar": {
             "outlinewidth": 1,
             "tickcolor": "rgb(36,36,36)",
             "ticks": "outside"
            },
            "colorscale": [
             [
              0,
              "#440154"
             ],
             [
              0.1111111111111111,
              "#482878"
             ],
             [
              0.2222222222222222,
              "#3e4989"
             ],
             [
              0.3333333333333333,
              "#31688e"
             ],
             [
              0.4444444444444444,
              "#26828e"
             ],
             [
              0.5555555555555556,
              "#1f9e89"
             ],
             [
              0.6666666666666666,
              "#35b779"
             ],
             [
              0.7777777777777778,
              "#6ece58"
             ],
             [
              0.8888888888888888,
              "#b5de2b"
             ],
             [
              1,
              "#fde725"
             ]
            ],
            "type": "surface"
           }
          ],
          "table": [
           {
            "cells": {
             "fill": {
              "color": "rgb(237,237,237)"
             },
             "line": {
              "color": "white"
             }
            },
            "header": {
             "fill": {
              "color": "rgb(217,217,217)"
             },
             "line": {
              "color": "white"
             }
            },
            "type": "table"
           }
          ]
         },
         "layout": {
          "annotationdefaults": {
           "arrowhead": 0,
           "arrowwidth": 1
          },
          "autotypenumbers": "strict",
          "coloraxis": {
           "colorbar": {
            "outlinewidth": 1,
            "tickcolor": "rgb(36,36,36)",
            "ticks": "outside"
           }
          },
          "colorscale": {
           "diverging": [
            [
             0,
             "rgb(103,0,31)"
            ],
            [
             0.1,
             "rgb(178,24,43)"
            ],
            [
             0.2,
             "rgb(214,96,77)"
            ],
            [
             0.3,
             "rgb(244,165,130)"
            ],
            [
             0.4,
             "rgb(253,219,199)"
            ],
            [
             0.5,
             "rgb(247,247,247)"
            ],
            [
             0.6,
             "rgb(209,229,240)"
            ],
            [
             0.7,
             "rgb(146,197,222)"
            ],
            [
             0.8,
             "rgb(67,147,195)"
            ],
            [
             0.9,
             "rgb(33,102,172)"
            ],
            [
             1,
             "rgb(5,48,97)"
            ]
           ],
           "sequential": [
            [
             0,
             "#440154"
            ],
            [
             0.1111111111111111,
             "#482878"
            ],
            [
             0.2222222222222222,
             "#3e4989"
            ],
            [
             0.3333333333333333,
             "#31688e"
            ],
            [
             0.4444444444444444,
             "#26828e"
            ],
            [
             0.5555555555555556,
             "#1f9e89"
            ],
            [
             0.6666666666666666,
             "#35b779"
            ],
            [
             0.7777777777777778,
             "#6ece58"
            ],
            [
             0.8888888888888888,
             "#b5de2b"
            ],
            [
             1,
             "#fde725"
            ]
           ],
           "sequentialminus": [
            [
             0,
             "#440154"
            ],
            [
             0.1111111111111111,
             "#482878"
            ],
            [
             0.2222222222222222,
             "#3e4989"
            ],
            [
             0.3333333333333333,
             "#31688e"
            ],
            [
             0.4444444444444444,
             "#26828e"
            ],
            [
             0.5555555555555556,
             "#1f9e89"
            ],
            [
             0.6666666666666666,
             "#35b779"
            ],
            [
             0.7777777777777778,
             "#6ece58"
            ],
            [
             0.8888888888888888,
             "#b5de2b"
            ],
            [
             1,
             "#fde725"
            ]
           ]
          },
          "colorway": [
           "#1F77B4",
           "#FF7F0E",
           "#2CA02C",
           "#D62728",
           "#9467BD",
           "#8C564B",
           "#E377C2",
           "#7F7F7F",
           "#BCBD22",
           "#17BECF"
          ],
          "font": {
           "color": "rgb(36,36,36)"
          },
          "geo": {
           "bgcolor": "white",
           "lakecolor": "white",
           "landcolor": "white",
           "showlakes": true,
           "showland": true,
           "subunitcolor": "white"
          },
          "hoverlabel": {
           "align": "left"
          },
          "hovermode": "closest",
          "mapbox": {
           "style": "light"
          },
          "paper_bgcolor": "white",
          "plot_bgcolor": "white",
          "polar": {
           "angularaxis": {
            "gridcolor": "rgb(232,232,232)",
            "linecolor": "rgb(36,36,36)",
            "showgrid": false,
            "showline": true,
            "ticks": "outside"
           },
           "bgcolor": "white",
           "radialaxis": {
            "gridcolor": "rgb(232,232,232)",
            "linecolor": "rgb(36,36,36)",
            "showgrid": false,
            "showline": true,
            "ticks": "outside"
           }
          },
          "scene": {
           "xaxis": {
            "backgroundcolor": "white",
            "gridcolor": "rgb(232,232,232)",
            "gridwidth": 2,
            "linecolor": "rgb(36,36,36)",
            "showbackground": true,
            "showgrid": false,
            "showline": true,
            "ticks": "outside",
            "zeroline": false,
            "zerolinecolor": "rgb(36,36,36)"
           },
           "yaxis": {
            "backgroundcolor": "white",
            "gridcolor": "rgb(232,232,232)",
            "gridwidth": 2,
            "linecolor": "rgb(36,36,36)",
            "showbackground": true,
            "showgrid": false,
            "showline": true,
            "ticks": "outside",
            "zeroline": false,
            "zerolinecolor": "rgb(36,36,36)"
           },
           "zaxis": {
            "backgroundcolor": "white",
            "gridcolor": "rgb(232,232,232)",
            "gridwidth": 2,
            "linecolor": "rgb(36,36,36)",
            "showbackground": true,
            "showgrid": false,
            "showline": true,
            "ticks": "outside",
            "zeroline": false,
            "zerolinecolor": "rgb(36,36,36)"
           }
          },
          "shapedefaults": {
           "fillcolor": "black",
           "line": {
            "width": 0
           },
           "opacity": 0.3
          },
          "ternary": {
           "aaxis": {
            "gridcolor": "rgb(232,232,232)",
            "linecolor": "rgb(36,36,36)",
            "showgrid": false,
            "showline": true,
            "ticks": "outside"
           },
           "baxis": {
            "gridcolor": "rgb(232,232,232)",
            "linecolor": "rgb(36,36,36)",
            "showgrid": false,
            "showline": true,
            "ticks": "outside"
           },
           "bgcolor": "white",
           "caxis": {
            "gridcolor": "rgb(232,232,232)",
            "linecolor": "rgb(36,36,36)",
            "showgrid": false,
            "showline": true,
            "ticks": "outside"
           }
          },
          "title": {
           "x": 0.05
          },
          "xaxis": {
           "automargin": true,
           "gridcolor": "rgb(232,232,232)",
           "linecolor": "rgb(36,36,36)",
           "showgrid": false,
           "showline": true,
           "ticks": "outside",
           "title": {
            "standoff": 15
           },
           "zeroline": false,
           "zerolinecolor": "rgb(36,36,36)"
          },
          "yaxis": {
           "automargin": true,
           "gridcolor": "rgb(232,232,232)",
           "linecolor": "rgb(36,36,36)",
           "showgrid": false,
           "showline": true,
           "ticks": "outside",
           "title": {
            "standoff": 15
           },
           "zeroline": false,
           "zerolinecolor": "rgb(36,36,36)"
          }
         }
        },
        "title": {
         "font": {
          "color": "Black",
          "size": 22
         },
         "text": "<b>timelinevol_orig",
         "x": 0.4,
         "xanchor": "center",
         "y": 0.95,
         "yanchor": "top"
        },
        "width": 1250,
        "xaxis": {
         "autorange": true,
         "range": [
          "2020-01-01",
          "2023-06-01"
         ],
         "rangeslider": {
          "autorange": true,
          "range": [
           "2020-01-01",
           "2023-06-01"
          ],
          "visible": true,
          "yaxis": {
           "_template": null,
           "rangemode": "match"
          }
         },
         "showgrid": true,
         "type": "date"
        },
        "yaxis": {
         "autorange": true,
         "range": [
          -31.08167245236211,
          22.26681244436403
         ],
         "showgrid": true,
         "title": {
          "text": "Frequency"
         },
         "type": "linear"
        }
       }
      },
      "image/png": "[encoded data removed]"
     },
     "metadata": {},
     "output_type": "display_data"
    }
   ],
   "source": [
    "plot_timeseries(df.query(f\"iso3=='KEN'\"), colname='timelinevol_orig', smooth_x=None, )"
   ]
  },
  {
   "cell_type": "code",
   "execution_count": 36,
   "id": "6ae1ed4b-714e-4c96-b293-20ed9930875f",
   "metadata": {
    "tags": []
   },
   "outputs": [
    {
     "name": "stdout",
     "output_type": "stream",
     "text": [
      "Author: ewheeler@unicef.org\n",
      "\n",
      "Last updated: 2023-11-04T22:03:50.629129+03:00\n",
      "\n",
      "Python implementation: CPython\n",
      "Python version       : 3.10.9\n",
      "IPython version      : 8.12.0\n",
      "\n",
      "Compiler    : Clang 14.0.6 \n",
      "OS          : Darwin\n",
      "Release     : 21.4.0\n",
      "Machine     : arm64\n",
      "Processor   : arm\n",
      "CPU cores   : 10\n",
      "Architecture: 64bit\n",
      "\n",
      "plotly    : 5.14.1\n",
      "pandas    : 2.1.1\n",
      "matplotlib: 3.6.3\n",
      "seaborn   : 0.12.2\n",
      "numpy     : 1.24.1\n",
      "\n"
     ]
    }
   ],
   "source": [
    "# NOTE some dependencies may be missing\n",
    "# https://github.com/rasbt/watermark/issues/74\n",
    "%load_ext watermark\n",
    "%watermark -u -i -m -v -iv --author ewheeler@unicef.org"
   ]
  },
  {
   "cell_type": "code",
   "execution_count": null,
   "id": "f89c4571-7620-45af-afa8-e3de97aff216",
   "metadata": {},
   "outputs": [],
   "source": []
  }
 ],
 "metadata": {
  "kernelspec": {
   "display_name": "Python [conda env:magasin] *",
   "language": "python",
   "name": "conda-env-magasin-py"
  },
  "language_info": {
   "codemirror_mode": {
    "name": "ipython",
    "version": 3
   },
   "file_extension": ".py",
   "mimetype": "text/x-python",
   "name": "python",
   "nbconvert_exporter": "python",
   "pygments_lexer": "ipython3",
   "version": "3.10.9"
  }
 },
 "nbformat": 4,
 "nbformat_minor": 5
}
