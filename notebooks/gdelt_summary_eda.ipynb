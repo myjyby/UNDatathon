{
 "cells": [
  {
   "cell_type": "code",
   "execution_count": 1,
   "id": "0358254f-9151-4f14-933d-e9f4391cb50f",
   "metadata": {
    "tags": []
   },
   "outputs": [],
   "source": [
    "#!pip install universal_pathlib"
   ]
  },
  {
   "cell_type": "code",
   "execution_count": 2,
   "id": "5fd10929-7ff6-4a7f-a57c-4e6323b4620f",
   "metadata": {
    "tags": []
   },
   "outputs": [],
   "source": [
    "import joblib\n",
    "import numpy as np\n",
    "import pandas as pd\n",
    "from upath import UPath as Path\n",
    "\n",
    "from scipy.ndimage import gaussian_filter1d\n",
    "from scipy.interpolate import interp1d\n",
    "from scipy.signal import find_peaks\n",
    "from sklearn.preprocessing import scale\n",
    "\n",
    "import seaborn as sns\n",
    "import matplotlib.pyplot as plt\n",
    "import plotly.graph_objects as go\n",
    "import plotly.io as pio"
   ]
  },
  {
   "cell_type": "code",
   "execution_count": 3,
   "id": "48baf3fe-4c98-431a-b497-d71633e133f0",
   "metadata": {},
   "outputs": [],
   "source": [
    "import warnings\n",
    "warnings.filterwarnings('ignore')"
   ]
  },
  {
   "cell_type": "code",
   "execution_count": 4,
   "id": "8dfb3606-2b1c-436b-bc6e-6ec180f2a726",
   "metadata": {
    "tags": []
   },
   "outputs": [],
   "source": [
    "files_dir = Path(\"/Users/ewheeler/dev/UNDatathon/data/gdelt_files/\")"
   ]
  },
  {
   "cell_type": "code",
   "execution_count": 5,
   "id": "33a513d1-9e4c-4ae5-8626-942a5d623741",
   "metadata": {
    "tags": []
   },
   "outputs": [],
   "source": [
    "def make_country_name_mapper(location_column_name, extra_from=None):\n",
    "    # TODO caller needs a way to find out what `location_column_names` are possible\n",
    "    # and/or we should match shorthands like\n",
    "    # {'unicef': 'UNICEFOU', 'iso3': 'ISO3 (geonames)'}\n",
    "    territory_identifiers = pd.read_csv(files_dir / \"country-codes/country_codes.csv\")\n",
    "\n",
    "    class CountryNameMapper:\n",
    "        # TODO add docstring\n",
    "        def __init__(self, location_column_name, codes, extra_from):\n",
    "            self.map = dict()\n",
    "            self.codes = codes\n",
    "        \n",
    "            # these columns have country name strings in various formats\n",
    "            ccode_name_cols = ['Country or Area_en (M49)', 'English Short (unterm)',\n",
    "                               'English Formal (unterm)', 'name_short (exio-wiod-eora)',\n",
    "                               'name_official (exio-wiod-eora)', 'Short name (fao)',\n",
    "                               'Official name (fao)', 'Country (geonames)']\n",
    "            if extra_from is not None:\n",
    "                for extra in extra_from:\n",
    "                    ccode_name_cols.append(extra)\n",
    "\n",
    "            # make mapping of all various country name formats to desired location_column_name contents\n",
    "            for country_name_col in ccode_name_cols:\n",
    "                self.map.update(dict(self.codes[[country_name_col, location_column_name]].dropna().values))\n",
    "            print(len(self.map.keys()))\n",
    "        \n",
    "        def __call__(self, location_name):\n",
    "            # TODO might want to return the original location_name if not matched.\n",
    "            # should make_location_name_mapper take some kind of 'missing value handler' parameter?\n",
    "            return self.map.get(location_name, pd.NA)\n",
    "        \n",
    "    return CountryNameMapper(location_column_name, territory_identifiers, extra_from)"
   ]
  },
  {
   "cell_type": "code",
   "execution_count": 6,
   "id": "a7b11fc5-c798-40fb-990d-545c9bc52c77",
   "metadata": {
    "tags": []
   },
   "outputs": [
    {
     "name": "stdout",
     "output_type": "stream",
     "text": [
      "1141\n"
     ]
    }
   ],
   "source": [
    "iso3_mapper = make_country_name_mapper('ISO3 (geonames)', extra_from=['fips (geonames)', 'M49 Code (M49)'])"
   ]
  },
  {
   "cell_type": "code",
   "execution_count": 7,
   "id": "f2839c81-74eb-4217-8d20-4957c0582b4a",
   "metadata": {
    "tags": []
   },
   "outputs": [],
   "source": [
    "territory_identifiers = pd.read_csv(files_dir / \"country-codes/country_codes.csv\")"
   ]
  },
  {
   "cell_type": "code",
   "execution_count": 8,
   "id": "6a5a6fbf-95a9-4e41-8398-b9375b887a24",
   "metadata": {
    "tags": []
   },
   "outputs": [],
   "source": [
    "#territory_identifiers.columns.values"
   ]
  },
  {
   "cell_type": "code",
   "execution_count": 9,
   "id": "f8146c22-aadb-430f-a9a3-94413a8602e1",
   "metadata": {
    "tags": []
   },
   "outputs": [],
   "source": [
    "df_iso_fips = territory_identifiers[['ISO3 (geonames)', 'fips (geonames)']].dropna()\n",
    "iso_fips_map = dict(zip(df_iso_fips['ISO3 (geonames)'].values, df_iso_fips['fips (geonames)'].values))"
   ]
  },
  {
   "cell_type": "code",
   "execution_count": 10,
   "id": "03f5937d-f934-4e10-9d91-f7034d23b666",
   "metadata": {
    "tags": []
   },
   "outputs": [
    {
     "data": {
      "text/plain": [
       "'SDN'"
      ]
     },
     "execution_count": 10,
     "metadata": {},
     "output_type": "execute_result"
    }
   ],
   "source": [
    "df_m49_iso = territory_identifiers[['M49 Code (M49)', 'ISO3 (geonames)']].dropna()\n",
    "m49_iso_map = dict(zip(df_m49_iso['M49 Code (M49)'].astype(int).values, df_m49_iso['ISO3 (geonames)'].values))\n",
    "m49_iso_map[729]"
   ]
  },
  {
   "cell_type": "code",
   "execution_count": 11,
   "id": "8f561f94-8e1f-4fe3-a5c6-2ffcea338df4",
   "metadata": {
    "tags": []
   },
   "outputs": [],
   "source": [
    "target_countries_iso = ['UKR', 'DJI', 'EGY', 'KEN', 'MOZ', 'SDN', 'TZA', 'RUS']"
   ]
  },
  {
   "cell_type": "code",
   "execution_count": 12,
   "id": "e87212f0-f37f-4f73-8772-4d4ba6bf83ad",
   "metadata": {
    "tags": []
   },
   "outputs": [
    {
     "data": {
      "text/plain": [
       "['UP', 'DJ', 'EG', 'KE', 'MZ', 'SU', 'TZ', 'RS']"
      ]
     },
     "execution_count": 12,
     "metadata": {},
     "output_type": "execute_result"
    }
   ],
   "source": [
    "target_countries_fips = [iso_fips_map[c] for c in target_countries_iso]\n",
    "target_countries_fips"
   ]
  },
  {
   "cell_type": "code",
   "execution_count": 13,
   "id": "16e06e91-e1c0-4ba0-a685-90bf0ff62ea5",
   "metadata": {
    "tags": []
   },
   "outputs": [],
   "source": [
    "gdelt_query = 'food'"
   ]
  },
  {
   "cell_type": "code",
   "execution_count": 14,
   "id": "3966be7a-4e7b-4a51-9cc1-f5884e8126b1",
   "metadata": {
    "tags": []
   },
   "outputs": [
    {
     "data": {
      "text/plain": [
       "[PosixPath('/Users/ewheeler/dev/UNDatathon/data/gdelt_files/gdelt_food_timelinetone.feather'),\n",
       " PosixPath('/Users/ewheeler/dev/UNDatathon/data/gdelt_files/gdelt_food_timelinevol.feather'),\n",
       " PosixPath('/Users/ewheeler/dev/UNDatathon/data/gdelt_files/gdelt_food_artlist.feather'),\n",
       " PosixPath('/Users/ewheeler/dev/UNDatathon/data/gdelt_files/gdelt_food_timelinevolraw.feather')]"
      ]
     },
     "execution_count": 14,
     "metadata": {},
     "output_type": "execute_result"
    }
   ],
   "source": [
    "datasets = list(files_dir.glob(f'*{gdelt_query}*.feather'))\n",
    "datasets"
   ]
  },
  {
   "cell_type": "code",
   "execution_count": 15,
   "id": "00f08723-3b4d-408a-ae7d-9bada81fb3d6",
   "metadata": {
    "tags": []
   },
   "outputs": [
    {
     "data": {
      "text/html": [
       "<div>\n",
       "<style scoped>\n",
       "    .dataframe tbody tr th:only-of-type {\n",
       "        vertical-align: middle;\n",
       "    }\n",
       "\n",
       "    .dataframe tbody tr th {\n",
       "        vertical-align: top;\n",
       "    }\n",
       "\n",
       "    .dataframe thead th {\n",
       "        text-align: right;\n",
       "    }\n",
       "</style>\n",
       "<table border=\"1\" class=\"dataframe\">\n",
       "  <thead>\n",
       "    <tr style=\"text-align: right;\">\n",
       "      <th></th>\n",
       "      <th>Date</th>\n",
       "      <th>Series</th>\n",
       "      <th>Value</th>\n",
       "      <th>fips</th>\n",
       "      <th>query</th>\n",
       "      <th>api_mode</th>\n",
       "    </tr>\n",
       "  </thead>\n",
       "  <tbody>\n",
       "    <tr>\n",
       "      <th>0</th>\n",
       "      <td>2020-01-01</td>\n",
       "      <td>Average Tone</td>\n",
       "      <td>0.9926</td>\n",
       "      <td>CV</td>\n",
       "      <td>food</td>\n",
       "      <td>timelinetone</td>\n",
       "    </tr>\n",
       "    <tr>\n",
       "      <th>1</th>\n",
       "      <td>2020-01-02</td>\n",
       "      <td>Average Tone</td>\n",
       "      <td>-3.3071</td>\n",
       "      <td>CV</td>\n",
       "      <td>food</td>\n",
       "      <td>timelinetone</td>\n",
       "    </tr>\n",
       "    <tr>\n",
       "      <th>2</th>\n",
       "      <td>2020-01-03</td>\n",
       "      <td>Average Tone</td>\n",
       "      <td>0.0000</td>\n",
       "      <td>CV</td>\n",
       "      <td>food</td>\n",
       "      <td>timelinetone</td>\n",
       "    </tr>\n",
       "    <tr>\n",
       "      <th>3</th>\n",
       "      <td>2020-01-04</td>\n",
       "      <td>Average Tone</td>\n",
       "      <td>0.0000</td>\n",
       "      <td>CV</td>\n",
       "      <td>food</td>\n",
       "      <td>timelinetone</td>\n",
       "    </tr>\n",
       "    <tr>\n",
       "      <th>4</th>\n",
       "      <td>2020-01-05</td>\n",
       "      <td>Average Tone</td>\n",
       "      <td>0.0000</td>\n",
       "      <td>CV</td>\n",
       "      <td>food</td>\n",
       "      <td>timelinetone</td>\n",
       "    </tr>\n",
       "    <tr>\n",
       "      <th>...</th>\n",
       "      <td>...</td>\n",
       "      <td>...</td>\n",
       "      <td>...</td>\n",
       "      <td>...</td>\n",
       "      <td>...</td>\n",
       "      <td>...</td>\n",
       "    </tr>\n",
       "    <tr>\n",
       "      <th>360</th>\n",
       "      <td>2019-12-27</td>\n",
       "      <td>Average Tone</td>\n",
       "      <td>-2.5078</td>\n",
       "      <td>MZ</td>\n",
       "      <td>food</td>\n",
       "      <td>timelinetone</td>\n",
       "    </tr>\n",
       "    <tr>\n",
       "      <th>361</th>\n",
       "      <td>2019-12-28</td>\n",
       "      <td>Average Tone</td>\n",
       "      <td>0.0000</td>\n",
       "      <td>MZ</td>\n",
       "      <td>food</td>\n",
       "      <td>timelinetone</td>\n",
       "    </tr>\n",
       "    <tr>\n",
       "      <th>362</th>\n",
       "      <td>2019-12-29</td>\n",
       "      <td>Average Tone</td>\n",
       "      <td>0.0000</td>\n",
       "      <td>MZ</td>\n",
       "      <td>food</td>\n",
       "      <td>timelinetone</td>\n",
       "    </tr>\n",
       "    <tr>\n",
       "      <th>363</th>\n",
       "      <td>2019-12-30</td>\n",
       "      <td>Average Tone</td>\n",
       "      <td>0.0000</td>\n",
       "      <td>MZ</td>\n",
       "      <td>food</td>\n",
       "      <td>timelinetone</td>\n",
       "    </tr>\n",
       "    <tr>\n",
       "      <th>364</th>\n",
       "      <td>2019-12-31</td>\n",
       "      <td>Average Tone</td>\n",
       "      <td>-0.7143</td>\n",
       "      <td>MZ</td>\n",
       "      <td>food</td>\n",
       "      <td>timelinetone</td>\n",
       "    </tr>\n",
       "  </tbody>\n",
       "</table>\n",
       "<p>345217 rows × 6 columns</p>\n",
       "</div>"
      ],
      "text/plain": [
       "           Date        Series   Value fips query      api_mode\n",
       "0    2020-01-01  Average Tone  0.9926   CV  food  timelinetone\n",
       "1    2020-01-02  Average Tone -3.3071   CV  food  timelinetone\n",
       "2    2020-01-03  Average Tone  0.0000   CV  food  timelinetone\n",
       "3    2020-01-04  Average Tone  0.0000   CV  food  timelinetone\n",
       "4    2020-01-05  Average Tone  0.0000   CV  food  timelinetone\n",
       "..          ...           ...     ...  ...   ...           ...\n",
       "360  2019-12-27  Average Tone -2.5078   MZ  food  timelinetone\n",
       "361  2019-12-28  Average Tone  0.0000   MZ  food  timelinetone\n",
       "362  2019-12-29  Average Tone  0.0000   MZ  food  timelinetone\n",
       "363  2019-12-30  Average Tone  0.0000   MZ  food  timelinetone\n",
       "364  2019-12-31  Average Tone -0.7143   MZ  food  timelinetone\n",
       "\n",
       "[345217 rows x 6 columns]"
      ]
     },
     "execution_count": 15,
     "metadata": {},
     "output_type": "execute_result"
    }
   ],
   "source": [
    "_df_tone = pd.read_feather(datasets[0])\n",
    "_df_tone"
   ]
  },
  {
   "cell_type": "code",
   "execution_count": 16,
   "id": "332479b7-7f4c-4761-8fe2-f3430088a905",
   "metadata": {
    "tags": []
   },
   "outputs": [
    {
     "data": {
      "text/html": [
       "<div>\n",
       "<style scoped>\n",
       "    .dataframe tbody tr th:only-of-type {\n",
       "        vertical-align: middle;\n",
       "    }\n",
       "\n",
       "    .dataframe tbody tr th {\n",
       "        vertical-align: top;\n",
       "    }\n",
       "\n",
       "    .dataframe thead th {\n",
       "        text-align: right;\n",
       "    }\n",
       "</style>\n",
       "<table border=\"1\" class=\"dataframe\">\n",
       "  <thead>\n",
       "    <tr style=\"text-align: right;\">\n",
       "      <th></th>\n",
       "      <th>Date</th>\n",
       "      <th>Series</th>\n",
       "      <th>Value</th>\n",
       "      <th>fips</th>\n",
       "      <th>query</th>\n",
       "      <th>api_mode</th>\n",
       "    </tr>\n",
       "  </thead>\n",
       "  <tbody>\n",
       "    <tr>\n",
       "      <th>0</th>\n",
       "      <td>2019-01-01</td>\n",
       "      <td>Volume Intensity</td>\n",
       "      <td>0.0121</td>\n",
       "      <td>SF</td>\n",
       "      <td>food</td>\n",
       "      <td>timelinevol</td>\n",
       "    </tr>\n",
       "    <tr>\n",
       "      <th>1</th>\n",
       "      <td>2019-01-02</td>\n",
       "      <td>Volume Intensity</td>\n",
       "      <td>0.0128</td>\n",
       "      <td>SF</td>\n",
       "      <td>food</td>\n",
       "      <td>timelinevol</td>\n",
       "    </tr>\n",
       "    <tr>\n",
       "      <th>2</th>\n",
       "      <td>2019-01-03</td>\n",
       "      <td>Volume Intensity</td>\n",
       "      <td>0.0098</td>\n",
       "      <td>SF</td>\n",
       "      <td>food</td>\n",
       "      <td>timelinevol</td>\n",
       "    </tr>\n",
       "    <tr>\n",
       "      <th>3</th>\n",
       "      <td>2019-01-04</td>\n",
       "      <td>Volume Intensity</td>\n",
       "      <td>0.0098</td>\n",
       "      <td>SF</td>\n",
       "      <td>food</td>\n",
       "      <td>timelinevol</td>\n",
       "    </tr>\n",
       "    <tr>\n",
       "      <th>4</th>\n",
       "      <td>2019-01-05</td>\n",
       "      <td>Volume Intensity</td>\n",
       "      <td>0.0105</td>\n",
       "      <td>SF</td>\n",
       "      <td>food</td>\n",
       "      <td>timelinevol</td>\n",
       "    </tr>\n",
       "    <tr>\n",
       "      <th>...</th>\n",
       "      <td>...</td>\n",
       "      <td>...</td>\n",
       "      <td>...</td>\n",
       "      <td>...</td>\n",
       "      <td>...</td>\n",
       "      <td>...</td>\n",
       "    </tr>\n",
       "    <tr>\n",
       "      <th>1393</th>\n",
       "      <td>2023-10-27</td>\n",
       "      <td>Volume Intensity</td>\n",
       "      <td>0.0023</td>\n",
       "      <td>SU</td>\n",
       "      <td>food</td>\n",
       "      <td>timelinevol</td>\n",
       "    </tr>\n",
       "    <tr>\n",
       "      <th>1394</th>\n",
       "      <td>2023-10-28</td>\n",
       "      <td>Volume Intensity</td>\n",
       "      <td>0.0014</td>\n",
       "      <td>SU</td>\n",
       "      <td>food</td>\n",
       "      <td>timelinevol</td>\n",
       "    </tr>\n",
       "    <tr>\n",
       "      <th>1395</th>\n",
       "      <td>2023-10-29</td>\n",
       "      <td>Volume Intensity</td>\n",
       "      <td>0.0054</td>\n",
       "      <td>SU</td>\n",
       "      <td>food</td>\n",
       "      <td>timelinevol</td>\n",
       "    </tr>\n",
       "    <tr>\n",
       "      <th>1396</th>\n",
       "      <td>2023-10-30</td>\n",
       "      <td>Volume Intensity</td>\n",
       "      <td>0.0038</td>\n",
       "      <td>SU</td>\n",
       "      <td>food</td>\n",
       "      <td>timelinevol</td>\n",
       "    </tr>\n",
       "    <tr>\n",
       "      <th>1397</th>\n",
       "      <td>2023-10-31</td>\n",
       "      <td>Volume Intensity</td>\n",
       "      <td>0.0024</td>\n",
       "      <td>SU</td>\n",
       "      <td>food</td>\n",
       "      <td>timelinevol</td>\n",
       "    </tr>\n",
       "  </tbody>\n",
       "</table>\n",
       "<p>345217 rows × 6 columns</p>\n",
       "</div>"
      ],
      "text/plain": [
       "            Date            Series   Value fips query     api_mode\n",
       "0     2019-01-01  Volume Intensity  0.0121   SF  food  timelinevol\n",
       "1     2019-01-02  Volume Intensity  0.0128   SF  food  timelinevol\n",
       "2     2019-01-03  Volume Intensity  0.0098   SF  food  timelinevol\n",
       "3     2019-01-04  Volume Intensity  0.0098   SF  food  timelinevol\n",
       "4     2019-01-05  Volume Intensity  0.0105   SF  food  timelinevol\n",
       "...          ...               ...     ...  ...   ...          ...\n",
       "1393  2023-10-27  Volume Intensity  0.0023   SU  food  timelinevol\n",
       "1394  2023-10-28  Volume Intensity  0.0014   SU  food  timelinevol\n",
       "1395  2023-10-29  Volume Intensity  0.0054   SU  food  timelinevol\n",
       "1396  2023-10-30  Volume Intensity  0.0038   SU  food  timelinevol\n",
       "1397  2023-10-31  Volume Intensity  0.0024   SU  food  timelinevol\n",
       "\n",
       "[345217 rows x 6 columns]"
      ]
     },
     "execution_count": 16,
     "metadata": {},
     "output_type": "execute_result"
    }
   ],
   "source": [
    "_df_vol = pd.read_feather(datasets[1])\n",
    "_df_vol"
   ]
  },
  {
   "cell_type": "code",
   "execution_count": 17,
   "id": "95cdd351-a233-4722-affd-f909b90a0e34",
   "metadata": {
    "tags": []
   },
   "outputs": [
    {
     "data": {
      "text/html": [
       "<div>\n",
       "<style scoped>\n",
       "    .dataframe tbody tr th:only-of-type {\n",
       "        vertical-align: middle;\n",
       "    }\n",
       "\n",
       "    .dataframe tbody tr th {\n",
       "        vertical-align: top;\n",
       "    }\n",
       "\n",
       "    .dataframe thead th {\n",
       "        text-align: right;\n",
       "    }\n",
       "</style>\n",
       "<table border=\"1\" class=\"dataframe\">\n",
       "  <thead>\n",
       "    <tr style=\"text-align: right;\">\n",
       "      <th></th>\n",
       "      <th>URL</th>\n",
       "      <th>MobileURL</th>\n",
       "      <th>Date</th>\n",
       "      <th>Title</th>\n",
       "      <th>fips</th>\n",
       "      <th>query</th>\n",
       "      <th>api_mode</th>\n",
       "    </tr>\n",
       "  </thead>\n",
       "  <tbody>\n",
       "    <tr>\n",
       "      <th>0</th>\n",
       "      <td>https://lapagina.com.sv/nacionales/impulsan-la...</td>\n",
       "      <td>None</td>\n",
       "      <td>2023-08-09 23:45:00</td>\n",
       "      <td>Impulsan la inocuidad alimentaria con el progr...</td>\n",
       "      <td>ES</td>\n",
       "      <td>food</td>\n",
       "      <td>artlist</td>\n",
       "    </tr>\n",
       "    <tr>\n",
       "      <th>1</th>\n",
       "      <td>https://lapagina.com.sv/nacionales/anuncian-la...</td>\n",
       "      <td>None</td>\n",
       "      <td>2023-09-07 20:30:00</td>\n",
       "      <td>Anuncian la construcción de la primera central...</td>\n",
       "      <td>ES</td>\n",
       "      <td>food</td>\n",
       "      <td>artlist</td>\n",
       "    </tr>\n",
       "    <tr>\n",
       "      <th>2</th>\n",
       "      <td>https://lapagina.com.sv/nacionales/asamblea-ap...</td>\n",
       "      <td>None</td>\n",
       "      <td>2023-08-24 19:15:00</td>\n",
       "      <td>Asamblea aprueba que Policías continúen recibi...</td>\n",
       "      <td>ES</td>\n",
       "      <td>food</td>\n",
       "      <td>artlist</td>\n",
       "    </tr>\n",
       "    <tr>\n",
       "      <th>3</th>\n",
       "      <td>https://lapagina.com.sv/nacionales/fosalud-org...</td>\n",
       "      <td>None</td>\n",
       "      <td>2023-08-17 15:45:00</td>\n",
       "      <td>Fosalud organiza actividades para difundir la ...</td>\n",
       "      <td>ES</td>\n",
       "      <td>food</td>\n",
       "      <td>artlist</td>\n",
       "    </tr>\n",
       "    <tr>\n",
       "      <th>4</th>\n",
       "      <td>https://lapagina.com.sv/nacionales/pescadores-...</td>\n",
       "      <td>None</td>\n",
       "      <td>2023-09-15 17:15:00</td>\n",
       "      <td>Pescadores de Usulután reciben insumos y paque...</td>\n",
       "      <td>ES</td>\n",
       "      <td>food</td>\n",
       "      <td>artlist</td>\n",
       "    </tr>\n",
       "    <tr>\n",
       "      <th>...</th>\n",
       "      <td>...</td>\n",
       "      <td>...</td>\n",
       "      <td>...</td>\n",
       "      <td>...</td>\n",
       "      <td>...</td>\n",
       "      <td>...</td>\n",
       "      <td>...</td>\n",
       "    </tr>\n",
       "    <tr>\n",
       "      <th>5</th>\n",
       "      <td>http://www.alwatwan.net/economie/premi%C3%A8re...</td>\n",
       "      <td>None</td>\n",
       "      <td>2023-09-13 07:00:00</td>\n",
       "      <td>Premières journées scientifiques de lInrape I ...</td>\n",
       "      <td>CN</td>\n",
       "      <td>food</td>\n",
       "      <td>artlist</td>\n",
       "    </tr>\n",
       "    <tr>\n",
       "      <th>6</th>\n",
       "      <td>http://www.alwatwan.net/societe/coupures-d%E2%...</td>\n",
       "      <td>None</td>\n",
       "      <td>2023-10-13 04:45:00</td>\n",
       "      <td>Coupures d  électricité à Ngazidja I Des entre...</td>\n",
       "      <td>CN</td>\n",
       "      <td>food</td>\n",
       "      <td>artlist</td>\n",
       "    </tr>\n",
       "    <tr>\n",
       "      <th>7</th>\n",
       "      <td>http://www.alwatwan.net/politique/78%C3%A8me-a...</td>\n",
       "      <td>None</td>\n",
       "      <td>2023-09-22 06:15:00</td>\n",
       "      <td>78ème Assemblée Générale des Nations Unies I L...</td>\n",
       "      <td>CN</td>\n",
       "      <td>food</td>\n",
       "      <td>artlist</td>\n",
       "    </tr>\n",
       "    <tr>\n",
       "      <th>0</th>\n",
       "      <td>https://www.gov.ms/2023/09/20/post-cabinet-pre...</td>\n",
       "      <td>None</td>\n",
       "      <td>2023-09-20 23:00:00</td>\n",
       "      <td>POST CABINET PRESS NOTES FOR 14TH SEPTEMBER 2023</td>\n",
       "      <td>MH</td>\n",
       "      <td>food</td>\n",
       "      <td>artlist</td>\n",
       "    </tr>\n",
       "    <tr>\n",
       "      <th>1</th>\n",
       "      <td>https://www.gov.ms/2023/08/18/eight-individual...</td>\n",
       "      <td>None</td>\n",
       "      <td>2023-08-18 16:45:00</td>\n",
       "      <td>Eight Individuals Awarded Government of Montse...</td>\n",
       "      <td>MH</td>\n",
       "      <td>food</td>\n",
       "      <td>artlist</td>\n",
       "    </tr>\n",
       "  </tbody>\n",
       "</table>\n",
       "<p>12816 rows × 7 columns</p>\n",
       "</div>"
      ],
      "text/plain": [
       "                                                  URL MobileURL  \\\n",
       "0   https://lapagina.com.sv/nacionales/impulsan-la...      None   \n",
       "1   https://lapagina.com.sv/nacionales/anuncian-la...      None   \n",
       "2   https://lapagina.com.sv/nacionales/asamblea-ap...      None   \n",
       "3   https://lapagina.com.sv/nacionales/fosalud-org...      None   \n",
       "4   https://lapagina.com.sv/nacionales/pescadores-...      None   \n",
       "..                                                ...       ...   \n",
       "5   http://www.alwatwan.net/economie/premi%C3%A8re...      None   \n",
       "6   http://www.alwatwan.net/societe/coupures-d%E2%...      None   \n",
       "7   http://www.alwatwan.net/politique/78%C3%A8me-a...      None   \n",
       "0   https://www.gov.ms/2023/09/20/post-cabinet-pre...      None   \n",
       "1   https://www.gov.ms/2023/08/18/eight-individual...      None   \n",
       "\n",
       "                   Date                                              Title  \\\n",
       "0   2023-08-09 23:45:00  Impulsan la inocuidad alimentaria con el progr...   \n",
       "1   2023-09-07 20:30:00  Anuncian la construcción de la primera central...   \n",
       "2   2023-08-24 19:15:00  Asamblea aprueba que Policías continúen recibi...   \n",
       "3   2023-08-17 15:45:00  Fosalud organiza actividades para difundir la ...   \n",
       "4   2023-09-15 17:15:00  Pescadores de Usulután reciben insumos y paque...   \n",
       "..                  ...                                                ...   \n",
       "5   2023-09-13 07:00:00  Premières journées scientifiques de lInrape I ...   \n",
       "6   2023-10-13 04:45:00  Coupures d  électricité à Ngazidja I Des entre...   \n",
       "7   2023-09-22 06:15:00  78ème Assemblée Générale des Nations Unies I L...   \n",
       "0   2023-09-20 23:00:00   POST CABINET PRESS NOTES FOR 14TH SEPTEMBER 2023   \n",
       "1   2023-08-18 16:45:00  Eight Individuals Awarded Government of Montse...   \n",
       "\n",
       "   fips query api_mode  \n",
       "0    ES  food  artlist  \n",
       "1    ES  food  artlist  \n",
       "2    ES  food  artlist  \n",
       "3    ES  food  artlist  \n",
       "4    ES  food  artlist  \n",
       "..  ...   ...      ...  \n",
       "5    CN  food  artlist  \n",
       "6    CN  food  artlist  \n",
       "7    CN  food  artlist  \n",
       "0    MH  food  artlist  \n",
       "1    MH  food  artlist  \n",
       "\n",
       "[12816 rows x 7 columns]"
      ]
     },
     "execution_count": 17,
     "metadata": {},
     "output_type": "execute_result"
    }
   ],
   "source": [
    "_df_art = pd.read_feather(datasets[2])\n",
    "_df_art"
   ]
  },
  {
   "cell_type": "code",
   "execution_count": 18,
   "id": "de1feeae-7f53-4525-92ad-518ea01aae77",
   "metadata": {
    "tags": []
   },
   "outputs": [
    {
     "data": {
      "text/html": [
       "<div>\n",
       "<style scoped>\n",
       "    .dataframe tbody tr th:only-of-type {\n",
       "        vertical-align: middle;\n",
       "    }\n",
       "\n",
       "    .dataframe tbody tr th {\n",
       "        vertical-align: top;\n",
       "    }\n",
       "\n",
       "    .dataframe thead th {\n",
       "        text-align: right;\n",
       "    }\n",
       "</style>\n",
       "<table border=\"1\" class=\"dataframe\">\n",
       "  <thead>\n",
       "    <tr style=\"text-align: right;\">\n",
       "      <th></th>\n",
       "      <th>Date</th>\n",
       "      <th>Series</th>\n",
       "      <th>Value</th>\n",
       "      <th>fips</th>\n",
       "      <th>query</th>\n",
       "      <th>api_mode</th>\n",
       "    </tr>\n",
       "  </thead>\n",
       "  <tbody>\n",
       "    <tr>\n",
       "      <th>0</th>\n",
       "      <td>2019-01-01</td>\n",
       "      <td>Article Count</td>\n",
       "      <td>0.0</td>\n",
       "      <td>BY</td>\n",
       "      <td>food</td>\n",
       "      <td>timelinevolraw</td>\n",
       "    </tr>\n",
       "    <tr>\n",
       "      <th>1</th>\n",
       "      <td>2019-01-01</td>\n",
       "      <td>Total Monitored Articles</td>\n",
       "      <td>297788.0</td>\n",
       "      <td>BY</td>\n",
       "      <td>food</td>\n",
       "      <td>timelinevolraw</td>\n",
       "    </tr>\n",
       "    <tr>\n",
       "      <th>2</th>\n",
       "      <td>2019-01-02</td>\n",
       "      <td>Article Count</td>\n",
       "      <td>0.0</td>\n",
       "      <td>BY</td>\n",
       "      <td>food</td>\n",
       "      <td>timelinevolraw</td>\n",
       "    </tr>\n",
       "    <tr>\n",
       "      <th>3</th>\n",
       "      <td>2019-01-02</td>\n",
       "      <td>Total Monitored Articles</td>\n",
       "      <td>446886.0</td>\n",
       "      <td>BY</td>\n",
       "      <td>food</td>\n",
       "      <td>timelinevolraw</td>\n",
       "    </tr>\n",
       "    <tr>\n",
       "      <th>4</th>\n",
       "      <td>2019-01-03</td>\n",
       "      <td>Article Count</td>\n",
       "      <td>1.0</td>\n",
       "      <td>BY</td>\n",
       "      <td>food</td>\n",
       "      <td>timelinevolraw</td>\n",
       "    </tr>\n",
       "    <tr>\n",
       "      <th>...</th>\n",
       "      <td>...</td>\n",
       "      <td>...</td>\n",
       "      <td>...</td>\n",
       "      <td>...</td>\n",
       "      <td>...</td>\n",
       "      <td>...</td>\n",
       "    </tr>\n",
       "    <tr>\n",
       "      <th>2791</th>\n",
       "      <td>2023-10-29</td>\n",
       "      <td>Total Monitored Articles</td>\n",
       "      <td>110515.0</td>\n",
       "      <td>NP</td>\n",
       "      <td>food</td>\n",
       "      <td>timelinevolraw</td>\n",
       "    </tr>\n",
       "    <tr>\n",
       "      <th>2792</th>\n",
       "      <td>2023-10-30</td>\n",
       "      <td>Article Count</td>\n",
       "      <td>12.0</td>\n",
       "      <td>NP</td>\n",
       "      <td>food</td>\n",
       "      <td>timelinevolraw</td>\n",
       "    </tr>\n",
       "    <tr>\n",
       "      <th>2793</th>\n",
       "      <td>2023-10-30</td>\n",
       "      <td>Total Monitored Articles</td>\n",
       "      <td>129977.0</td>\n",
       "      <td>NP</td>\n",
       "      <td>food</td>\n",
       "      <td>timelinevolraw</td>\n",
       "    </tr>\n",
       "    <tr>\n",
       "      <th>2794</th>\n",
       "      <td>2023-10-31</td>\n",
       "      <td>Article Count</td>\n",
       "      <td>35.0</td>\n",
       "      <td>NP</td>\n",
       "      <td>food</td>\n",
       "      <td>timelinevolraw</td>\n",
       "    </tr>\n",
       "    <tr>\n",
       "      <th>2795</th>\n",
       "      <td>2023-10-31</td>\n",
       "      <td>Total Monitored Articles</td>\n",
       "      <td>169323.0</td>\n",
       "      <td>NP</td>\n",
       "      <td>food</td>\n",
       "      <td>timelinevolraw</td>\n",
       "    </tr>\n",
       "  </tbody>\n",
       "</table>\n",
       "<p>690434 rows × 6 columns</p>\n",
       "</div>"
      ],
      "text/plain": [
       "            Date                    Series     Value fips query  \\\n",
       "0     2019-01-01             Article Count       0.0   BY  food   \n",
       "1     2019-01-01  Total Monitored Articles  297788.0   BY  food   \n",
       "2     2019-01-02             Article Count       0.0   BY  food   \n",
       "3     2019-01-02  Total Monitored Articles  446886.0   BY  food   \n",
       "4     2019-01-03             Article Count       1.0   BY  food   \n",
       "...          ...                       ...       ...  ...   ...   \n",
       "2791  2023-10-29  Total Monitored Articles  110515.0   NP  food   \n",
       "2792  2023-10-30             Article Count      12.0   NP  food   \n",
       "2793  2023-10-30  Total Monitored Articles  129977.0   NP  food   \n",
       "2794  2023-10-31             Article Count      35.0   NP  food   \n",
       "2795  2023-10-31  Total Monitored Articles  169323.0   NP  food   \n",
       "\n",
       "            api_mode  \n",
       "0     timelinevolraw  \n",
       "1     timelinevolraw  \n",
       "2     timelinevolraw  \n",
       "3     timelinevolraw  \n",
       "4     timelinevolraw  \n",
       "...              ...  \n",
       "2791  timelinevolraw  \n",
       "2792  timelinevolraw  \n",
       "2793  timelinevolraw  \n",
       "2794  timelinevolraw  \n",
       "2795  timelinevolraw  \n",
       "\n",
       "[690434 rows x 6 columns]"
      ]
     },
     "execution_count": 18,
     "metadata": {},
     "output_type": "execute_result"
    }
   ],
   "source": [
    "_df_volraw = pd.read_feather(datasets[3])\n",
    "_df_volraw"
   ]
  },
  {
   "cell_type": "code",
   "execution_count": 54,
   "id": "afd3de5f-3a54-413a-a35b-733a5bf8e1a2",
   "metadata": {
    "tags": []
   },
   "outputs": [
    {
     "data": {
      "text/html": [
       "<div>\n",
       "<style scoped>\n",
       "    .dataframe tbody tr th:only-of-type {\n",
       "        vertical-align: middle;\n",
       "    }\n",
       "\n",
       "    .dataframe tbody tr th {\n",
       "        vertical-align: top;\n",
       "    }\n",
       "\n",
       "    .dataframe thead th {\n",
       "        text-align: right;\n",
       "    }\n",
       "</style>\n",
       "<table border=\"1\" class=\"dataframe\">\n",
       "  <thead>\n",
       "    <tr style=\"text-align: right;\">\n",
       "      <th></th>\n",
       "      <th>Domain Code</th>\n",
       "      <th>Domain</th>\n",
       "      <th>Area Code (M49)</th>\n",
       "      <th>Area</th>\n",
       "      <th>Year Code</th>\n",
       "      <th>Year</th>\n",
       "      <th>Item Code</th>\n",
       "      <th>Item</th>\n",
       "      <th>Months Code</th>\n",
       "      <th>Months</th>\n",
       "      <th>Element Code</th>\n",
       "      <th>Element</th>\n",
       "      <th>Unit</th>\n",
       "      <th>Value</th>\n",
       "      <th>Flag</th>\n",
       "      <th>Flag Description</th>\n",
       "      <th>Note</th>\n",
       "    </tr>\n",
       "  </thead>\n",
       "  <tbody>\n",
       "    <tr>\n",
       "      <th>0</th>\n",
       "      <td>CP</td>\n",
       "      <td>Consumer Price Indices</td>\n",
       "      <td>108</td>\n",
       "      <td>Burundi</td>\n",
       "      <td>2018</td>\n",
       "      <td>2018</td>\n",
       "      <td>23013</td>\n",
       "      <td>Consumer Prices, Food Indices (2015 = 100)</td>\n",
       "      <td>7001</td>\n",
       "      <td>January</td>\n",
       "      <td>6125</td>\n",
       "      <td>Value</td>\n",
       "      <td>Index</td>\n",
       "      <td>126.866284</td>\n",
       "      <td>X</td>\n",
       "      <td>Figure from international organizations</td>\n",
       "      <td>base year is 2015</td>\n",
       "    </tr>\n",
       "    <tr>\n",
       "      <th>1</th>\n",
       "      <td>CP</td>\n",
       "      <td>Consumer Price Indices</td>\n",
       "      <td>108</td>\n",
       "      <td>Burundi</td>\n",
       "      <td>2018</td>\n",
       "      <td>2018</td>\n",
       "      <td>23013</td>\n",
       "      <td>Consumer Prices, Food Indices (2015 = 100)</td>\n",
       "      <td>7002</td>\n",
       "      <td>February</td>\n",
       "      <td>6125</td>\n",
       "      <td>Value</td>\n",
       "      <td>Index</td>\n",
       "      <td>124.250485</td>\n",
       "      <td>X</td>\n",
       "      <td>Figure from international organizations</td>\n",
       "      <td>base year is 2015</td>\n",
       "    </tr>\n",
       "    <tr>\n",
       "      <th>2</th>\n",
       "      <td>CP</td>\n",
       "      <td>Consumer Price Indices</td>\n",
       "      <td>108</td>\n",
       "      <td>Burundi</td>\n",
       "      <td>2018</td>\n",
       "      <td>2018</td>\n",
       "      <td>23013</td>\n",
       "      <td>Consumer Prices, Food Indices (2015 = 100)</td>\n",
       "      <td>7003</td>\n",
       "      <td>March</td>\n",
       "      <td>6125</td>\n",
       "      <td>Value</td>\n",
       "      <td>Index</td>\n",
       "      <td>122.179643</td>\n",
       "      <td>X</td>\n",
       "      <td>Figure from international organizations</td>\n",
       "      <td>base year is 2015</td>\n",
       "    </tr>\n",
       "    <tr>\n",
       "      <th>3</th>\n",
       "      <td>CP</td>\n",
       "      <td>Consumer Price Indices</td>\n",
       "      <td>108</td>\n",
       "      <td>Burundi</td>\n",
       "      <td>2018</td>\n",
       "      <td>2018</td>\n",
       "      <td>23013</td>\n",
       "      <td>Consumer Prices, Food Indices (2015 = 100)</td>\n",
       "      <td>7004</td>\n",
       "      <td>April</td>\n",
       "      <td>6125</td>\n",
       "      <td>Value</td>\n",
       "      <td>Index</td>\n",
       "      <td>122.724601</td>\n",
       "      <td>X</td>\n",
       "      <td>Figure from international organizations</td>\n",
       "      <td>base year is 2015</td>\n",
       "    </tr>\n",
       "    <tr>\n",
       "      <th>4</th>\n",
       "      <td>CP</td>\n",
       "      <td>Consumer Price Indices</td>\n",
       "      <td>108</td>\n",
       "      <td>Burundi</td>\n",
       "      <td>2018</td>\n",
       "      <td>2018</td>\n",
       "      <td>23013</td>\n",
       "      <td>Consumer Prices, Food Indices (2015 = 100)</td>\n",
       "      <td>7005</td>\n",
       "      <td>May</td>\n",
       "      <td>6125</td>\n",
       "      <td>Value</td>\n",
       "      <td>Index</td>\n",
       "      <td>124.141493</td>\n",
       "      <td>X</td>\n",
       "      <td>Figure from international organizations</td>\n",
       "      <td>base year is 2015</td>\n",
       "    </tr>\n",
       "    <tr>\n",
       "      <th>...</th>\n",
       "      <td>...</td>\n",
       "      <td>...</td>\n",
       "      <td>...</td>\n",
       "      <td>...</td>\n",
       "      <td>...</td>\n",
       "      <td>...</td>\n",
       "      <td>...</td>\n",
       "      <td>...</td>\n",
       "      <td>...</td>\n",
       "      <td>...</td>\n",
       "      <td>...</td>\n",
       "      <td>...</td>\n",
       "      <td>...</td>\n",
       "      <td>...</td>\n",
       "      <td>...</td>\n",
       "      <td>...</td>\n",
       "      <td>...</td>\n",
       "    </tr>\n",
       "    <tr>\n",
       "      <th>4153</th>\n",
       "      <td>CP</td>\n",
       "      <td>Consumer Price Indices</td>\n",
       "      <td>716</td>\n",
       "      <td>Zimbabwe</td>\n",
       "      <td>2023</td>\n",
       "      <td>2023</td>\n",
       "      <td>23014</td>\n",
       "      <td>Food price inflation</td>\n",
       "      <td>7002</td>\n",
       "      <td>February</td>\n",
       "      <td>6121</td>\n",
       "      <td>Value</td>\n",
       "      <td>%</td>\n",
       "      <td>136.853386</td>\n",
       "      <td>E</td>\n",
       "      <td>Estimated value</td>\n",
       "      <td>NaN</td>\n",
       "    </tr>\n",
       "    <tr>\n",
       "      <th>4154</th>\n",
       "      <td>CP</td>\n",
       "      <td>Consumer Price Indices</td>\n",
       "      <td>716</td>\n",
       "      <td>Zimbabwe</td>\n",
       "      <td>2023</td>\n",
       "      <td>2023</td>\n",
       "      <td>23014</td>\n",
       "      <td>Food price inflation</td>\n",
       "      <td>7003</td>\n",
       "      <td>March</td>\n",
       "      <td>6121</td>\n",
       "      <td>Value</td>\n",
       "      <td>%</td>\n",
       "      <td>127.921669</td>\n",
       "      <td>E</td>\n",
       "      <td>Estimated value</td>\n",
       "      <td>NaN</td>\n",
       "    </tr>\n",
       "    <tr>\n",
       "      <th>4155</th>\n",
       "      <td>CP</td>\n",
       "      <td>Consumer Price Indices</td>\n",
       "      <td>716</td>\n",
       "      <td>Zimbabwe</td>\n",
       "      <td>2023</td>\n",
       "      <td>2023</td>\n",
       "      <td>23014</td>\n",
       "      <td>Food price inflation</td>\n",
       "      <td>7004</td>\n",
       "      <td>April</td>\n",
       "      <td>6121</td>\n",
       "      <td>Value</td>\n",
       "      <td>%</td>\n",
       "      <td>101.645424</td>\n",
       "      <td>E</td>\n",
       "      <td>Estimated value</td>\n",
       "      <td>NaN</td>\n",
       "    </tr>\n",
       "    <tr>\n",
       "      <th>4156</th>\n",
       "      <td>CP</td>\n",
       "      <td>Consumer Price Indices</td>\n",
       "      <td>716</td>\n",
       "      <td>Zimbabwe</td>\n",
       "      <td>2023</td>\n",
       "      <td>2023</td>\n",
       "      <td>23014</td>\n",
       "      <td>Food price inflation</td>\n",
       "      <td>7005</td>\n",
       "      <td>May</td>\n",
       "      <td>6121</td>\n",
       "      <td>Value</td>\n",
       "      <td>%</td>\n",
       "      <td>116.962939</td>\n",
       "      <td>E</td>\n",
       "      <td>Estimated value</td>\n",
       "      <td>NaN</td>\n",
       "    </tr>\n",
       "    <tr>\n",
       "      <th>4157</th>\n",
       "      <td>CP</td>\n",
       "      <td>Consumer Price Indices</td>\n",
       "      <td>716</td>\n",
       "      <td>Zimbabwe</td>\n",
       "      <td>2023</td>\n",
       "      <td>2023</td>\n",
       "      <td>23014</td>\n",
       "      <td>Food price inflation</td>\n",
       "      <td>7006</td>\n",
       "      <td>June</td>\n",
       "      <td>6121</td>\n",
       "      <td>Value</td>\n",
       "      <td>%</td>\n",
       "      <td>255.597846</td>\n",
       "      <td>E</td>\n",
       "      <td>Estimated value</td>\n",
       "      <td>NaN</td>\n",
       "    </tr>\n",
       "  </tbody>\n",
       "</table>\n",
       "<p>4158 rows × 17 columns</p>\n",
       "</div>"
      ],
      "text/plain": [
       "     Domain Code                  Domain  Area Code (M49)      Area  \\\n",
       "0             CP  Consumer Price Indices              108   Burundi   \n",
       "1             CP  Consumer Price Indices              108   Burundi   \n",
       "2             CP  Consumer Price Indices              108   Burundi   \n",
       "3             CP  Consumer Price Indices              108   Burundi   \n",
       "4             CP  Consumer Price Indices              108   Burundi   \n",
       "...          ...                     ...              ...       ...   \n",
       "4153          CP  Consumer Price Indices              716  Zimbabwe   \n",
       "4154          CP  Consumer Price Indices              716  Zimbabwe   \n",
       "4155          CP  Consumer Price Indices              716  Zimbabwe   \n",
       "4156          CP  Consumer Price Indices              716  Zimbabwe   \n",
       "4157          CP  Consumer Price Indices              716  Zimbabwe   \n",
       "\n",
       "      Year Code  Year  Item Code                                        Item  \\\n",
       "0          2018  2018      23013  Consumer Prices, Food Indices (2015 = 100)   \n",
       "1          2018  2018      23013  Consumer Prices, Food Indices (2015 = 100)   \n",
       "2          2018  2018      23013  Consumer Prices, Food Indices (2015 = 100)   \n",
       "3          2018  2018      23013  Consumer Prices, Food Indices (2015 = 100)   \n",
       "4          2018  2018      23013  Consumer Prices, Food Indices (2015 = 100)   \n",
       "...         ...   ...        ...                                         ...   \n",
       "4153       2023  2023      23014                        Food price inflation   \n",
       "4154       2023  2023      23014                        Food price inflation   \n",
       "4155       2023  2023      23014                        Food price inflation   \n",
       "4156       2023  2023      23014                        Food price inflation   \n",
       "4157       2023  2023      23014                        Food price inflation   \n",
       "\n",
       "      Months Code    Months  Element Code Element   Unit       Value Flag  \\\n",
       "0            7001   January          6125   Value  Index  126.866284    X   \n",
       "1            7002  February          6125   Value  Index  124.250485    X   \n",
       "2            7003     March          6125   Value  Index  122.179643    X   \n",
       "3            7004     April          6125   Value  Index  122.724601    X   \n",
       "4            7005       May          6125   Value  Index  124.141493    X   \n",
       "...           ...       ...           ...     ...    ...         ...  ...   \n",
       "4153         7002  February          6121   Value      %  136.853386    E   \n",
       "4154         7003     March          6121   Value      %  127.921669    E   \n",
       "4155         7004     April          6121   Value      %  101.645424    E   \n",
       "4156         7005       May          6121   Value      %  116.962939    E   \n",
       "4157         7006      June          6121   Value      %  255.597846    E   \n",
       "\n",
       "                             Flag Description               Note  \n",
       "0     Figure from international organizations  base year is 2015  \n",
       "1     Figure from international organizations  base year is 2015  \n",
       "2     Figure from international organizations  base year is 2015  \n",
       "3     Figure from international organizations  base year is 2015  \n",
       "4     Figure from international organizations  base year is 2015  \n",
       "...                                       ...                ...  \n",
       "4153                          Estimated value                NaN  \n",
       "4154                          Estimated value                NaN  \n",
       "4155                          Estimated value                NaN  \n",
       "4156                          Estimated value                NaN  \n",
       "4157                          Estimated value                NaN  \n",
       "\n",
       "[4158 rows x 17 columns]"
      ]
     },
     "execution_count": 54,
     "metadata": {},
     "output_type": "execute_result"
    }
   ],
   "source": [
    "_df_fp = pd.read_csv(files_dir / 'Fao_dataset_2018_2023_EA_RUS_UKR_EGY.csv')\n",
    "_df_fp"
   ]
  },
  {
   "cell_type": "code",
   "execution_count": 55,
   "id": "a4c86128-bbfc-46d3-a49b-b477572972de",
   "metadata": {
    "tags": []
   },
   "outputs": [],
   "source": [
    "#_df_ac = pd.read_csv(files_dir / \"ACLED_export.csv\")"
   ]
  },
  {
   "cell_type": "code",
   "execution_count": 56,
   "id": "40722ec7-aca3-4ac5-90ff-b175aad61d46",
   "metadata": {
    "tags": []
   },
   "outputs": [],
   "source": [
    "#_df_ac[['ACLED Year', 'TimeFK Event Date', 'Country FK', 'ACLED Fatalities']]"
   ]
  },
  {
   "cell_type": "code",
   "execution_count": 57,
   "id": "3a2c8b41-e93b-4b72-b2c7-be2491914f95",
   "metadata": {
    "tags": []
   },
   "outputs": [],
   "source": [
    "def mutate_vol_df(df):\n",
    "    df['Date'] = pd.to_datetime(df['Date'])\n",
    "    df.index = df['Date']\n",
    "    df['iso3'] = df['fips'].map(iso3_mapper)\n",
    "    df['Value_scaled'] = df.groupby('iso3')['Value'].transform(lambda x: scale(x))\n",
    "    \n",
    "    df_vol = df.groupby(['query', 'iso3', pd.Grouper(freq='M')]).sum(numeric_only=True).reset_index()\n",
    "    df_vol['Date'] = df_vol['Date'].dt.normalize().map(lambda x : x.replace(day=1))\n",
    "    df_vol = df_vol.rename(columns={'Value': 'timelinevol_orig', 'Value_scaled': 'timelinevol'})\n",
    "    df_vol = df_vol.drop(columns=['query'])\n",
    "    return df_vol"
   ]
  },
  {
   "cell_type": "code",
   "execution_count": 58,
   "id": "631245d6-1735-4d38-ad18-85b3506953ca",
   "metadata": {
    "tags": []
   },
   "outputs": [],
   "source": [
    "def mutate_tone_df(df):\n",
    "    df['Date'] = pd.to_datetime(df['Date'])\n",
    "    df.index = df['Date']\n",
    "    df['iso3'] = df['fips'].map(iso3_mapper)\n",
    "    df['Value_scaled'] = df.groupby('iso3')['Value'].transform(lambda x: scale(x))\n",
    "\n",
    "    df_tone = df.groupby(['query', 'iso3', pd.Grouper(freq='M')]).sum(numeric_only=True).reset_index()\n",
    "    df_tone['Date'] = df_tone['Date'].dt.normalize().map(lambda x : x.replace(day=1))\n",
    "    df_tone = df_tone.rename(columns={'Value': 'timelinetone_orig', 'Value_scaled': 'timelinetone'})\n",
    "    df_tone = df_tone.drop(columns=['query'])\n",
    "    return df_tone"
   ]
  },
  {
   "cell_type": "code",
   "execution_count": 59,
   "id": "9b350508-f1da-49f0-b921-e5777acdd042",
   "metadata": {
    "tags": []
   },
   "outputs": [],
   "source": [
    "def mutate_fpi_df(df):\n",
    "    df = df[df['Item'] == 'Food price inflation']\n",
    "    df_fp = df[['Year', 'Months', 'Area Code (M49)', 'Area', 'Value']]\n",
    "    df_fp['Date'] = pd.to_datetime(df_fp['Year'].astype(str) + ' ' + df_fp['Months']).dt.normalize()\n",
    "    df_fp['fpi_orig'] = df_fp['Value'].astype(float)\n",
    "    df_fp['iso3'] = df_fp['Area Code (M49)'].astype(int).map(m49_iso_map)\n",
    "    df_fp['fpi'] = df_fp.groupby('iso3')['fpi_orig'].transform(lambda x: scale(x))\n",
    "\n",
    "    return df_fp[['Date', 'iso3', 'fpi', 'fpi_orig']]"
   ]
  },
  {
   "cell_type": "code",
   "execution_count": 60,
   "id": "b9f18865-3093-4a4f-8b90-5f604622b0a0",
   "metadata": {
    "tags": []
   },
   "outputs": [],
   "source": [
    "df_fp = mutate_fpi_df(_df_fp)"
   ]
  },
  {
   "cell_type": "code",
   "execution_count": 61,
   "id": "85a29b52-ecf5-4c7d-b673-4c10e61f43e0",
   "metadata": {
    "tags": []
   },
   "outputs": [],
   "source": [
    "df_vol = mutate_vol_df(_df_vol)\n",
    "df_tone = mutate_tone_df(_df_tone)"
   ]
  },
  {
   "cell_type": "code",
   "execution_count": 62,
   "id": "4af5803a-c54a-4d68-92fe-c8334afa4593",
   "metadata": {
    "tags": []
   },
   "outputs": [
    {
     "data": {
      "text/html": [
       "<div>\n",
       "<style scoped>\n",
       "    .dataframe tbody tr th:only-of-type {\n",
       "        vertical-align: middle;\n",
       "    }\n",
       "\n",
       "    .dataframe tbody tr th {\n",
       "        vertical-align: top;\n",
       "    }\n",
       "\n",
       "    .dataframe thead th {\n",
       "        text-align: right;\n",
       "    }\n",
       "</style>\n",
       "<table border=\"1\" class=\"dataframe\">\n",
       "  <thead>\n",
       "    <tr style=\"text-align: right;\">\n",
       "      <th></th>\n",
       "      <th>iso3</th>\n",
       "      <th>Date</th>\n",
       "      <th>timelinevol_orig</th>\n",
       "      <th>timelinevol</th>\n",
       "    </tr>\n",
       "  </thead>\n",
       "  <tbody>\n",
       "    <tr>\n",
       "      <th>0</th>\n",
       "      <td>ABW</td>\n",
       "      <td>2019-01-01</td>\n",
       "      <td>0.0000</td>\n",
       "      <td>-1.579943</td>\n",
       "    </tr>\n",
       "    <tr>\n",
       "      <th>1</th>\n",
       "      <td>ABW</td>\n",
       "      <td>2019-02-01</td>\n",
       "      <td>0.0000</td>\n",
       "      <td>-1.427045</td>\n",
       "    </tr>\n",
       "    <tr>\n",
       "      <th>2</th>\n",
       "      <td>ABW</td>\n",
       "      <td>2019-03-01</td>\n",
       "      <td>0.0002</td>\n",
       "      <td>12.243576</td>\n",
       "    </tr>\n",
       "    <tr>\n",
       "      <th>3</th>\n",
       "      <td>ABW</td>\n",
       "      <td>2019-04-01</td>\n",
       "      <td>0.0002</td>\n",
       "      <td>12.294542</td>\n",
       "    </tr>\n",
       "    <tr>\n",
       "      <th>4</th>\n",
       "      <td>ABW</td>\n",
       "      <td>2019-05-01</td>\n",
       "      <td>0.0000</td>\n",
       "      <td>-1.579943</td>\n",
       "    </tr>\n",
       "    <tr>\n",
       "      <th>...</th>\n",
       "      <td>...</td>\n",
       "      <td>...</td>\n",
       "      <td>...</td>\n",
       "      <td>...</td>\n",
       "    </tr>\n",
       "    <tr>\n",
       "      <th>11353</th>\n",
       "      <td>ZWE</td>\n",
       "      <td>2023-06-01</td>\n",
       "      <td>0.2061</td>\n",
       "      <td>9.307748</td>\n",
       "    </tr>\n",
       "    <tr>\n",
       "      <th>11354</th>\n",
       "      <td>ZWE</td>\n",
       "      <td>2023-07-01</td>\n",
       "      <td>0.2399</td>\n",
       "      <td>19.276531</td>\n",
       "    </tr>\n",
       "    <tr>\n",
       "      <th>11355</th>\n",
       "      <td>ZWE</td>\n",
       "      <td>2023-08-01</td>\n",
       "      <td>0.2346</td>\n",
       "      <td>17.375670</td>\n",
       "    </tr>\n",
       "    <tr>\n",
       "      <th>11356</th>\n",
       "      <td>ZWE</td>\n",
       "      <td>2023-09-01</td>\n",
       "      <td>0.2097</td>\n",
       "      <td>10.598898</td>\n",
       "    </tr>\n",
       "    <tr>\n",
       "      <th>11357</th>\n",
       "      <td>ZWE</td>\n",
       "      <td>2023-10-01</td>\n",
       "      <td>0.2424</td>\n",
       "      <td>20.173164</td>\n",
       "    </tr>\n",
       "  </tbody>\n",
       "</table>\n",
       "<p>11358 rows × 4 columns</p>\n",
       "</div>"
      ],
      "text/plain": [
       "      iso3       Date  timelinevol_orig  timelinevol\n",
       "0      ABW 2019-01-01            0.0000    -1.579943\n",
       "1      ABW 2019-02-01            0.0000    -1.427045\n",
       "2      ABW 2019-03-01            0.0002    12.243576\n",
       "3      ABW 2019-04-01            0.0002    12.294542\n",
       "4      ABW 2019-05-01            0.0000    -1.579943\n",
       "...    ...        ...               ...          ...\n",
       "11353  ZWE 2023-06-01            0.2061     9.307748\n",
       "11354  ZWE 2023-07-01            0.2399    19.276531\n",
       "11355  ZWE 2023-08-01            0.2346    17.375670\n",
       "11356  ZWE 2023-09-01            0.2097    10.598898\n",
       "11357  ZWE 2023-10-01            0.2424    20.173164\n",
       "\n",
       "[11358 rows x 4 columns]"
      ]
     },
     "execution_count": 62,
     "metadata": {},
     "output_type": "execute_result"
    }
   ],
   "source": [
    "df_vol"
   ]
  },
  {
   "cell_type": "code",
   "execution_count": 63,
   "id": "ca190a7d-94b0-449a-b7c7-e7e03b627d3d",
   "metadata": {
    "tags": []
   },
   "outputs": [
    {
     "data": {
      "text/html": [
       "<div>\n",
       "<style scoped>\n",
       "    .dataframe tbody tr th:only-of-type {\n",
       "        vertical-align: middle;\n",
       "    }\n",
       "\n",
       "    .dataframe tbody tr th {\n",
       "        vertical-align: top;\n",
       "    }\n",
       "\n",
       "    .dataframe thead th {\n",
       "        text-align: right;\n",
       "    }\n",
       "</style>\n",
       "<table border=\"1\" class=\"dataframe\">\n",
       "  <thead>\n",
       "    <tr style=\"text-align: right;\">\n",
       "      <th></th>\n",
       "      <th>iso3</th>\n",
       "      <th>Date</th>\n",
       "      <th>timelinetone_orig</th>\n",
       "      <th>timelinetone</th>\n",
       "    </tr>\n",
       "  </thead>\n",
       "  <tbody>\n",
       "    <tr>\n",
       "      <th>0</th>\n",
       "      <td>ABW</td>\n",
       "      <td>2019-01-01</td>\n",
       "      <td>0.0000</td>\n",
       "      <td>0.075283</td>\n",
       "    </tr>\n",
       "    <tr>\n",
       "      <th>1</th>\n",
       "      <td>ABW</td>\n",
       "      <td>2019-02-01</td>\n",
       "      <td>0.0000</td>\n",
       "      <td>0.067998</td>\n",
       "    </tr>\n",
       "    <tr>\n",
       "      <th>2</th>\n",
       "      <td>ABW</td>\n",
       "      <td>2019-03-01</td>\n",
       "      <td>4.1783</td>\n",
       "      <td>17.745218</td>\n",
       "    </tr>\n",
       "    <tr>\n",
       "      <th>3</th>\n",
       "      <td>ABW</td>\n",
       "      <td>2019-04-01</td>\n",
       "      <td>1.5000</td>\n",
       "      <td>6.416320</td>\n",
       "    </tr>\n",
       "    <tr>\n",
       "      <th>4</th>\n",
       "      <td>ABW</td>\n",
       "      <td>2019-05-01</td>\n",
       "      <td>0.0000</td>\n",
       "      <td>0.075283</td>\n",
       "    </tr>\n",
       "    <tr>\n",
       "      <th>...</th>\n",
       "      <td>...</td>\n",
       "      <td>...</td>\n",
       "      <td>...</td>\n",
       "      <td>...</td>\n",
       "    </tr>\n",
       "    <tr>\n",
       "      <th>11353</th>\n",
       "      <td>ZWE</td>\n",
       "      <td>2023-06-01</td>\n",
       "      <td>-22.4871</td>\n",
       "      <td>12.244500</td>\n",
       "    </tr>\n",
       "    <tr>\n",
       "      <th>11354</th>\n",
       "      <td>ZWE</td>\n",
       "      <td>2023-07-01</td>\n",
       "      <td>-2.5441</td>\n",
       "      <td>27.853782</td>\n",
       "    </tr>\n",
       "    <tr>\n",
       "      <th>11355</th>\n",
       "      <td>ZWE</td>\n",
       "      <td>2023-08-01</td>\n",
       "      <td>-18.8438</td>\n",
       "      <td>15.879731</td>\n",
       "    </tr>\n",
       "    <tr>\n",
       "      <th>11356</th>\n",
       "      <td>ZWE</td>\n",
       "      <td>2023-09-01</td>\n",
       "      <td>-2.7245</td>\n",
       "      <td>26.762460</td>\n",
       "    </tr>\n",
       "    <tr>\n",
       "      <th>11357</th>\n",
       "      <td>ZWE</td>\n",
       "      <td>2023-10-01</td>\n",
       "      <td>-28.6756</td>\n",
       "      <td>8.657115</td>\n",
       "    </tr>\n",
       "  </tbody>\n",
       "</table>\n",
       "<p>11358 rows × 4 columns</p>\n",
       "</div>"
      ],
      "text/plain": [
       "      iso3       Date  timelinetone_orig  timelinetone\n",
       "0      ABW 2019-01-01             0.0000      0.075283\n",
       "1      ABW 2019-02-01             0.0000      0.067998\n",
       "2      ABW 2019-03-01             4.1783     17.745218\n",
       "3      ABW 2019-04-01             1.5000      6.416320\n",
       "4      ABW 2019-05-01             0.0000      0.075283\n",
       "...    ...        ...                ...           ...\n",
       "11353  ZWE 2023-06-01           -22.4871     12.244500\n",
       "11354  ZWE 2023-07-01            -2.5441     27.853782\n",
       "11355  ZWE 2023-08-01           -18.8438     15.879731\n",
       "11356  ZWE 2023-09-01            -2.7245     26.762460\n",
       "11357  ZWE 2023-10-01           -28.6756      8.657115\n",
       "\n",
       "[11358 rows x 4 columns]"
      ]
     },
     "execution_count": 63,
     "metadata": {},
     "output_type": "execute_result"
    }
   ],
   "source": [
    "df_tone"
   ]
  },
  {
   "cell_type": "code",
   "execution_count": 64,
   "id": "3db182ee-0a01-48ff-8526-516e5005c210",
   "metadata": {
    "tags": []
   },
   "outputs": [
    {
     "data": {
      "text/html": [
       "<div>\n",
       "<style scoped>\n",
       "    .dataframe tbody tr th:only-of-type {\n",
       "        vertical-align: middle;\n",
       "    }\n",
       "\n",
       "    .dataframe tbody tr th {\n",
       "        vertical-align: top;\n",
       "    }\n",
       "\n",
       "    .dataframe thead th {\n",
       "        text-align: right;\n",
       "    }\n",
       "</style>\n",
       "<table border=\"1\" class=\"dataframe\">\n",
       "  <thead>\n",
       "    <tr style=\"text-align: right;\">\n",
       "      <th></th>\n",
       "      <th>iso3</th>\n",
       "      <th>Date</th>\n",
       "      <th>timelinetone_orig</th>\n",
       "      <th>timelinetone</th>\n",
       "      <th>timelinevol_orig</th>\n",
       "      <th>timelinevol</th>\n",
       "    </tr>\n",
       "  </thead>\n",
       "  <tbody>\n",
       "    <tr>\n",
       "      <th>0</th>\n",
       "      <td>ABW</td>\n",
       "      <td>2019-01-01</td>\n",
       "      <td>0.0000</td>\n",
       "      <td>0.075283</td>\n",
       "      <td>0.0000</td>\n",
       "      <td>-1.579943</td>\n",
       "    </tr>\n",
       "    <tr>\n",
       "      <th>1</th>\n",
       "      <td>ABW</td>\n",
       "      <td>2019-02-01</td>\n",
       "      <td>0.0000</td>\n",
       "      <td>0.067998</td>\n",
       "      <td>0.0000</td>\n",
       "      <td>-1.427045</td>\n",
       "    </tr>\n",
       "    <tr>\n",
       "      <th>2</th>\n",
       "      <td>ABW</td>\n",
       "      <td>2019-03-01</td>\n",
       "      <td>4.1783</td>\n",
       "      <td>17.745218</td>\n",
       "      <td>0.0002</td>\n",
       "      <td>12.243576</td>\n",
       "    </tr>\n",
       "    <tr>\n",
       "      <th>3</th>\n",
       "      <td>ABW</td>\n",
       "      <td>2019-04-01</td>\n",
       "      <td>1.5000</td>\n",
       "      <td>6.416320</td>\n",
       "      <td>0.0002</td>\n",
       "      <td>12.294542</td>\n",
       "    </tr>\n",
       "    <tr>\n",
       "      <th>4</th>\n",
       "      <td>ABW</td>\n",
       "      <td>2019-05-01</td>\n",
       "      <td>0.0000</td>\n",
       "      <td>0.075283</td>\n",
       "      <td>0.0000</td>\n",
       "      <td>-1.579943</td>\n",
       "    </tr>\n",
       "    <tr>\n",
       "      <th>...</th>\n",
       "      <td>...</td>\n",
       "      <td>...</td>\n",
       "      <td>...</td>\n",
       "      <td>...</td>\n",
       "      <td>...</td>\n",
       "      <td>...</td>\n",
       "    </tr>\n",
       "    <tr>\n",
       "      <th>11353</th>\n",
       "      <td>ZWE</td>\n",
       "      <td>2023-06-01</td>\n",
       "      <td>-22.4871</td>\n",
       "      <td>12.244500</td>\n",
       "      <td>0.2061</td>\n",
       "      <td>9.307748</td>\n",
       "    </tr>\n",
       "    <tr>\n",
       "      <th>11354</th>\n",
       "      <td>ZWE</td>\n",
       "      <td>2023-07-01</td>\n",
       "      <td>-2.5441</td>\n",
       "      <td>27.853782</td>\n",
       "      <td>0.2399</td>\n",
       "      <td>19.276531</td>\n",
       "    </tr>\n",
       "    <tr>\n",
       "      <th>11355</th>\n",
       "      <td>ZWE</td>\n",
       "      <td>2023-08-01</td>\n",
       "      <td>-18.8438</td>\n",
       "      <td>15.879731</td>\n",
       "      <td>0.2346</td>\n",
       "      <td>17.375670</td>\n",
       "    </tr>\n",
       "    <tr>\n",
       "      <th>11356</th>\n",
       "      <td>ZWE</td>\n",
       "      <td>2023-09-01</td>\n",
       "      <td>-2.7245</td>\n",
       "      <td>26.762460</td>\n",
       "      <td>0.2097</td>\n",
       "      <td>10.598898</td>\n",
       "    </tr>\n",
       "    <tr>\n",
       "      <th>11357</th>\n",
       "      <td>ZWE</td>\n",
       "      <td>2023-10-01</td>\n",
       "      <td>-28.6756</td>\n",
       "      <td>8.657115</td>\n",
       "      <td>0.2424</td>\n",
       "      <td>20.173164</td>\n",
       "    </tr>\n",
       "  </tbody>\n",
       "</table>\n",
       "<p>11358 rows × 6 columns</p>\n",
       "</div>"
      ],
      "text/plain": [
       "      iso3       Date  timelinetone_orig  timelinetone  timelinevol_orig  \\\n",
       "0      ABW 2019-01-01             0.0000      0.075283            0.0000   \n",
       "1      ABW 2019-02-01             0.0000      0.067998            0.0000   \n",
       "2      ABW 2019-03-01             4.1783     17.745218            0.0002   \n",
       "3      ABW 2019-04-01             1.5000      6.416320            0.0002   \n",
       "4      ABW 2019-05-01             0.0000      0.075283            0.0000   \n",
       "...    ...        ...                ...           ...               ...   \n",
       "11353  ZWE 2023-06-01           -22.4871     12.244500            0.2061   \n",
       "11354  ZWE 2023-07-01            -2.5441     27.853782            0.2399   \n",
       "11355  ZWE 2023-08-01           -18.8438     15.879731            0.2346   \n",
       "11356  ZWE 2023-09-01            -2.7245     26.762460            0.2097   \n",
       "11357  ZWE 2023-10-01           -28.6756      8.657115            0.2424   \n",
       "\n",
       "       timelinevol  \n",
       "0        -1.579943  \n",
       "1        -1.427045  \n",
       "2        12.243576  \n",
       "3        12.294542  \n",
       "4        -1.579943  \n",
       "...            ...  \n",
       "11353     9.307748  \n",
       "11354    19.276531  \n",
       "11355    17.375670  \n",
       "11356    10.598898  \n",
       "11357    20.173164  \n",
       "\n",
       "[11358 rows x 6 columns]"
      ]
     },
     "execution_count": 64,
     "metadata": {},
     "output_type": "execute_result"
    }
   ],
   "source": [
    "df_gdelt = (df_tone.set_index(['iso3', 'Date'])\n",
    "                   .join(df_vol.set_index(['iso3', 'Date']),\n",
    "                          how='inner')).reset_index()\n",
    "df_gdelt"
   ]
  },
  {
   "cell_type": "code",
   "execution_count": 65,
   "id": "c1e54da9-3c70-4b90-bf62-3b9bf04864cc",
   "metadata": {
    "tags": []
   },
   "outputs": [
    {
     "data": {
      "text/plain": [
       "220"
      ]
     },
     "execution_count": 65,
     "metadata": {},
     "output_type": "execute_result"
    }
   ],
   "source": [
    "df_gdelt.iso3.nunique()"
   ]
  },
  {
   "cell_type": "code",
   "execution_count": 66,
   "id": "d5fa075b-cfc7-4416-aa66-af32047eece1",
   "metadata": {
    "tags": []
   },
   "outputs": [
    {
     "data": {
      "text/plain": [
       "58"
      ]
     },
     "execution_count": 66,
     "metadata": {},
     "output_type": "execute_result"
    }
   ],
   "source": [
    "df_gdelt.Date.nunique()"
   ]
  },
  {
   "cell_type": "code",
   "execution_count": 67,
   "id": "0640fa73-0958-4288-a617-761a8e649501",
   "metadata": {
    "tags": []
   },
   "outputs": [
    {
     "data": {
      "text/plain": [
       "(58, 6)"
      ]
     },
     "execution_count": 67,
     "metadata": {},
     "output_type": "execute_result"
    }
   ],
   "source": [
    "df_gdelt.query(f\"iso3 == 'SDN'\").shape"
   ]
  },
  {
   "cell_type": "code",
   "execution_count": 68,
   "id": "3eecded3-34b6-450b-b0cd-1ee8b4c35b6b",
   "metadata": {
    "tags": []
   },
   "outputs": [
    {
     "data": {
      "text/plain": [
       "21"
      ]
     },
     "execution_count": 68,
     "metadata": {},
     "output_type": "execute_result"
    }
   ],
   "source": [
    "#df_fp = df_fp.set_index(['iso3', 'Date'])\n",
    "df_fp.iso3.nunique()"
   ]
  },
  {
   "cell_type": "code",
   "execution_count": 69,
   "id": "3f186796-ad96-4d33-a022-04128e92a831",
   "metadata": {
    "tags": []
   },
   "outputs": [
    {
     "data": {
      "text/plain": [
       "(0, 4)"
      ]
     },
     "execution_count": 69,
     "metadata": {},
     "output_type": "execute_result"
    }
   ],
   "source": [
    "df_fp.query(f\"iso3 == 'SDN'\").shape"
   ]
  },
  {
   "cell_type": "code",
   "execution_count": 70,
   "id": "daf85b98-d470-40cd-8c1f-fca252387d3e",
   "metadata": {
    "tags": []
   },
   "outputs": [
    {
     "data": {
      "text/plain": [
       "66"
      ]
     },
     "execution_count": 70,
     "metadata": {},
     "output_type": "execute_result"
    }
   ],
   "source": [
    "df_fp.Date.nunique()"
   ]
  },
  {
   "cell_type": "code",
   "execution_count": 71,
   "id": "2e0bbc47-aa11-464c-8e20-07faa173cc13",
   "metadata": {
    "tags": []
   },
   "outputs": [],
   "source": [
    "df_gdelt['key'] = df_gdelt['Date'].astype(str) + '_' + df_gdelt['iso3']"
   ]
  },
  {
   "cell_type": "code",
   "execution_count": 72,
   "id": "4e5e3a9d-30a8-48e6-b7b4-a7d9d8d2c491",
   "metadata": {
    "tags": []
   },
   "outputs": [
    {
     "data": {
      "text/plain": [
       "11358"
      ]
     },
     "execution_count": 72,
     "metadata": {},
     "output_type": "execute_result"
    }
   ],
   "source": [
    "df_gdelt['key'].nunique()"
   ]
  },
  {
   "cell_type": "code",
   "execution_count": 73,
   "id": "35b5de41-8ffe-45a3-ba82-8d4f51eb7065",
   "metadata": {
    "tags": []
   },
   "outputs": [],
   "source": [
    "df_fp['key'] = df_fp['Date'].astype(str) + '_' + df_fp['iso3']"
   ]
  },
  {
   "cell_type": "code",
   "execution_count": 74,
   "id": "a26e7cf0-2bf9-45fd-83ee-07b69f5e6cc2",
   "metadata": {
    "tags": []
   },
   "outputs": [
    {
     "data": {
      "text/plain": [
       "1386"
      ]
     },
     "execution_count": 74,
     "metadata": {},
     "output_type": "execute_result"
    }
   ],
   "source": [
    "df_fp['key'].nunique()"
   ]
  },
  {
   "cell_type": "code",
   "execution_count": 75,
   "id": "a77c339c-20a3-4767-99b7-a64482302d7a",
   "metadata": {
    "tags": []
   },
   "outputs": [
    {
     "data": {
      "text/html": [
       "<div>\n",
       "<style scoped>\n",
       "    .dataframe tbody tr th:only-of-type {\n",
       "        vertical-align: middle;\n",
       "    }\n",
       "\n",
       "    .dataframe tbody tr th {\n",
       "        vertical-align: top;\n",
       "    }\n",
       "\n",
       "    .dataframe thead th {\n",
       "        text-align: right;\n",
       "    }\n",
       "</style>\n",
       "<table border=\"1\" class=\"dataframe\">\n",
       "  <thead>\n",
       "    <tr style=\"text-align: right;\">\n",
       "      <th></th>\n",
       "      <th>iso3</th>\n",
       "      <th>Date</th>\n",
       "      <th>timelinetone_orig</th>\n",
       "      <th>timelinetone</th>\n",
       "      <th>timelinevol_orig</th>\n",
       "      <th>timelinevol</th>\n",
       "      <th>fpi</th>\n",
       "      <th>fpi_orig</th>\n",
       "    </tr>\n",
       "    <tr>\n",
       "      <th>key</th>\n",
       "      <th></th>\n",
       "      <th></th>\n",
       "      <th></th>\n",
       "      <th></th>\n",
       "      <th></th>\n",
       "      <th></th>\n",
       "      <th></th>\n",
       "      <th></th>\n",
       "    </tr>\n",
       "  </thead>\n",
       "  <tbody>\n",
       "    <tr>\n",
       "      <th>2019-01-01_BDI</th>\n",
       "      <td>BDI</td>\n",
       "      <td>2019-01-01</td>\n",
       "      <td>-23.5359</td>\n",
       "      <td>-5.719267</td>\n",
       "      <td>0.0053</td>\n",
       "      <td>4.504419</td>\n",
       "      <td>-1.246078</td>\n",
       "      <td>-10.824742</td>\n",
       "    </tr>\n",
       "    <tr>\n",
       "      <th>2019-01-01_ZWE</th>\n",
       "      <td>ZWE</td>\n",
       "      <td>2019-01-01</td>\n",
       "      <td>-98.8828</td>\n",
       "      <td>-42.918348</td>\n",
       "      <td>0.1514</td>\n",
       "      <td>-12.464260</td>\n",
       "      <td>-0.606575</td>\n",
       "      <td>63.728814</td>\n",
       "    </tr>\n",
       "    <tr>\n",
       "      <th>2019-01-01_MUS</th>\n",
       "      <td>MUS</td>\n",
       "      <td>2019-01-01</td>\n",
       "      <td>-7.9225</td>\n",
       "      <td>2.006043</td>\n",
       "      <td>0.0463</td>\n",
       "      <td>-20.826509</td>\n",
       "      <td>-1.576157</td>\n",
       "      <td>-4.284160</td>\n",
       "    </tr>\n",
       "    <tr>\n",
       "      <th>2019-01-01_COM</th>\n",
       "      <td>COM</td>\n",
       "      <td>2019-01-01</td>\n",
       "      <td>0.0000</td>\n",
       "      <td>2.566866</td>\n",
       "      <td>0.0000</td>\n",
       "      <td>-13.300892</td>\n",
       "      <td>-0.652365</td>\n",
       "      <td>-1.502754</td>\n",
       "    </tr>\n",
       "    <tr>\n",
       "      <th>2019-01-01_SOM</th>\n",
       "      <td>SOM</td>\n",
       "      <td>2019-01-01</td>\n",
       "      <td>-69.5705</td>\n",
       "      <td>-8.739058</td>\n",
       "      <td>0.0260</td>\n",
       "      <td>-1.602095</td>\n",
       "      <td>-0.340304</td>\n",
       "      <td>4.554113</td>\n",
       "    </tr>\n",
       "    <tr>\n",
       "      <th>...</th>\n",
       "      <td>...</td>\n",
       "      <td>...</td>\n",
       "      <td>...</td>\n",
       "      <td>...</td>\n",
       "      <td>...</td>\n",
       "      <td>...</td>\n",
       "      <td>...</td>\n",
       "      <td>...</td>\n",
       "    </tr>\n",
       "    <tr>\n",
       "      <th>2023-06-01_COM</th>\n",
       "      <td>COM</td>\n",
       "      <td>2023-06-01</td>\n",
       "      <td>5.1664</td>\n",
       "      <td>7.402202</td>\n",
       "      <td>0.0046</td>\n",
       "      <td>14.164681</td>\n",
       "      <td>0.068454</td>\n",
       "      <td>1.811517</td>\n",
       "    </tr>\n",
       "    <tr>\n",
       "      <th>2023-06-01_UKR</th>\n",
       "      <td>UKR</td>\n",
       "      <td>2023-06-01</td>\n",
       "      <td>-67.3292</td>\n",
       "      <td>-32.729513</td>\n",
       "      <td>2.2267</td>\n",
       "      <td>-7.705427</td>\n",
       "      <td>0.356182</td>\n",
       "      <td>16.441894</td>\n",
       "    </tr>\n",
       "    <tr>\n",
       "      <th>2023-06-01_BDI</th>\n",
       "      <td>BDI</td>\n",
       "      <td>2023-06-01</td>\n",
       "      <td>-12.4248</td>\n",
       "      <td>0.814025</td>\n",
       "      <td>0.0028</td>\n",
       "      <td>-5.019477</td>\n",
       "      <td>1.766552</td>\n",
       "      <td>39.490446</td>\n",
       "    </tr>\n",
       "    <tr>\n",
       "      <th>2023-06-01_SOM</th>\n",
       "      <td>SOM</td>\n",
       "      <td>2023-06-01</td>\n",
       "      <td>-47.7068</td>\n",
       "      <td>-0.974864</td>\n",
       "      <td>0.0282</td>\n",
       "      <td>-1.307178</td>\n",
       "      <td>-1.145269</td>\n",
       "      <td>0.355681</td>\n",
       "    </tr>\n",
       "    <tr>\n",
       "      <th>2023-06-01_ZWE</th>\n",
       "      <td>ZWE</td>\n",
       "      <td>2023-06-01</td>\n",
       "      <td>-22.4871</td>\n",
       "      <td>12.244500</td>\n",
       "      <td>0.2061</td>\n",
       "      <td>9.307748</td>\n",
       "      <td>0.138074</td>\n",
       "      <td>255.597846</td>\n",
       "    </tr>\n",
       "  </tbody>\n",
       "</table>\n",
       "<p>1134 rows × 8 columns</p>\n",
       "</div>"
      ],
      "text/plain": [
       "               iso3       Date  timelinetone_orig  timelinetone  \\\n",
       "key                                                               \n",
       "2019-01-01_BDI  BDI 2019-01-01           -23.5359     -5.719267   \n",
       "2019-01-01_ZWE  ZWE 2019-01-01           -98.8828    -42.918348   \n",
       "2019-01-01_MUS  MUS 2019-01-01            -7.9225      2.006043   \n",
       "2019-01-01_COM  COM 2019-01-01             0.0000      2.566866   \n",
       "2019-01-01_SOM  SOM 2019-01-01           -69.5705     -8.739058   \n",
       "...             ...        ...                ...           ...   \n",
       "2023-06-01_COM  COM 2023-06-01             5.1664      7.402202   \n",
       "2023-06-01_UKR  UKR 2023-06-01           -67.3292    -32.729513   \n",
       "2023-06-01_BDI  BDI 2023-06-01           -12.4248      0.814025   \n",
       "2023-06-01_SOM  SOM 2023-06-01           -47.7068     -0.974864   \n",
       "2023-06-01_ZWE  ZWE 2023-06-01           -22.4871     12.244500   \n",
       "\n",
       "                timelinevol_orig  timelinevol       fpi    fpi_orig  \n",
       "key                                                                  \n",
       "2019-01-01_BDI            0.0053     4.504419 -1.246078  -10.824742  \n",
       "2019-01-01_ZWE            0.1514   -12.464260 -0.606575   63.728814  \n",
       "2019-01-01_MUS            0.0463   -20.826509 -1.576157   -4.284160  \n",
       "2019-01-01_COM            0.0000   -13.300892 -0.652365   -1.502754  \n",
       "2019-01-01_SOM            0.0260    -1.602095 -0.340304    4.554113  \n",
       "...                          ...          ...       ...         ...  \n",
       "2023-06-01_COM            0.0046    14.164681  0.068454    1.811517  \n",
       "2023-06-01_UKR            2.2267    -7.705427  0.356182   16.441894  \n",
       "2023-06-01_BDI            0.0028    -5.019477  1.766552   39.490446  \n",
       "2023-06-01_SOM            0.0282    -1.307178 -1.145269    0.355681  \n",
       "2023-06-01_ZWE            0.2061     9.307748  0.138074  255.597846  \n",
       "\n",
       "[1134 rows x 8 columns]"
      ]
     },
     "execution_count": 75,
     "metadata": {},
     "output_type": "execute_result"
    }
   ],
   "source": [
    "df = df_gdelt.set_index('key').join(df_fp.set_index('key'), how='inner', lsuffix='g', rsuffix='f')\n",
    "df = df.rename(columns={'iso3g': 'iso3', 'Dateg': 'Date'})\n",
    "df = df.drop(columns=['Datef', 'iso3f']).sort_values(by=['Date'])\n",
    "df"
   ]
  },
  {
   "cell_type": "code",
   "execution_count": 76,
   "id": "f39296a9-943f-43ac-8c8a-23ec8416b88d",
   "metadata": {
    "tags": []
   },
   "outputs": [
    {
     "data": {
      "text/plain": [
       "21"
      ]
     },
     "execution_count": 76,
     "metadata": {},
     "output_type": "execute_result"
    }
   ],
   "source": [
    "df.iso3.nunique()"
   ]
  },
  {
   "cell_type": "code",
   "execution_count": 77,
   "id": "59779f7c-f0da-46dd-9afa-a72c8822d2d1",
   "metadata": {
    "tags": []
   },
   "outputs": [
    {
     "data": {
      "text/plain": [
       "array(['BDI', 'ZWE', 'MUS', 'COM', 'SOM', 'MOZ', 'SSD', 'MDG', 'SYC',\n",
       "       'ZMB', 'DJI', 'KEN', 'TZA', 'ETH', 'UGA', 'UKR', 'RWA', 'MWI',\n",
       "       'EGY', 'RUS', 'REU'], dtype=object)"
      ]
     },
     "execution_count": 77,
     "metadata": {},
     "output_type": "execute_result"
    }
   ],
   "source": [
    "df.iso3.unique()"
   ]
  },
  {
   "cell_type": "code",
   "execution_count": 78,
   "id": "bf4b8b92-1aa9-4795-a190-b358483af0df",
   "metadata": {
    "tags": []
   },
   "outputs": [
    {
     "data": {
      "text/plain": [
       "54"
      ]
     },
     "execution_count": 78,
     "metadata": {},
     "output_type": "execute_result"
    }
   ],
   "source": [
    "df.Date.nunique()"
   ]
  },
  {
   "cell_type": "code",
   "execution_count": 79,
   "id": "27514097-9b8f-406e-8cec-330ac01d7c56",
   "metadata": {
    "tags": []
   },
   "outputs": [],
   "source": [
    "df.to_feather(files_dir / 'gdelt_monthly_fpi.feather')\n",
    "df.to_csv(files_dir / 'gdelt_monthly_fpi.csv')"
   ]
  },
  {
   "cell_type": "code",
   "execution_count": 80,
   "id": "84f04b26-9e86-46d8-8933-3ec6614d13af",
   "metadata": {
    "tags": []
   },
   "outputs": [],
   "source": [
    "events = list()\n",
    "\n",
    "for g, rows in df.groupby(['iso3']):\n",
    "    y = gaussian_filter1d(rows['timelinevol'], 1)\n",
    "    peaks, _ = find_peaks(y, height=None)\n",
    "    #print(rows.iloc[peaks]['Date'].dt.strftime('%Y-%m-%d').values)\n",
    "    d2 = np.gradient(np.gradient(y))\n",
    "    sd2 = gaussian_filter1d(d2, 2)\n",
    "    infls = np.where(np.diff(np.sign(sd2)))[0]\n",
    "    co_events = (g[0], len(peaks), rows.iloc[peaks]['Date'].dt.strftime('%Y-%m-%d').values,\n",
    "                 len(infls), rows.iloc[infls]['Date'].dt.strftime('%Y-%m-%d').values)\n",
    "    #print(co_events)\n",
    "    events.append(co_events)\n",
    "df_ev = pd.DataFrame(events, columns=('iso3', 'n_peaks', 'peaks', 'n_infls', 'infls'))"
   ]
  },
  {
   "cell_type": "code",
   "execution_count": 46,
   "id": "a9d95e11-88c9-4317-8a18-4fe627e3dd44",
   "metadata": {
    "tags": []
   },
   "outputs": [
    {
     "data": {
      "text/html": [
       "<div>\n",
       "<style scoped>\n",
       "    .dataframe tbody tr th:only-of-type {\n",
       "        vertical-align: middle;\n",
       "    }\n",
       "\n",
       "    .dataframe tbody tr th {\n",
       "        vertical-align: top;\n",
       "    }\n",
       "\n",
       "    .dataframe thead th {\n",
       "        text-align: right;\n",
       "    }\n",
       "</style>\n",
       "<table border=\"1\" class=\"dataframe\">\n",
       "  <thead>\n",
       "    <tr style=\"text-align: right;\">\n",
       "      <th></th>\n",
       "      <th>iso3</th>\n",
       "      <th>n_peaks</th>\n",
       "      <th>peaks</th>\n",
       "      <th>n_infls</th>\n",
       "      <th>infls</th>\n",
       "    </tr>\n",
       "  </thead>\n",
       "  <tbody>\n",
       "    <tr>\n",
       "      <th>0</th>\n",
       "      <td>DJI</td>\n",
       "      <td>7</td>\n",
       "      <td>[2020-01-01, 2020-05-01, 2020-07-01, 2021-01-0...</td>\n",
       "      <td>9</td>\n",
       "      <td>[2019-04-01, 2019-12-01, 2020-09-01, 2020-11-0...</td>\n",
       "    </tr>\n",
       "    <tr>\n",
       "      <th>1</th>\n",
       "      <td>EGY</td>\n",
       "      <td>6</td>\n",
       "      <td>[2020-04-01, 2021-01-01, 2021-07-01, 2022-03-0...</td>\n",
       "      <td>10</td>\n",
       "      <td>[2019-02-01, 2020-01-01, 2020-06-01, 2020-10-0...</td>\n",
       "    </tr>\n",
       "    <tr>\n",
       "      <th>2</th>\n",
       "      <td>ETH</td>\n",
       "      <td>9</td>\n",
       "      <td>[2020-01-01, 2020-05-01, 2020-09-01, 2021-02-0...</td>\n",
       "      <td>10</td>\n",
       "      <td>[2019-10-01, 2020-06-01, 2020-11-01, 2021-07-0...</td>\n",
       "    </tr>\n",
       "    <tr>\n",
       "      <th>3</th>\n",
       "      <td>MOZ</td>\n",
       "      <td>8</td>\n",
       "      <td>[2019-04-01, 2020-05-01, 2020-08-01, 2021-03-0...</td>\n",
       "      <td>9</td>\n",
       "      <td>[2019-01-01, 2019-06-01, 2020-02-01, 2020-10-0...</td>\n",
       "    </tr>\n",
       "    <tr>\n",
       "      <th>4</th>\n",
       "      <td>RUS</td>\n",
       "      <td>7</td>\n",
       "      <td>[2019-02-01, 2019-08-01, 2020-04-01, 2020-12-0...</td>\n",
       "      <td>11</td>\n",
       "      <td>[2019-03-01, 2019-06-01, 2019-08-01, 2020-01-0...</td>\n",
       "    </tr>\n",
       "    <tr>\n",
       "      <th>5</th>\n",
       "      <td>SDN</td>\n",
       "      <td>6</td>\n",
       "      <td>[2019-11-01, 2020-07-01, 2020-11-01, 2021-08-0...</td>\n",
       "      <td>10</td>\n",
       "      <td>[2019-02-01, 2019-08-01, 2019-12-01, 2020-08-0...</td>\n",
       "    </tr>\n",
       "    <tr>\n",
       "      <th>6</th>\n",
       "      <td>SOM</td>\n",
       "      <td>8</td>\n",
       "      <td>[2019-06-01, 2019-11-01, 2020-05-01, 2021-05-0...</td>\n",
       "      <td>9</td>\n",
       "      <td>[2019-03-01, 2019-08-01, 2020-02-01, 2020-06-0...</td>\n",
       "    </tr>\n",
       "    <tr>\n",
       "      <th>7</th>\n",
       "      <td>SSD</td>\n",
       "      <td>7</td>\n",
       "      <td>[2019-02-01, 2019-11-01, 2020-06-01, 2020-10-0...</td>\n",
       "      <td>10</td>\n",
       "      <td>[2019-03-01, 2019-08-01, 2020-01-01, 2020-07-0...</td>\n",
       "    </tr>\n",
       "    <tr>\n",
       "      <th>8</th>\n",
       "      <td>TZA</td>\n",
       "      <td>7</td>\n",
       "      <td>[2019-04-01, 2019-10-01, 2020-04-01, 2020-10-0...</td>\n",
       "      <td>13</td>\n",
       "      <td>[2019-06-01, 2019-08-01, 2019-10-01, 2020-01-0...</td>\n",
       "    </tr>\n",
       "    <tr>\n",
       "      <th>9</th>\n",
       "      <td>UKR</td>\n",
       "      <td>5</td>\n",
       "      <td>[2019-09-01, 2020-04-01, 2020-12-01, 2022-04-0...</td>\n",
       "      <td>11</td>\n",
       "      <td>[2019-02-01, 2019-06-01, 2019-09-01, 2020-01-0...</td>\n",
       "    </tr>\n",
       "  </tbody>\n",
       "</table>\n",
       "</div>"
      ],
      "text/plain": [
       "  iso3  n_peaks                                              peaks  n_infls  \\\n",
       "0  DJI        7  [2020-01-01, 2020-05-01, 2020-07-01, 2021-01-0...        9   \n",
       "1  EGY        6  [2020-04-01, 2021-01-01, 2021-07-01, 2022-03-0...       10   \n",
       "2  ETH        9  [2020-01-01, 2020-05-01, 2020-09-01, 2021-02-0...       10   \n",
       "3  MOZ        8  [2019-04-01, 2020-05-01, 2020-08-01, 2021-03-0...        9   \n",
       "4  RUS        7  [2019-02-01, 2019-08-01, 2020-04-01, 2020-12-0...       11   \n",
       "5  SDN        6  [2019-11-01, 2020-07-01, 2020-11-01, 2021-08-0...       10   \n",
       "6  SOM        8  [2019-06-01, 2019-11-01, 2020-05-01, 2021-05-0...        9   \n",
       "7  SSD        7  [2019-02-01, 2019-11-01, 2020-06-01, 2020-10-0...       10   \n",
       "8  TZA        7  [2019-04-01, 2019-10-01, 2020-04-01, 2020-10-0...       13   \n",
       "9  UKR        5  [2019-09-01, 2020-04-01, 2020-12-01, 2022-04-0...       11   \n",
       "\n",
       "                                               infls  \n",
       "0  [2019-04-01, 2019-12-01, 2020-09-01, 2020-11-0...  \n",
       "1  [2019-02-01, 2020-01-01, 2020-06-01, 2020-10-0...  \n",
       "2  [2019-10-01, 2020-06-01, 2020-11-01, 2021-07-0...  \n",
       "3  [2019-01-01, 2019-06-01, 2020-02-01, 2020-10-0...  \n",
       "4  [2019-03-01, 2019-06-01, 2019-08-01, 2020-01-0...  \n",
       "5  [2019-02-01, 2019-08-01, 2019-12-01, 2020-08-0...  \n",
       "6  [2019-03-01, 2019-08-01, 2020-02-01, 2020-06-0...  \n",
       "7  [2019-03-01, 2019-08-01, 2020-01-01, 2020-07-0...  \n",
       "8  [2019-06-01, 2019-08-01, 2019-10-01, 2020-01-0...  \n",
       "9  [2019-02-01, 2019-06-01, 2019-09-01, 2020-01-0...  "
      ]
     },
     "execution_count": 46,
     "metadata": {},
     "output_type": "execute_result"
    }
   ],
   "source": [
    "df_ev"
   ]
  },
  {
   "cell_type": "code",
   "execution_count": 47,
   "id": "07969fe3-00ac-43e0-b207-8b3c3277fcc5",
   "metadata": {
    "tags": []
   },
   "outputs": [],
   "source": [
    "df_ev.to_feather(files_dir / \"gdelt_monthly_fpi_events.feather\")"
   ]
  },
  {
   "cell_type": "code",
   "execution_count": 48,
   "id": "e17f5dc3-6f92-4c1d-b365-3c96bf4f0136",
   "metadata": {
    "tags": []
   },
   "outputs": [
    {
     "data": {
      "text/plain": [
       "count    10.000000\n",
       "mean      7.000000\n",
       "std       1.154701\n",
       "min       5.000000\n",
       "25%       6.250000\n",
       "50%       7.000000\n",
       "75%       7.750000\n",
       "max       9.000000\n",
       "Name: n_peaks, dtype: float64"
      ]
     },
     "execution_count": 48,
     "metadata": {},
     "output_type": "execute_result"
    }
   ],
   "source": [
    "df_ev.n_peaks.describe()"
   ]
  },
  {
   "cell_type": "code",
   "execution_count": 49,
   "id": "868c948e-d104-476e-ab3a-ca1a0405d543",
   "metadata": {
    "tags": []
   },
   "outputs": [
    {
     "data": {
      "text/plain": [
       "count    10.000000\n",
       "mean     10.200000\n",
       "std       1.229273\n",
       "min       9.000000\n",
       "25%       9.250000\n",
       "50%      10.000000\n",
       "75%      10.750000\n",
       "max      13.000000\n",
       "Name: n_infls, dtype: float64"
      ]
     },
     "execution_count": 49,
     "metadata": {},
     "output_type": "execute_result"
    }
   ],
   "source": [
    "df_ev.n_infls.describe()"
   ]
  },
  {
   "cell_type": "code",
   "execution_count": 50,
   "id": "98d2f3ba-743c-44d0-9870-5955434657f1",
   "metadata": {
    "tags": []
   },
   "outputs": [],
   "source": [
    "#print(pio.renderers)\n",
    "pio.renderers.default = \"jupyterlab\"\n",
    "\n",
    "colors = [\"#E69F00\", \"#56B4E9\", \"#009E73\", \"#F0E442\", \"#D55E00\", \"#0072B2\", \"#CC79A7\"]\n",
    "\n",
    "def plot_timeseries(tsdf, colname='timelinevol', query=None, smooth_x=1, show_infl=True, show_peaks=True, smooth_y=2):\n",
    "    fig = go.Figure()\n",
    "    title_text = f\"<b>{colname}\"\n",
    "    if query is not None:\n",
    "        data = tsdf.query(query)\n",
    "        title_text += \" (\" + query + \")\"\n",
    "    else:\n",
    "        data = tsdf\n",
    "    for index, org in enumerate(data['iso3'].unique()):\n",
    "        cdata = data.loc[data['iso3'] == org, :]\n",
    "        cname = cdata['iso3'].values[0]\n",
    "        if smooth_x is not None:\n",
    "            y = gaussian_filter1d(cdata[colname], smooth_x)\n",
    "        else:\n",
    "            y = cdata[colname]\n",
    "        fig.add_trace(go.Scatter(x=cdata['Date'], y=y,\n",
    "                                 mode='lines',\n",
    "                                 marker_color=colors[index % 7],\n",
    "                                 hoverinfo=\"text\",\n",
    "                                 name=f\"{cname} {colname}\",\n",
    "                                 #xperiod=\"M1\",\n",
    "                                 #xperiodalignment=\"middle\",\n",
    "                                 # NOTE hovertemplate uses d3js formatting not f-string\n",
    "                                 # https://github.com/d3/d3-3.x-api-reference/blob/master/Formatting.md#d3_format\n",
    "                                 hovertemplate=\"%{y}%{_xother}\"\n",
    "                                 ))\n",
    "        if 'fpi' in cdata:\n",
    "            fig.add_trace(go.Scatter(x=cdata['Date'], y=cdata['fpi'],\n",
    "                                     mode='lines',\n",
    "                                     marker_color=colors[index % 7],\n",
    "                                     hoverinfo=\"text\",\n",
    "                                     name=f'{cname} fpi',\n",
    "                                     #xperiod=\"M1\",\n",
    "                                     #xperiodalignment=\"middle\",\n",
    "                                     # NOTE hovertemplate uses d3js formatting not f-string\n",
    "                                     # https://github.com/d3/d3-3.x-api-reference/blob/master/Formatting.md#d3_format\n",
    "                                     hovertemplate=\"%{y}%{_xother}\"\n",
    "                                     ))\n",
    "        if 'timelinetone' in cdata:\n",
    "            fig.add_trace(go.Scatter(x=cdata['Date'], y=cdata['timelinetone'],\n",
    "                                     mode='lines',\n",
    "                                     marker_color=colors[index % 7],\n",
    "                                     hoverinfo=\"text\",\n",
    "                                     name=f'{cname} tone',\n",
    "                                     #xperiod=\"M1\",\n",
    "                                     #xperiodalignment=\"middle\",\n",
    "                                     # NOTE hovertemplate uses d3js formatting not f-string\n",
    "                                     # https://github.com/d3/d3-3.x-api-reference/blob/master/Formatting.md#d3_format\n",
    "                                     hovertemplate=\"%{y}%{_xother}\"\n",
    "                                     ))\n",
    "        if show_peaks:\n",
    "            peaks, _ = find_peaks(y, height=None)\n",
    "            #print(len(peaks), ' peaks')\n",
    "            for i, peak in enumerate(peaks, 1):\n",
    "                fig.add_vline(x=cdata['Date'].iloc[peak], line_width=2, line_dash=\"dash\", line_color=\"red\")\n",
    "        if show_infl:\n",
    "            d2 = np.gradient(np.gradient(y))\n",
    "            sd2 = gaussian_filter1d(d2, smooth_y)\n",
    "            infls = np.where(np.diff(np.sign(sd2)))[0]\n",
    "            #print(len(infls), ' infls')\n",
    "            for i, infl in enumerate(infls, 1):\n",
    "                fig.add_vline(x=cdata['Date'].iloc[infl], line_width=1, line_dash=\"dash\", line_color=\"green\")\n",
    "\n",
    "    fig.update_xaxes(showgrid=True, rangeslider_visible=True)\n",
    "    fig.update_yaxes(showgrid=True)\n",
    "    fig.update_layout(\n",
    "        yaxis_title=\"Frequency\",\n",
    "\n",
    "        title={\n",
    "            'text': title_text,\n",
    "            'y': .95,\n",
    "            'x': 0.40,\n",
    "            'xanchor': 'center',\n",
    "            'yanchor': 'top',\n",
    "            'font': dict(\n",
    "                size=22,\n",
    "                color=\"Black\")\n",
    "        },\n",
    "        template=\"simple_white\",\n",
    "        width=1250,\n",
    "        height=650,\n",
    "        hoverlabel=dict(\n",
    "            bgcolor=\"white\",\n",
    "            font_size=16,\n",
    "            font_family=\"Rockwell\"\n",
    "        ),\n",
    "        legend=dict(\n",
    "            title=\"<b>Org\",\n",
    "        )\n",
    "    )\n",
    "    return fig"
   ]
  },
  {
   "cell_type": "code",
   "execution_count": 51,
   "id": "16567bf0-6f60-427d-aab0-c989585d6a57",
   "metadata": {
    "tags": []
   },
   "outputs": [
    {
     "data": {
      "application/vnd.plotly.v1+json": {
       "config": {
        "plotlyServerURL": "https://plot.ly"
       },
       "data": [],
       "layout": {
        "height": 650,
        "hoverlabel": {
         "bgcolor": "white",
         "font": {
          "family": "Rockwell",
          "size": 16
         }
        },
        "legend": {
         "title": {
          "text": "<b>Org"
         }
        },
        "template": {
         "data": {
          "bar": [
           {
            "error_x": {
             "color": "rgb(36,36,36)"
            },
            "error_y": {
             "color": "rgb(36,36,36)"
            },
            "marker": {
             "line": {
              "color": "white",
              "width": 0.5
             },
             "pattern": {
              "fillmode": "overlay",
              "size": 10,
              "solidity": 0.2
             }
            },
            "type": "bar"
           }
          ],
          "barpolar": [
           {
            "marker": {
             "line": {
              "color": "white",
              "width": 0.5
             },
             "pattern": {
              "fillmode": "overlay",
              "size": 10,
              "solidity": 0.2
             }
            },
            "type": "barpolar"
           }
          ],
          "carpet": [
           {
            "aaxis": {
             "endlinecolor": "rgb(36,36,36)",
             "gridcolor": "white",
             "linecolor": "white",
             "minorgridcolor": "white",
             "startlinecolor": "rgb(36,36,36)"
            },
            "baxis": {
             "endlinecolor": "rgb(36,36,36)",
             "gridcolor": "white",
             "linecolor": "white",
             "minorgridcolor": "white",
             "startlinecolor": "rgb(36,36,36)"
            },
            "type": "carpet"
           }
          ],
          "choropleth": [
           {
            "colorbar": {
             "outlinewidth": 1,
             "tickcolor": "rgb(36,36,36)",
             "ticks": "outside"
            },
            "type": "choropleth"
           }
          ],
          "contour": [
           {
            "colorbar": {
             "outlinewidth": 1,
             "tickcolor": "rgb(36,36,36)",
             "ticks": "outside"
            },
            "colorscale": [
             [
              0,
              "#440154"
             ],
             [
              0.1111111111111111,
              "#482878"
             ],
             [
              0.2222222222222222,
              "#3e4989"
             ],
             [
              0.3333333333333333,
              "#31688e"
             ],
             [
              0.4444444444444444,
              "#26828e"
             ],
             [
              0.5555555555555556,
              "#1f9e89"
             ],
             [
              0.6666666666666666,
              "#35b779"
             ],
             [
              0.7777777777777778,
              "#6ece58"
             ],
             [
              0.8888888888888888,
              "#b5de2b"
             ],
             [
              1,
              "#fde725"
             ]
            ],
            "type": "contour"
           }
          ],
          "contourcarpet": [
           {
            "colorbar": {
             "outlinewidth": 1,
             "tickcolor": "rgb(36,36,36)",
             "ticks": "outside"
            },
            "type": "contourcarpet"
           }
          ],
          "heatmap": [
           {
            "colorbar": {
             "outlinewidth": 1,
             "tickcolor": "rgb(36,36,36)",
             "ticks": "outside"
            },
            "colorscale": [
             [
              0,
              "#440154"
             ],
             [
              0.1111111111111111,
              "#482878"
             ],
             [
              0.2222222222222222,
              "#3e4989"
             ],
             [
              0.3333333333333333,
              "#31688e"
             ],
             [
              0.4444444444444444,
              "#26828e"
             ],
             [
              0.5555555555555556,
              "#1f9e89"
             ],
             [
              0.6666666666666666,
              "#35b779"
             ],
             [
              0.7777777777777778,
              "#6ece58"
             ],
             [
              0.8888888888888888,
              "#b5de2b"
             ],
             [
              1,
              "#fde725"
             ]
            ],
            "type": "heatmap"
           }
          ],
          "heatmapgl": [
           {
            "colorbar": {
             "outlinewidth": 1,
             "tickcolor": "rgb(36,36,36)",
             "ticks": "outside"
            },
            "colorscale": [
             [
              0,
              "#440154"
             ],
             [
              0.1111111111111111,
              "#482878"
             ],
             [
              0.2222222222222222,
              "#3e4989"
             ],
             [
              0.3333333333333333,
              "#31688e"
             ],
             [
              0.4444444444444444,
              "#26828e"
             ],
             [
              0.5555555555555556,
              "#1f9e89"
             ],
             [
              0.6666666666666666,
              "#35b779"
             ],
             [
              0.7777777777777778,
              "#6ece58"
             ],
             [
              0.8888888888888888,
              "#b5de2b"
             ],
             [
              1,
              "#fde725"
             ]
            ],
            "type": "heatmapgl"
           }
          ],
          "histogram": [
           {
            "marker": {
             "line": {
              "color": "white",
              "width": 0.6
             }
            },
            "type": "histogram"
           }
          ],
          "histogram2d": [
           {
            "colorbar": {
             "outlinewidth": 1,
             "tickcolor": "rgb(36,36,36)",
             "ticks": "outside"
            },
            "colorscale": [
             [
              0,
              "#440154"
             ],
             [
              0.1111111111111111,
              "#482878"
             ],
             [
              0.2222222222222222,
              "#3e4989"
             ],
             [
              0.3333333333333333,
              "#31688e"
             ],
             [
              0.4444444444444444,
              "#26828e"
             ],
             [
              0.5555555555555556,
              "#1f9e89"
             ],
             [
              0.6666666666666666,
              "#35b779"
             ],
             [
              0.7777777777777778,
              "#6ece58"
             ],
             [
              0.8888888888888888,
              "#b5de2b"
             ],
             [
              1,
              "#fde725"
             ]
            ],
            "type": "histogram2d"
           }
          ],
          "histogram2dcontour": [
           {
            "colorbar": {
             "outlinewidth": 1,
             "tickcolor": "rgb(36,36,36)",
             "ticks": "outside"
            },
            "colorscale": [
             [
              0,
              "#440154"
             ],
             [
              0.1111111111111111,
              "#482878"
             ],
             [
              0.2222222222222222,
              "#3e4989"
             ],
             [
              0.3333333333333333,
              "#31688e"
             ],
             [
              0.4444444444444444,
              "#26828e"
             ],
             [
              0.5555555555555556,
              "#1f9e89"
             ],
             [
              0.6666666666666666,
              "#35b779"
             ],
             [
              0.7777777777777778,
              "#6ece58"
             ],
             [
              0.8888888888888888,
              "#b5de2b"
             ],
             [
              1,
              "#fde725"
             ]
            ],
            "type": "histogram2dcontour"
           }
          ],
          "mesh3d": [
           {
            "colorbar": {
             "outlinewidth": 1,
             "tickcolor": "rgb(36,36,36)",
             "ticks": "outside"
            },
            "type": "mesh3d"
           }
          ],
          "parcoords": [
           {
            "line": {
             "colorbar": {
              "outlinewidth": 1,
              "tickcolor": "rgb(36,36,36)",
              "ticks": "outside"
             }
            },
            "type": "parcoords"
           }
          ],
          "pie": [
           {
            "automargin": true,
            "type": "pie"
           }
          ],
          "scatter": [
           {
            "fillpattern": {
             "fillmode": "overlay",
             "size": 10,
             "solidity": 0.2
            },
            "type": "scatter"
           }
          ],
          "scatter3d": [
           {
            "line": {
             "colorbar": {
              "outlinewidth": 1,
              "tickcolor": "rgb(36,36,36)",
              "ticks": "outside"
             }
            },
            "marker": {
             "colorbar": {
              "outlinewidth": 1,
              "tickcolor": "rgb(36,36,36)",
              "ticks": "outside"
             }
            },
            "type": "scatter3d"
           }
          ],
          "scattercarpet": [
           {
            "marker": {
             "colorbar": {
              "outlinewidth": 1,
              "tickcolor": "rgb(36,36,36)",
              "ticks": "outside"
             }
            },
            "type": "scattercarpet"
           }
          ],
          "scattergeo": [
           {
            "marker": {
             "colorbar": {
              "outlinewidth": 1,
              "tickcolor": "rgb(36,36,36)",
              "ticks": "outside"
             }
            },
            "type": "scattergeo"
           }
          ],
          "scattergl": [
           {
            "marker": {
             "colorbar": {
              "outlinewidth": 1,
              "tickcolor": "rgb(36,36,36)",
              "ticks": "outside"
             }
            },
            "type": "scattergl"
           }
          ],
          "scattermapbox": [
           {
            "marker": {
             "colorbar": {
              "outlinewidth": 1,
              "tickcolor": "rgb(36,36,36)",
              "ticks": "outside"
             }
            },
            "type": "scattermapbox"
           }
          ],
          "scatterpolar": [
           {
            "marker": {
             "colorbar": {
              "outlinewidth": 1,
              "tickcolor": "rgb(36,36,36)",
              "ticks": "outside"
             }
            },
            "type": "scatterpolar"
           }
          ],
          "scatterpolargl": [
           {
            "marker": {
             "colorbar": {
              "outlinewidth": 1,
              "tickcolor": "rgb(36,36,36)",
              "ticks": "outside"
             }
            },
            "type": "scatterpolargl"
           }
          ],
          "scatterternary": [
           {
            "marker": {
             "colorbar": {
              "outlinewidth": 1,
              "tickcolor": "rgb(36,36,36)",
              "ticks": "outside"
             }
            },
            "type": "scatterternary"
           }
          ],
          "surface": [
           {
            "colorbar": {
             "outlinewidth": 1,
             "tickcolor": "rgb(36,36,36)",
             "ticks": "outside"
            },
            "colorscale": [
             [
              0,
              "#440154"
             ],
             [
              0.1111111111111111,
              "#482878"
             ],
             [
              0.2222222222222222,
              "#3e4989"
             ],
             [
              0.3333333333333333,
              "#31688e"
             ],
             [
              0.4444444444444444,
              "#26828e"
             ],
             [
              0.5555555555555556,
              "#1f9e89"
             ],
             [
              0.6666666666666666,
              "#35b779"
             ],
             [
              0.7777777777777778,
              "#6ece58"
             ],
             [
              0.8888888888888888,
              "#b5de2b"
             ],
             [
              1,
              "#fde725"
             ]
            ],
            "type": "surface"
           }
          ],
          "table": [
           {
            "cells": {
             "fill": {
              "color": "rgb(237,237,237)"
             },
             "line": {
              "color": "white"
             }
            },
            "header": {
             "fill": {
              "color": "rgb(217,217,217)"
             },
             "line": {
              "color": "white"
             }
            },
            "type": "table"
           }
          ]
         },
         "layout": {
          "annotationdefaults": {
           "arrowhead": 0,
           "arrowwidth": 1
          },
          "autotypenumbers": "strict",
          "coloraxis": {
           "colorbar": {
            "outlinewidth": 1,
            "tickcolor": "rgb(36,36,36)",
            "ticks": "outside"
           }
          },
          "colorscale": {
           "diverging": [
            [
             0,
             "rgb(103,0,31)"
            ],
            [
             0.1,
             "rgb(178,24,43)"
            ],
            [
             0.2,
             "rgb(214,96,77)"
            ],
            [
             0.3,
             "rgb(244,165,130)"
            ],
            [
             0.4,
             "rgb(253,219,199)"
            ],
            [
             0.5,
             "rgb(247,247,247)"
            ],
            [
             0.6,
             "rgb(209,229,240)"
            ],
            [
             0.7,
             "rgb(146,197,222)"
            ],
            [
             0.8,
             "rgb(67,147,195)"
            ],
            [
             0.9,
             "rgb(33,102,172)"
            ],
            [
             1,
             "rgb(5,48,97)"
            ]
           ],
           "sequential": [
            [
             0,
             "#440154"
            ],
            [
             0.1111111111111111,
             "#482878"
            ],
            [
             0.2222222222222222,
             "#3e4989"
            ],
            [
             0.3333333333333333,
             "#31688e"
            ],
            [
             0.4444444444444444,
             "#26828e"
            ],
            [
             0.5555555555555556,
             "#1f9e89"
            ],
            [
             0.6666666666666666,
             "#35b779"
            ],
            [
             0.7777777777777778,
             "#6ece58"
            ],
            [
             0.8888888888888888,
             "#b5de2b"
            ],
            [
             1,
             "#fde725"
            ]
           ],
           "sequentialminus": [
            [
             0,
             "#440154"
            ],
            [
             0.1111111111111111,
             "#482878"
            ],
            [
             0.2222222222222222,
             "#3e4989"
            ],
            [
             0.3333333333333333,
             "#31688e"
            ],
            [
             0.4444444444444444,
             "#26828e"
            ],
            [
             0.5555555555555556,
             "#1f9e89"
            ],
            [
             0.6666666666666666,
             "#35b779"
            ],
            [
             0.7777777777777778,
             "#6ece58"
            ],
            [
             0.8888888888888888,
             "#b5de2b"
            ],
            [
             1,
             "#fde725"
            ]
           ]
          },
          "colorway": [
           "#1F77B4",
           "#FF7F0E",
           "#2CA02C",
           "#D62728",
           "#9467BD",
           "#8C564B",
           "#E377C2",
           "#7F7F7F",
           "#BCBD22",
           "#17BECF"
          ],
          "font": {
           "color": "rgb(36,36,36)"
          },
          "geo": {
           "bgcolor": "white",
           "lakecolor": "white",
           "landcolor": "white",
           "showlakes": true,
           "showland": true,
           "subunitcolor": "white"
          },
          "hoverlabel": {
           "align": "left"
          },
          "hovermode": "closest",
          "mapbox": {
           "style": "light"
          },
          "paper_bgcolor": "white",
          "plot_bgcolor": "white",
          "polar": {
           "angularaxis": {
            "gridcolor": "rgb(232,232,232)",
            "linecolor": "rgb(36,36,36)",
            "showgrid": false,
            "showline": true,
            "ticks": "outside"
           },
           "bgcolor": "white",
           "radialaxis": {
            "gridcolor": "rgb(232,232,232)",
            "linecolor": "rgb(36,36,36)",
            "showgrid": false,
            "showline": true,
            "ticks": "outside"
           }
          },
          "scene": {
           "xaxis": {
            "backgroundcolor": "white",
            "gridcolor": "rgb(232,232,232)",
            "gridwidth": 2,
            "linecolor": "rgb(36,36,36)",
            "showbackground": true,
            "showgrid": false,
            "showline": true,
            "ticks": "outside",
            "zeroline": false,
            "zerolinecolor": "rgb(36,36,36)"
           },
           "yaxis": {
            "backgroundcolor": "white",
            "gridcolor": "rgb(232,232,232)",
            "gridwidth": 2,
            "linecolor": "rgb(36,36,36)",
            "showbackground": true,
            "showgrid": false,
            "showline": true,
            "ticks": "outside",
            "zeroline": false,
            "zerolinecolor": "rgb(36,36,36)"
           },
           "zaxis": {
            "backgroundcolor": "white",
            "gridcolor": "rgb(232,232,232)",
            "gridwidth": 2,
            "linecolor": "rgb(36,36,36)",
            "showbackground": true,
            "showgrid": false,
            "showline": true,
            "ticks": "outside",
            "zeroline": false,
            "zerolinecolor": "rgb(36,36,36)"
           }
          },
          "shapedefaults": {
           "fillcolor": "black",
           "line": {
            "width": 0
           },
           "opacity": 0.3
          },
          "ternary": {
           "aaxis": {
            "gridcolor": "rgb(232,232,232)",
            "linecolor": "rgb(36,36,36)",
            "showgrid": false,
            "showline": true,
            "ticks": "outside"
           },
           "baxis": {
            "gridcolor": "rgb(232,232,232)",
            "linecolor": "rgb(36,36,36)",
            "showgrid": false,
            "showline": true,
            "ticks": "outside"
           },
           "bgcolor": "white",
           "caxis": {
            "gridcolor": "rgb(232,232,232)",
            "linecolor": "rgb(36,36,36)",
            "showgrid": false,
            "showline": true,
            "ticks": "outside"
           }
          },
          "title": {
           "x": 0.05
          },
          "xaxis": {
           "automargin": true,
           "gridcolor": "rgb(232,232,232)",
           "linecolor": "rgb(36,36,36)",
           "showgrid": false,
           "showline": true,
           "ticks": "outside",
           "title": {
            "standoff": 15
           },
           "zeroline": false,
           "zerolinecolor": "rgb(36,36,36)"
          },
          "yaxis": {
           "automargin": true,
           "gridcolor": "rgb(232,232,232)",
           "linecolor": "rgb(36,36,36)",
           "showgrid": false,
           "showline": true,
           "ticks": "outside",
           "title": {
            "standoff": 15
           },
           "zeroline": false,
           "zerolinecolor": "rgb(36,36,36)"
          }
         }
        },
        "title": {
         "font": {
          "color": "Black",
          "size": 22
         },
         "text": "<b>timelinevol",
         "x": 0.4,
         "xanchor": "center",
         "y": 0.95,
         "yanchor": "top"
        },
        "width": 1250,
        "xaxis": {
         "autorange": true,
         "range": [
          -1,
          6
         ],
         "rangeslider": {
          "autorange": true,
          "range": [
           -1,
           6
          ],
          "visible": true,
          "yaxis": {
           "_template": null,
           "rangemode": "match"
          }
         },
         "showgrid": true
        },
        "yaxis": {
         "autorange": true,
         "range": [
          -1,
          4
         ],
         "showgrid": true,
         "title": {
          "text": "Frequency"
         }
        }
       }
      },
      "image/png": "[encoded data removed]"
     },
     "metadata": {},
     "output_type": "display_data"
    }
   ],
   "source": [
    "plot_timeseries(df.query(f\"iso3=='KEN'\"), smooth_x=1, show_infl=True, show_peaks=True)"
   ]
  },
  {
   "cell_type": "code",
   "execution_count": 52,
   "id": "5f107e2e-c637-4e51-9f22-3dddb711f86f",
   "metadata": {
    "tags": []
   },
   "outputs": [
    {
     "data": {
      "application/vnd.plotly.v1+json": {
       "config": {
        "plotlyServerURL": "https://plot.ly"
       },
       "data": [],
       "layout": {
        "height": 650,
        "hoverlabel": {
         "bgcolor": "white",
         "font": {
          "family": "Rockwell",
          "size": 16
         }
        },
        "legend": {
         "title": {
          "text": "<b>Org"
         }
        },
        "template": {
         "data": {
          "bar": [
           {
            "error_x": {
             "color": "rgb(36,36,36)"
            },
            "error_y": {
             "color": "rgb(36,36,36)"
            },
            "marker": {
             "line": {
              "color": "white",
              "width": 0.5
             },
             "pattern": {
              "fillmode": "overlay",
              "size": 10,
              "solidity": 0.2
             }
            },
            "type": "bar"
           }
          ],
          "barpolar": [
           {
            "marker": {
             "line": {
              "color": "white",
              "width": 0.5
             },
             "pattern": {
              "fillmode": "overlay",
              "size": 10,
              "solidity": 0.2
             }
            },
            "type": "barpolar"
           }
          ],
          "carpet": [
           {
            "aaxis": {
             "endlinecolor": "rgb(36,36,36)",
             "gridcolor": "white",
             "linecolor": "white",
             "minorgridcolor": "white",
             "startlinecolor": "rgb(36,36,36)"
            },
            "baxis": {
             "endlinecolor": "rgb(36,36,36)",
             "gridcolor": "white",
             "linecolor": "white",
             "minorgridcolor": "white",
             "startlinecolor": "rgb(36,36,36)"
            },
            "type": "carpet"
           }
          ],
          "choropleth": [
           {
            "colorbar": {
             "outlinewidth": 1,
             "tickcolor": "rgb(36,36,36)",
             "ticks": "outside"
            },
            "type": "choropleth"
           }
          ],
          "contour": [
           {
            "colorbar": {
             "outlinewidth": 1,
             "tickcolor": "rgb(36,36,36)",
             "ticks": "outside"
            },
            "colorscale": [
             [
              0,
              "#440154"
             ],
             [
              0.1111111111111111,
              "#482878"
             ],
             [
              0.2222222222222222,
              "#3e4989"
             ],
             [
              0.3333333333333333,
              "#31688e"
             ],
             [
              0.4444444444444444,
              "#26828e"
             ],
             [
              0.5555555555555556,
              "#1f9e89"
             ],
             [
              0.6666666666666666,
              "#35b779"
             ],
             [
              0.7777777777777778,
              "#6ece58"
             ],
             [
              0.8888888888888888,
              "#b5de2b"
             ],
             [
              1,
              "#fde725"
             ]
            ],
            "type": "contour"
           }
          ],
          "contourcarpet": [
           {
            "colorbar": {
             "outlinewidth": 1,
             "tickcolor": "rgb(36,36,36)",
             "ticks": "outside"
            },
            "type": "contourcarpet"
           }
          ],
          "heatmap": [
           {
            "colorbar": {
             "outlinewidth": 1,
             "tickcolor": "rgb(36,36,36)",
             "ticks": "outside"
            },
            "colorscale": [
             [
              0,
              "#440154"
             ],
             [
              0.1111111111111111,
              "#482878"
             ],
             [
              0.2222222222222222,
              "#3e4989"
             ],
             [
              0.3333333333333333,
              "#31688e"
             ],
             [
              0.4444444444444444,
              "#26828e"
             ],
             [
              0.5555555555555556,
              "#1f9e89"
             ],
             [
              0.6666666666666666,
              "#35b779"
             ],
             [
              0.7777777777777778,
              "#6ece58"
             ],
             [
              0.8888888888888888,
              "#b5de2b"
             ],
             [
              1,
              "#fde725"
             ]
            ],
            "type": "heatmap"
           }
          ],
          "heatmapgl": [
           {
            "colorbar": {
             "outlinewidth": 1,
             "tickcolor": "rgb(36,36,36)",
             "ticks": "outside"
            },
            "colorscale": [
             [
              0,
              "#440154"
             ],
             [
              0.1111111111111111,
              "#482878"
             ],
             [
              0.2222222222222222,
              "#3e4989"
             ],
             [
              0.3333333333333333,
              "#31688e"
             ],
             [
              0.4444444444444444,
              "#26828e"
             ],
             [
              0.5555555555555556,
              "#1f9e89"
             ],
             [
              0.6666666666666666,
              "#35b779"
             ],
             [
              0.7777777777777778,
              "#6ece58"
             ],
             [
              0.8888888888888888,
              "#b5de2b"
             ],
             [
              1,
              "#fde725"
             ]
            ],
            "type": "heatmapgl"
           }
          ],
          "histogram": [
           {
            "marker": {
             "line": {
              "color": "white",
              "width": 0.6
             }
            },
            "type": "histogram"
           }
          ],
          "histogram2d": [
           {
            "colorbar": {
             "outlinewidth": 1,
             "tickcolor": "rgb(36,36,36)",
             "ticks": "outside"
            },
            "colorscale": [
             [
              0,
              "#440154"
             ],
             [
              0.1111111111111111,
              "#482878"
             ],
             [
              0.2222222222222222,
              "#3e4989"
             ],
             [
              0.3333333333333333,
              "#31688e"
             ],
             [
              0.4444444444444444,
              "#26828e"
             ],
             [
              0.5555555555555556,
              "#1f9e89"
             ],
             [
              0.6666666666666666,
              "#35b779"
             ],
             [
              0.7777777777777778,
              "#6ece58"
             ],
             [
              0.8888888888888888,
              "#b5de2b"
             ],
             [
              1,
              "#fde725"
             ]
            ],
            "type": "histogram2d"
           }
          ],
          "histogram2dcontour": [
           {
            "colorbar": {
             "outlinewidth": 1,
             "tickcolor": "rgb(36,36,36)",
             "ticks": "outside"
            },
            "colorscale": [
             [
              0,
              "#440154"
             ],
             [
              0.1111111111111111,
              "#482878"
             ],
             [
              0.2222222222222222,
              "#3e4989"
             ],
             [
              0.3333333333333333,
              "#31688e"
             ],
             [
              0.4444444444444444,
              "#26828e"
             ],
             [
              0.5555555555555556,
              "#1f9e89"
             ],
             [
              0.6666666666666666,
              "#35b779"
             ],
             [
              0.7777777777777778,
              "#6ece58"
             ],
             [
              0.8888888888888888,
              "#b5de2b"
             ],
             [
              1,
              "#fde725"
             ]
            ],
            "type": "histogram2dcontour"
           }
          ],
          "mesh3d": [
           {
            "colorbar": {
             "outlinewidth": 1,
             "tickcolor": "rgb(36,36,36)",
             "ticks": "outside"
            },
            "type": "mesh3d"
           }
          ],
          "parcoords": [
           {
            "line": {
             "colorbar": {
              "outlinewidth": 1,
              "tickcolor": "rgb(36,36,36)",
              "ticks": "outside"
             }
            },
            "type": "parcoords"
           }
          ],
          "pie": [
           {
            "automargin": true,
            "type": "pie"
           }
          ],
          "scatter": [
           {
            "fillpattern": {
             "fillmode": "overlay",
             "size": 10,
             "solidity": 0.2
            },
            "type": "scatter"
           }
          ],
          "scatter3d": [
           {
            "line": {
             "colorbar": {
              "outlinewidth": 1,
              "tickcolor": "rgb(36,36,36)",
              "ticks": "outside"
             }
            },
            "marker": {
             "colorbar": {
              "outlinewidth": 1,
              "tickcolor": "rgb(36,36,36)",
              "ticks": "outside"
             }
            },
            "type": "scatter3d"
           }
          ],
          "scattercarpet": [
           {
            "marker": {
             "colorbar": {
              "outlinewidth": 1,
              "tickcolor": "rgb(36,36,36)",
              "ticks": "outside"
             }
            },
            "type": "scattercarpet"
           }
          ],
          "scattergeo": [
           {
            "marker": {
             "colorbar": {
              "outlinewidth": 1,
              "tickcolor": "rgb(36,36,36)",
              "ticks": "outside"
             }
            },
            "type": "scattergeo"
           }
          ],
          "scattergl": [
           {
            "marker": {
             "colorbar": {
              "outlinewidth": 1,
              "tickcolor": "rgb(36,36,36)",
              "ticks": "outside"
             }
            },
            "type": "scattergl"
           }
          ],
          "scattermapbox": [
           {
            "marker": {
             "colorbar": {
              "outlinewidth": 1,
              "tickcolor": "rgb(36,36,36)",
              "ticks": "outside"
             }
            },
            "type": "scattermapbox"
           }
          ],
          "scatterpolar": [
           {
            "marker": {
             "colorbar": {
              "outlinewidth": 1,
              "tickcolor": "rgb(36,36,36)",
              "ticks": "outside"
             }
            },
            "type": "scatterpolar"
           }
          ],
          "scatterpolargl": [
           {
            "marker": {
             "colorbar": {
              "outlinewidth": 1,
              "tickcolor": "rgb(36,36,36)",
              "ticks": "outside"
             }
            },
            "type": "scatterpolargl"
           }
          ],
          "scatterternary": [
           {
            "marker": {
             "colorbar": {
              "outlinewidth": 1,
              "tickcolor": "rgb(36,36,36)",
              "ticks": "outside"
             }
            },
            "type": "scatterternary"
           }
          ],
          "surface": [
           {
            "colorbar": {
             "outlinewidth": 1,
             "tickcolor": "rgb(36,36,36)",
             "ticks": "outside"
            },
            "colorscale": [
             [
              0,
              "#440154"
             ],
             [
              0.1111111111111111,
              "#482878"
             ],
             [
              0.2222222222222222,
              "#3e4989"
             ],
             [
              0.3333333333333333,
              "#31688e"
             ],
             [
              0.4444444444444444,
              "#26828e"
             ],
             [
              0.5555555555555556,
              "#1f9e89"
             ],
             [
              0.6666666666666666,
              "#35b779"
             ],
             [
              0.7777777777777778,
              "#6ece58"
             ],
             [
              0.8888888888888888,
              "#b5de2b"
             ],
             [
              1,
              "#fde725"
             ]
            ],
            "type": "surface"
           }
          ],
          "table": [
           {
            "cells": {
             "fill": {
              "color": "rgb(237,237,237)"
             },
             "line": {
              "color": "white"
             }
            },
            "header": {
             "fill": {
              "color": "rgb(217,217,217)"
             },
             "line": {
              "color": "white"
             }
            },
            "type": "table"
           }
          ]
         },
         "layout": {
          "annotationdefaults": {
           "arrowhead": 0,
           "arrowwidth": 1
          },
          "autotypenumbers": "strict",
          "coloraxis": {
           "colorbar": {
            "outlinewidth": 1,
            "tickcolor": "rgb(36,36,36)",
            "ticks": "outside"
           }
          },
          "colorscale": {
           "diverging": [
            [
             0,
             "rgb(103,0,31)"
            ],
            [
             0.1,
             "rgb(178,24,43)"
            ],
            [
             0.2,
             "rgb(214,96,77)"
            ],
            [
             0.3,
             "rgb(244,165,130)"
            ],
            [
             0.4,
             "rgb(253,219,199)"
            ],
            [
             0.5,
             "rgb(247,247,247)"
            ],
            [
             0.6,
             "rgb(209,229,240)"
            ],
            [
             0.7,
             "rgb(146,197,222)"
            ],
            [
             0.8,
             "rgb(67,147,195)"
            ],
            [
             0.9,
             "rgb(33,102,172)"
            ],
            [
             1,
             "rgb(5,48,97)"
            ]
           ],
           "sequential": [
            [
             0,
             "#440154"
            ],
            [
             0.1111111111111111,
             "#482878"
            ],
            [
             0.2222222222222222,
             "#3e4989"
            ],
            [
             0.3333333333333333,
             "#31688e"
            ],
            [
             0.4444444444444444,
             "#26828e"
            ],
            [
             0.5555555555555556,
             "#1f9e89"
            ],
            [
             0.6666666666666666,
             "#35b779"
            ],
            [
             0.7777777777777778,
             "#6ece58"
            ],
            [
             0.8888888888888888,
             "#b5de2b"
            ],
            [
             1,
             "#fde725"
            ]
           ],
           "sequentialminus": [
            [
             0,
             "#440154"
            ],
            [
             0.1111111111111111,
             "#482878"
            ],
            [
             0.2222222222222222,
             "#3e4989"
            ],
            [
             0.3333333333333333,
             "#31688e"
            ],
            [
             0.4444444444444444,
             "#26828e"
            ],
            [
             0.5555555555555556,
             "#1f9e89"
            ],
            [
             0.6666666666666666,
             "#35b779"
            ],
            [
             0.7777777777777778,
             "#6ece58"
            ],
            [
             0.8888888888888888,
             "#b5de2b"
            ],
            [
             1,
             "#fde725"
            ]
           ]
          },
          "colorway": [
           "#1F77B4",
           "#FF7F0E",
           "#2CA02C",
           "#D62728",
           "#9467BD",
           "#8C564B",
           "#E377C2",
           "#7F7F7F",
           "#BCBD22",
           "#17BECF"
          ],
          "font": {
           "color": "rgb(36,36,36)"
          },
          "geo": {
           "bgcolor": "white",
           "lakecolor": "white",
           "landcolor": "white",
           "showlakes": true,
           "showland": true,
           "subunitcolor": "white"
          },
          "hoverlabel": {
           "align": "left"
          },
          "hovermode": "closest",
          "mapbox": {
           "style": "light"
          },
          "paper_bgcolor": "white",
          "plot_bgcolor": "white",
          "polar": {
           "angularaxis": {
            "gridcolor": "rgb(232,232,232)",
            "linecolor": "rgb(36,36,36)",
            "showgrid": false,
            "showline": true,
            "ticks": "outside"
           },
           "bgcolor": "white",
           "radialaxis": {
            "gridcolor": "rgb(232,232,232)",
            "linecolor": "rgb(36,36,36)",
            "showgrid": false,
            "showline": true,
            "ticks": "outside"
           }
          },
          "scene": {
           "xaxis": {
            "backgroundcolor": "white",
            "gridcolor": "rgb(232,232,232)",
            "gridwidth": 2,
            "linecolor": "rgb(36,36,36)",
            "showbackground": true,
            "showgrid": false,
            "showline": true,
            "ticks": "outside",
            "zeroline": false,
            "zerolinecolor": "rgb(36,36,36)"
           },
           "yaxis": {
            "backgroundcolor": "white",
            "gridcolor": "rgb(232,232,232)",
            "gridwidth": 2,
            "linecolor": "rgb(36,36,36)",
            "showbackground": true,
            "showgrid": false,
            "showline": true,
            "ticks": "outside",
            "zeroline": false,
            "zerolinecolor": "rgb(36,36,36)"
           },
           "zaxis": {
            "backgroundcolor": "white",
            "gridcolor": "rgb(232,232,232)",
            "gridwidth": 2,
            "linecolor": "rgb(36,36,36)",
            "showbackground": true,
            "showgrid": false,
            "showline": true,
            "ticks": "outside",
            "zeroline": false,
            "zerolinecolor": "rgb(36,36,36)"
           }
          },
          "shapedefaults": {
           "fillcolor": "black",
           "line": {
            "width": 0
           },
           "opacity": 0.3
          },
          "ternary": {
           "aaxis": {
            "gridcolor": "rgb(232,232,232)",
            "linecolor": "rgb(36,36,36)",
            "showgrid": false,
            "showline": true,
            "ticks": "outside"
           },
           "baxis": {
            "gridcolor": "rgb(232,232,232)",
            "linecolor": "rgb(36,36,36)",
            "showgrid": false,
            "showline": true,
            "ticks": "outside"
           },
           "bgcolor": "white",
           "caxis": {
            "gridcolor": "rgb(232,232,232)",
            "linecolor": "rgb(36,36,36)",
            "showgrid": false,
            "showline": true,
            "ticks": "outside"
           }
          },
          "title": {
           "x": 0.05
          },
          "xaxis": {
           "automargin": true,
           "gridcolor": "rgb(232,232,232)",
           "linecolor": "rgb(36,36,36)",
           "showgrid": false,
           "showline": true,
           "ticks": "outside",
           "title": {
            "standoff": 15
           },
           "zeroline": false,
           "zerolinecolor": "rgb(36,36,36)"
          },
          "yaxis": {
           "automargin": true,
           "gridcolor": "rgb(232,232,232)",
           "linecolor": "rgb(36,36,36)",
           "showgrid": false,
           "showline": true,
           "ticks": "outside",
           "title": {
            "standoff": 15
           },
           "zeroline": false,
           "zerolinecolor": "rgb(36,36,36)"
          }
         }
        },
        "title": {
         "font": {
          "color": "Black",
          "size": 22
         },
         "text": "<b>timelinevol_orig",
         "x": 0.4,
         "xanchor": "center",
         "y": 0.95,
         "yanchor": "top"
        },
        "width": 1250,
        "xaxis": {
         "autorange": true,
         "range": [
          -1,
          6
         ],
         "rangeslider": {
          "autorange": true,
          "range": [
           -1,
           6
          ],
          "visible": true,
          "yaxis": {
           "_template": null,
           "rangemode": "match"
          }
         },
         "showgrid": true
        },
        "yaxis": {
         "autorange": true,
         "range": [
          -1,
          4
         ],
         "showgrid": true,
         "title": {
          "text": "Frequency"
         }
        }
       }
      },
      "image/png": "[encoded data removed]"
     },
     "metadata": {},
     "output_type": "display_data"
    }
   ],
   "source": [
    "plot_timeseries(df.query(f\"iso3=='KEN'\"), colname='timelinevol_orig', smooth_x=None, )"
   ]
  },
  {
   "cell_type": "code",
   "execution_count": 53,
   "id": "6ae1ed4b-714e-4c96-b293-20ed9930875f",
   "metadata": {
    "tags": []
   },
   "outputs": [
    {
     "name": "stdout",
     "output_type": "stream",
     "text": [
      "Author: ewheeler@unicef.org\n",
      "\n",
      "Last updated: 2023-11-05T19:45:19.877648+03:00\n",
      "\n",
      "Python implementation: CPython\n",
      "Python version       : 3.10.9\n",
      "IPython version      : 8.12.0\n",
      "\n",
      "Compiler    : Clang 14.0.6 \n",
      "OS          : Darwin\n",
      "Release     : 21.4.0\n",
      "Machine     : arm64\n",
      "Processor   : arm\n",
      "CPU cores   : 10\n",
      "Architecture: 64bit\n",
      "\n",
      "numpy     : 1.24.1\n",
      "seaborn   : 0.12.2\n",
      "joblib    : 1.3.2\n",
      "pandas    : 2.1.1\n",
      "matplotlib: 3.6.3\n",
      "plotly    : 5.14.1\n",
      "\n"
     ]
    }
   ],
   "source": [
    "# NOTE some dependencies may be missing\n",
    "# https://github.com/rasbt/watermark/issues/74\n",
    "%load_ext watermark\n",
    "%watermark -u -i -m -v -iv --author ewheeler@unicef.org"
   ]
  },
  {
   "cell_type": "code",
   "execution_count": null,
   "id": "f89c4571-7620-45af-afa8-e3de97aff216",
   "metadata": {},
   "outputs": [],
   "source": []
  }
 ],
 "metadata": {
  "kernelspec": {
   "display_name": "Python [conda env:magasin] *",
   "language": "python",
   "name": "conda-env-magasin-py"
  },
  "language_info": {
   "codemirror_mode": {
    "name": "ipython",
    "version": 3
   },
   "file_extension": ".py",
   "mimetype": "text/x-python",
   "name": "python",
   "nbconvert_exporter": "python",
   "pygments_lexer": "ipython3",
   "version": "3.10.9"
  }
 },
 "nbformat": 4,
 "nbformat_minor": 5
}
