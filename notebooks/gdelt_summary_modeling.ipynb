{
 "cells": [
  {
   "cell_type": "code",
   "execution_count": 1,
   "id": "6d51ceb6-49a1-46d4-90d9-0e3e04c51186",
   "metadata": {
    "tags": []
   },
   "outputs": [],
   "source": [
    "import json\n",
    "import itertools\n",
    "\n",
    "import joblib\n",
    "import numpy as np\n",
    "import pandas as pd\n",
    "from upath import UPath as Path\n",
    "\n",
    "from sklearn.preprocessing import StandardScaler\n",
    "from sklearn.preprocessing import MinMaxScaler\n",
    "from sklearn.ensemble import RandomForestRegressor\n",
    "from sklearn.ensemble import AdaBoostRegressor\n",
    "from sklearn.ensemble import HistGradientBoostingRegressor\n",
    "from sklearn.model_selection import KFold\n",
    "from sklearn.model_selection import GridSearchCV\n",
    "from sklearn.metrics import r2_score\n",
    "from sklearn.metrics import mean_squared_error\n",
    "from sklearn.metrics import explained_variance_score\n",
    "\n",
    "from skops.io import dump\n",
    "from skops.io import load\n",
    "import skops.io as sio\n",
    "\n",
    "import seaborn as sns\n",
    "import matplotlib.pyplot as plt\n",
    "import plotly.colors as colors\n",
    "import plotly.express as px\n",
    "from plotly.subplots import make_subplots"
   ]
  },
  {
   "cell_type": "code",
   "execution_count": 2,
   "id": "ba0d0dfe-c7a6-4d5f-9c24-26e5f7e12680",
   "metadata": {
    "tags": []
   },
   "outputs": [],
   "source": [
    "import warnings\n",
    "warnings.filterwarnings('ignore')"
   ]
  },
  {
   "cell_type": "markdown",
   "id": "37d59ded-8803-461f-9795-eee068a2eb1a",
   "metadata": {},
   "source": [
    "## Setup"
   ]
  },
  {
   "cell_type": "code",
   "execution_count": 3,
   "id": "e21ebd27-86e2-484c-aee3-178d524cb5c8",
   "metadata": {
    "tags": []
   },
   "outputs": [
    {
     "name": "stdout",
     "output_type": "stream",
     "text": [
      "Number of physical cores: 10\n"
     ]
    }
   ],
   "source": [
    "N_CORES = joblib.cpu_count(only_physical_cores=True)\n",
    "print(f\"Number of physical cores: {N_CORES}\")"
   ]
  },
  {
   "cell_type": "code",
   "execution_count": 4,
   "id": "56de20b8-2baa-4a56-8511-1dd8f0e698bf",
   "metadata": {
    "tags": []
   },
   "outputs": [],
   "source": [
    "files_dir = Path(\"/Users/ewheeler/dev/UNDatathon/data/gdelt_files/\")"
   ]
  },
  {
   "cell_type": "code",
   "execution_count": 5,
   "id": "f9256b9d-6b23-46fa-9162-65a9293f6e29",
   "metadata": {
    "tags": []
   },
   "outputs": [],
   "source": [
    "def one_hot(df, cols):\n",
    "    \"\"\" One-hot encode given `cols` and add as new columns\n",
    "        to `df`\n",
    "        \n",
    "        Returns tuple of `df` with new columns and list of\n",
    "        new column names.\n",
    "    \"\"\"\n",
    "    new_cols = list()\n",
    "    new_col_names = list()\n",
    "    for each in cols:\n",
    "        dummies = pd.get_dummies(df[each], prefix=each)\n",
    "        new_cols.append(dummies)\n",
    "        new_col_names.append(dummies.columns.values)\n",
    "\n",
    "    df = pd.concat([df]+new_cols, axis=1)\n",
    "    new_col_names = list(itertools.chain.from_iterable(new_col_names))\n",
    "    return df, new_col_names"
   ]
  },
  {
   "cell_type": "code",
   "execution_count": 6,
   "id": "2e139c9e-4947-4efd-87c3-800fe29d6801",
   "metadata": {},
   "outputs": [],
   "source": [
    "#target_countries_iso = ['BDI', 'ZWE', 'MUS', 'COM', 'SOM', 'MOZ', 'SSD', 'MDG', 'SYC',\n",
    "#                        'ZMB', 'DJI', 'KEN', 'TZA', 'ETH', 'UGA', 'UKR', 'RWA', 'MWI',\n",
    "#                        'EGY', 'RUS', 'REU']"
   ]
  },
  {
   "cell_type": "code",
   "execution_count": 7,
   "id": "0f840c49-2a62-4b16-b2b1-d9afe6bb1ebe",
   "metadata": {
    "tags": []
   },
   "outputs": [],
   "source": [
    "target_countries_iso = ['UKR', 'DJI', 'EGY', 'KEN', 'MOZ', 'SDN', 'TZA', 'RUS']"
   ]
  },
  {
   "cell_type": "code",
   "execution_count": 8,
   "id": "f25e21d0-5eda-4e8f-b7f5-4b7292ff4d2f",
   "metadata": {},
   "outputs": [],
   "source": [
    "country_iso = 'SDN'"
   ]
  },
  {
   "cell_type": "markdown",
   "id": "9bbcb464-fef0-4973-97e5-769a2b6b7bbf",
   "metadata": {},
   "source": [
    "## Data preparation"
   ]
  },
  {
   "cell_type": "code",
   "execution_count": 9,
   "id": "28b06f6a-1aa8-4625-8dd9-02bd898cfaf1",
   "metadata": {
    "tags": []
   },
   "outputs": [
    {
     "data": {
      "text/html": [
       "<div>\n",
       "<style scoped>\n",
       "    .dataframe tbody tr th:only-of-type {\n",
       "        vertical-align: middle;\n",
       "    }\n",
       "\n",
       "    .dataframe tbody tr th {\n",
       "        vertical-align: top;\n",
       "    }\n",
       "\n",
       "    .dataframe thead th {\n",
       "        text-align: right;\n",
       "    }\n",
       "</style>\n",
       "<table border=\"1\" class=\"dataframe\">\n",
       "  <thead>\n",
       "    <tr style=\"text-align: right;\">\n",
       "      <th></th>\n",
       "      <th>iso3</th>\n",
       "      <th>Date</th>\n",
       "      <th>timelinetone_orig</th>\n",
       "      <th>timelinetone</th>\n",
       "      <th>timelinevol_orig</th>\n",
       "      <th>timelinevol</th>\n",
       "      <th>fpi</th>\n",
       "      <th>fpi_orig</th>\n",
       "    </tr>\n",
       "    <tr>\n",
       "      <th>key</th>\n",
       "      <th></th>\n",
       "      <th></th>\n",
       "      <th></th>\n",
       "      <th></th>\n",
       "      <th></th>\n",
       "      <th></th>\n",
       "      <th></th>\n",
       "      <th></th>\n",
       "    </tr>\n",
       "  </thead>\n",
       "  <tbody>\n",
       "    <tr>\n",
       "      <th>2019-01-01_SDN</th>\n",
       "      <td>SDN</td>\n",
       "      <td>2019-01-01</td>\n",
       "      <td>-39.0412</td>\n",
       "      <td>12.299257</td>\n",
       "      <td>0.0184</td>\n",
       "      <td>-15.803090</td>\n",
       "      <td>-0.750266</td>\n",
       "      <td>61.360641</td>\n",
       "    </tr>\n",
       "    <tr>\n",
       "      <th>2019-02-01_SDN</th>\n",
       "      <td>SDN</td>\n",
       "      <td>2019-02-01</td>\n",
       "      <td>-79.5541</td>\n",
       "      <td>-7.614472</td>\n",
       "      <td>0.0141</td>\n",
       "      <td>-16.280752</td>\n",
       "      <td>-0.740594</td>\n",
       "      <td>62.041995</td>\n",
       "    </tr>\n",
       "    <tr>\n",
       "      <th>2019-03-01_SDN</th>\n",
       "      <td>SDN</td>\n",
       "      <td>2019-03-01</td>\n",
       "      <td>-53.5858</td>\n",
       "      <td>6.150716</td>\n",
       "      <td>0.0143</td>\n",
       "      <td>-19.069272</td>\n",
       "      <td>-0.746508</td>\n",
       "      <td>61.625377</td>\n",
       "    </tr>\n",
       "    <tr>\n",
       "      <th>2019-04-01_SDN</th>\n",
       "      <td>SDN</td>\n",
       "      <td>2019-04-01</td>\n",
       "      <td>-70.7977</td>\n",
       "      <td>-2.054533</td>\n",
       "      <td>0.0112</td>\n",
       "      <td>-20.556208</td>\n",
       "      <td>-0.737791</td>\n",
       "      <td>62.239464</td>\n",
       "    </tr>\n",
       "    <tr>\n",
       "      <th>2019-05-01_SDN</th>\n",
       "      <td>SDN</td>\n",
       "      <td>2019-05-01</td>\n",
       "      <td>-46.8292</td>\n",
       "      <td>9.006981</td>\n",
       "      <td>0.0127</td>\n",
       "      <td>-20.343879</td>\n",
       "      <td>-0.798728</td>\n",
       "      <td>57.946533</td>\n",
       "    </tr>\n",
       "    <tr>\n",
       "      <th>2019-06-01_SDN</th>\n",
       "      <td>SDN</td>\n",
       "      <td>2019-06-01</td>\n",
       "      <td>-60.8712</td>\n",
       "      <td>2.141766</td>\n",
       "      <td>0.0100</td>\n",
       "      <td>-21.512164</td>\n",
       "      <td>-0.764072</td>\n",
       "      <td>60.388029</td>\n",
       "    </tr>\n",
       "    <tr>\n",
       "      <th>2019-07-01_SDN</th>\n",
       "      <td>SDN</td>\n",
       "      <td>2019-07-01</td>\n",
       "      <td>-18.0825</td>\n",
       "      <td>21.159275</td>\n",
       "      <td>0.0137</td>\n",
       "      <td>-19.547250</td>\n",
       "      <td>-0.718590</td>\n",
       "      <td>63.592111</td>\n",
       "    </tr>\n",
       "    <tr>\n",
       "      <th>2019-08-01_SDN</th>\n",
       "      <td>SDN</td>\n",
       "      <td>2019-08-01</td>\n",
       "      <td>-65.3376</td>\n",
       "      <td>1.182796</td>\n",
       "      <td>0.0124</td>\n",
       "      <td>-20.582868</td>\n",
       "      <td>-0.742270</td>\n",
       "      <td>61.923927</td>\n",
       "    </tr>\n",
       "    <tr>\n",
       "      <th>2019-09-01_SDN</th>\n",
       "      <td>SDN</td>\n",
       "      <td>2019-09-01</td>\n",
       "      <td>-38.1210</td>\n",
       "      <td>11.759117</td>\n",
       "      <td>0.0093</td>\n",
       "      <td>-22.069805</td>\n",
       "      <td>-0.756079</td>\n",
       "      <td>60.951124</td>\n",
       "    </tr>\n",
       "    <tr>\n",
       "      <th>2019-10-01_SDN</th>\n",
       "      <td>SDN</td>\n",
       "      <td>2019-10-01</td>\n",
       "      <td>-47.6363</td>\n",
       "      <td>8.665790</td>\n",
       "      <td>0.0269</td>\n",
       "      <td>-9.031738</td>\n",
       "      <td>-0.673862</td>\n",
       "      <td>66.743133</td>\n",
       "    </tr>\n",
       "    <tr>\n",
       "      <th>2019-11-01_SDN</th>\n",
       "      <td>SDN</td>\n",
       "      <td>2019-11-01</td>\n",
       "      <td>-47.2372</td>\n",
       "      <td>7.905362</td>\n",
       "      <td>0.0167</td>\n",
       "      <td>-16.174745</td>\n",
       "      <td>-0.626319</td>\n",
       "      <td>70.092538</td>\n",
       "    </tr>\n",
       "    <tr>\n",
       "      <th>2019-12-01_SDN</th>\n",
       "      <td>SDN</td>\n",
       "      <td>2019-12-01</td>\n",
       "      <td>-64.9031</td>\n",
       "      <td>1.366475</td>\n",
       "      <td>0.0207</td>\n",
       "      <td>-13.970842</td>\n",
       "      <td>-0.723026</td>\n",
       "      <td>63.279645</td>\n",
       "    </tr>\n",
       "    <tr>\n",
       "      <th>2020-01-01_SDN</th>\n",
       "      <td>SDN</td>\n",
       "      <td>2020-01-01</td>\n",
       "      <td>-68.8033</td>\n",
       "      <td>-0.282284</td>\n",
       "      <td>0.0184</td>\n",
       "      <td>-15.803090</td>\n",
       "      <td>-0.659772</td>\n",
       "      <td>67.735805</td>\n",
       "    </tr>\n",
       "    <tr>\n",
       "      <th>2020-02-01_SDN</th>\n",
       "      <td>SDN</td>\n",
       "      <td>2020-02-01</td>\n",
       "      <td>-54.5541</td>\n",
       "      <td>3.883095</td>\n",
       "      <td>0.0099</td>\n",
       "      <td>-20.609212</td>\n",
       "      <td>-0.540648</td>\n",
       "      <td>76.127906</td>\n",
       "    </tr>\n",
       "    <tr>\n",
       "      <th>2020-03-01_SDN</th>\n",
       "      <td>SDN</td>\n",
       "      <td>2020-03-01</td>\n",
       "      <td>-58.8048</td>\n",
       "      <td>3.944452</td>\n",
       "      <td>0.0136</td>\n",
       "      <td>-19.626913</td>\n",
       "      <td>-0.232189</td>\n",
       "      <td>97.858419</td>\n",
       "    </tr>\n",
       "    <tr>\n",
       "      <th>2020-04-01_SDN</th>\n",
       "      <td>SDN</td>\n",
       "      <td>2020-04-01</td>\n",
       "      <td>-65.8509</td>\n",
       "      <td>0.036662</td>\n",
       "      <td>0.0202</td>\n",
       "      <td>-13.386541</td>\n",
       "      <td>0.001301</td>\n",
       "      <td>114.307477</td>\n",
       "    </tr>\n",
       "    <tr>\n",
       "      <th>2020-05-01_SDN</th>\n",
       "      <td>SDN</td>\n",
       "      <td>2020-05-01</td>\n",
       "      <td>-52.2121</td>\n",
       "      <td>6.731430</td>\n",
       "      <td>0.0170</td>\n",
       "      <td>-16.918372</td>\n",
       "      <td>0.202092</td>\n",
       "      <td>128.452955</td>\n",
       "    </tr>\n",
       "    <tr>\n",
       "      <th>2020-06-01_SDN</th>\n",
       "      <td>SDN</td>\n",
       "      <td>2020-06-01</td>\n",
       "      <td>-53.5627</td>\n",
       "      <td>5.231339</td>\n",
       "      <td>0.0139</td>\n",
       "      <td>-18.405308</td>\n",
       "      <td>0.336793</td>\n",
       "      <td>137.942417</td>\n",
       "    </tr>\n",
       "    <tr>\n",
       "      <th>2020-07-01_SDN</th>\n",
       "      <td>SDN</td>\n",
       "      <td>2020-07-01</td>\n",
       "      <td>-47.9322</td>\n",
       "      <td>8.540702</td>\n",
       "      <td>0.0341</td>\n",
       "      <td>-3.296004</td>\n",
       "      <td>0.315860</td>\n",
       "      <td>136.467734</td>\n",
       "    </tr>\n",
       "    <tr>\n",
       "      <th>2020-08-01_SDN</th>\n",
       "      <td>SDN</td>\n",
       "      <td>2020-08-01</td>\n",
       "      <td>-69.1316</td>\n",
       "      <td>-0.421068</td>\n",
       "      <td>0.0085</td>\n",
       "      <td>-23.689724</td>\n",
       "      <td>0.455491</td>\n",
       "      <td>146.304550</td>\n",
       "    </tr>\n",
       "    <tr>\n",
       "      <th>2020-09-01_SDN</th>\n",
       "      <td>SDN</td>\n",
       "      <td>2020-09-01</td>\n",
       "      <td>-72.2023</td>\n",
       "      <td>-2.648309</td>\n",
       "      <td>0.0168</td>\n",
       "      <td>-16.095082</td>\n",
       "      <td>0.871390</td>\n",
       "      <td>175.604100</td>\n",
       "    </tr>\n",
       "    <tr>\n",
       "      <th>2020-10-01_SDN</th>\n",
       "      <td>SDN</td>\n",
       "      <td>2020-10-01</td>\n",
       "      <td>-61.4333</td>\n",
       "      <td>1.904145</td>\n",
       "      <td>0.0614</td>\n",
       "      <td>19.434601</td>\n",
       "      <td>1.140020</td>\n",
       "      <td>194.528691</td>\n",
       "    </tr>\n",
       "    <tr>\n",
       "      <th>2020-11-01_SDN</th>\n",
       "      <td>SDN</td>\n",
       "      <td>2020-11-01</td>\n",
       "      <td>-63.6778</td>\n",
       "      <td>0.955312</td>\n",
       "      <td>0.0529</td>\n",
       "      <td>12.663249</td>\n",
       "      <td>1.262160</td>\n",
       "      <td>203.133319</td>\n",
       "    </tr>\n",
       "    <tr>\n",
       "      <th>2020-12-01_SDN</th>\n",
       "      <td>SDN</td>\n",
       "      <td>2020-12-01</td>\n",
       "      <td>-78.4256</td>\n",
       "      <td>-4.349986</td>\n",
       "      <td>0.0385</td>\n",
       "      <td>0.209166</td>\n",
       "      <td>1.309468</td>\n",
       "      <td>206.466100</td>\n",
       "    </tr>\n",
       "    <tr>\n",
       "      <th>2021-01-01_SDN</th>\n",
       "      <td>SDN</td>\n",
       "      <td>2021-01-01</td>\n",
       "      <td>-71.6598</td>\n",
       "      <td>-1.489832</td>\n",
       "      <td>0.0416</td>\n",
       "      <td>2.678718</td>\n",
       "      <td>1.902788</td>\n",
       "      <td>248.264690</td>\n",
       "    </tr>\n",
       "    <tr>\n",
       "      <th>2021-02-01_SDN</th>\n",
       "      <td>SDN</td>\n",
       "      <td>2021-02-01</td>\n",
       "      <td>-69.4857</td>\n",
       "      <td>-3.358187</td>\n",
       "      <td>0.0419</td>\n",
       "      <td>5.865553</td>\n",
       "      <td>2.097635</td>\n",
       "      <td>261.991344</td>\n",
       "    </tr>\n",
       "    <tr>\n",
       "      <th>2021-03-01_SDN</th>\n",
       "      <td>SDN</td>\n",
       "      <td>2021-03-01</td>\n",
       "      <td>-51.1475</td>\n",
       "      <td>7.181476</td>\n",
       "      <td>0.0343</td>\n",
       "      <td>-3.136678</td>\n",
       "      <td>1.733626</td>\n",
       "      <td>236.347456</td>\n",
       "    </tr>\n",
       "    <tr>\n",
       "      <th>2021-04-01_SDN</th>\n",
       "      <td>SDN</td>\n",
       "      <td>2021-04-01</td>\n",
       "      <td>-37.0473</td>\n",
       "      <td>12.213010</td>\n",
       "      <td>0.0470</td>\n",
       "      <td>7.963134</td>\n",
       "      <td>1.763376</td>\n",
       "      <td>238.443254</td>\n",
       "    </tr>\n",
       "    <tr>\n",
       "      <th>2021-05-01_SDN</th>\n",
       "      <td>SDN</td>\n",
       "      <td>2021-05-01</td>\n",
       "      <td>-48.2203</td>\n",
       "      <td>8.418912</td>\n",
       "      <td>0.0380</td>\n",
       "      <td>-0.189149</td>\n",
       "      <td>1.811427</td>\n",
       "      <td>241.828407</td>\n",
       "    </tr>\n",
       "    <tr>\n",
       "      <th>2021-06-01_SDN</th>\n",
       "      <td>SDN</td>\n",
       "      <td>2021-06-01</td>\n",
       "      <td>-53.9886</td>\n",
       "      <td>5.051296</td>\n",
       "      <td>0.0676</td>\n",
       "      <td>24.373705</td>\n",
       "      <td>1.898614</td>\n",
       "      <td>247.970608</td>\n",
       "    </tr>\n",
       "    <tr>\n",
       "      <th>2021-07-01_SDN</th>\n",
       "      <td>SDN</td>\n",
       "      <td>2021-07-01</td>\n",
       "      <td>-46.0822</td>\n",
       "      <td>9.322766</td>\n",
       "      <td>0.0715</td>\n",
       "      <td>26.497945</td>\n",
       "      <td>2.248015</td>\n",
       "      <td>272.585479</td>\n",
       "    </tr>\n",
       "    <tr>\n",
       "      <th>2021-08-01_SDN</th>\n",
       "      <td>SDN</td>\n",
       "      <td>2021-08-01</td>\n",
       "      <td>-65.8163</td>\n",
       "      <td>0.980432</td>\n",
       "      <td>0.0866</td>\n",
       "      <td>38.527053</td>\n",
       "      <td>2.080130</td>\n",
       "      <td>260.758167</td>\n",
       "    </tr>\n",
       "    <tr>\n",
       "      <th>2021-09-01_SDN</th>\n",
       "      <td>SDN</td>\n",
       "      <td>2021-09-01</td>\n",
       "      <td>-59.8563</td>\n",
       "      <td>2.570802</td>\n",
       "      <td>0.0579</td>\n",
       "      <td>16.646397</td>\n",
       "      <td>1.599905</td>\n",
       "      <td>226.926977</td>\n",
       "    </tr>\n",
       "    <tr>\n",
       "      <th>2021-10-01_SDN</th>\n",
       "      <td>SDN</td>\n",
       "      <td>2021-10-01</td>\n",
       "      <td>-44.0401</td>\n",
       "      <td>10.186037</td>\n",
       "      <td>0.0513</td>\n",
       "      <td>10.406026</td>\n",
       "      <td>1.339001</td>\n",
       "      <td>208.546644</td>\n",
       "    </tr>\n",
       "    <tr>\n",
       "      <th>2021-11-01_SDN</th>\n",
       "      <td>SDN</td>\n",
       "      <td>2021-11-01</td>\n",
       "      <td>-56.1524</td>\n",
       "      <td>4.136577</td>\n",
       "      <td>0.0363</td>\n",
       "      <td>-0.560804</td>\n",
       "      <td>1.159378</td>\n",
       "      <td>195.892440</td>\n",
       "    </tr>\n",
       "    <tr>\n",
       "      <th>2021-12-01_SDN</th>\n",
       "      <td>SDN</td>\n",
       "      <td>2021-12-01</td>\n",
       "      <td>-55.5048</td>\n",
       "      <td>5.339484</td>\n",
       "      <td>0.0561</td>\n",
       "      <td>14.229848</td>\n",
       "      <td>1.098423</td>\n",
       "      <td>191.598236</td>\n",
       "    </tr>\n",
       "    <tr>\n",
       "      <th>2022-01-01_SDN</th>\n",
       "      <td>SDN</td>\n",
       "      <td>2022-01-01</td>\n",
       "      <td>-73.2344</td>\n",
       "      <td>-2.155474</td>\n",
       "      <td>0.0559</td>\n",
       "      <td>14.070522</td>\n",
       "      <td>0.577047</td>\n",
       "      <td>154.867983</td>\n",
       "    </tr>\n",
       "    <tr>\n",
       "      <th>2022-02-01_SDN</th>\n",
       "      <td>SDN</td>\n",
       "      <td>2022-02-01</td>\n",
       "      <td>-61.1509</td>\n",
       "      <td>0.165241</td>\n",
       "      <td>0.0702</td>\n",
       "      <td>28.410173</td>\n",
       "      <td>0.210300</td>\n",
       "      <td>129.031156</td>\n",
       "    </tr>\n",
       "    <tr>\n",
       "      <th>2022-03-01_SDN</th>\n",
       "      <td>SDN</td>\n",
       "      <td>2022-03-01</td>\n",
       "      <td>-72.5516</td>\n",
       "      <td>-1.866829</td>\n",
       "      <td>0.0681</td>\n",
       "      <td>23.789404</td>\n",
       "      <td>0.436610</td>\n",
       "      <td>144.974410</td>\n",
       "    </tr>\n",
       "    <tr>\n",
       "      <th>2022-04-01_SDN</th>\n",
       "      <td>SDN</td>\n",
       "      <td>2022-04-01</td>\n",
       "      <td>-78.2586</td>\n",
       "      <td>-5.208532</td>\n",
       "      <td>0.0289</td>\n",
       "      <td>-6.455863</td>\n",
       "      <td>0.225202</td>\n",
       "      <td>130.081027</td>\n",
       "    </tr>\n",
       "    <tr>\n",
       "      <th>2022-05-01_SDN</th>\n",
       "      <td>SDN</td>\n",
       "      <td>2022-05-01</td>\n",
       "      <td>-91.1155</td>\n",
       "      <td>-9.714476</td>\n",
       "      <td>0.0312</td>\n",
       "      <td>-5.606230</td>\n",
       "      <td>0.005407</td>\n",
       "      <td>114.596759</td>\n",
       "    </tr>\n",
       "    <tr>\n",
       "      <th>2022-06-01_SDN</th>\n",
       "      <td>SDN</td>\n",
       "      <td>2022-06-01</td>\n",
       "      <td>-75.4232</td>\n",
       "      <td>-4.009903</td>\n",
       "      <td>0.0283</td>\n",
       "      <td>-6.933841</td>\n",
       "      <td>-0.115131</td>\n",
       "      <td>106.105035</td>\n",
       "    </tr>\n",
       "    <tr>\n",
       "      <th>2022-07-01_SDN</th>\n",
       "      <td>SDN</td>\n",
       "      <td>2022-07-01</td>\n",
       "      <td>-59.7167</td>\n",
       "      <td>3.558958</td>\n",
       "      <td>0.0239</td>\n",
       "      <td>-11.421627</td>\n",
       "      <td>-0.433548</td>\n",
       "      <td>83.672987</td>\n",
       "    </tr>\n",
       "    <tr>\n",
       "      <th>2022-08-01_SDN</th>\n",
       "      <td>SDN</td>\n",
       "      <td>2022-08-01</td>\n",
       "      <td>-111.6022</td>\n",
       "      <td>-18.374963</td>\n",
       "      <td>0.0251</td>\n",
       "      <td>-10.465671</td>\n",
       "      <td>-0.460428</td>\n",
       "      <td>81.779276</td>\n",
       "    </tr>\n",
       "    <tr>\n",
       "      <th>2022-09-01_SDN</th>\n",
       "      <td>SDN</td>\n",
       "      <td>2022-09-01</td>\n",
       "      <td>-86.4215</td>\n",
       "      <td>-8.659291</td>\n",
       "      <td>0.0231</td>\n",
       "      <td>-11.076315</td>\n",
       "      <td>-0.505618</td>\n",
       "      <td>78.595756</td>\n",
       "    </tr>\n",
       "    <tr>\n",
       "      <th>2022-10-01_SDN</th>\n",
       "      <td>SDN</td>\n",
       "      <td>2022-10-01</td>\n",
       "      <td>-73.6470</td>\n",
       "      <td>-2.329895</td>\n",
       "      <td>0.0338</td>\n",
       "      <td>-3.534993</td>\n",
       "      <td>-0.560951</td>\n",
       "      <td>74.697580</td>\n",
       "    </tr>\n",
       "    <tr>\n",
       "      <th>2022-11-01_SDN</th>\n",
       "      <td>SDN</td>\n",
       "      <td>2022-11-01</td>\n",
       "      <td>-76.6059</td>\n",
       "      <td>-4.509874</td>\n",
       "      <td>0.0301</td>\n",
       "      <td>-5.499908</td>\n",
       "      <td>-0.638209</td>\n",
       "      <td>69.254863</td>\n",
       "    </tr>\n",
       "    <tr>\n",
       "      <th>2022-12-01_SDN</th>\n",
       "      <td>SDN</td>\n",
       "      <td>2022-12-01</td>\n",
       "      <td>-78.1242</td>\n",
       "      <td>-4.222573</td>\n",
       "      <td>0.0290</td>\n",
       "      <td>-7.358816</td>\n",
       "      <td>-0.692544</td>\n",
       "      <td>65.427056</td>\n",
       "    </tr>\n",
       "    <tr>\n",
       "      <th>2023-01-01_SDN</th>\n",
       "      <td>SDN</td>\n",
       "      <td>2023-01-01</td>\n",
       "      <td>-65.7104</td>\n",
       "      <td>1.025199</td>\n",
       "      <td>0.0300</td>\n",
       "      <td>-6.562186</td>\n",
       "      <td>-0.787660</td>\n",
       "      <td>58.726269</td>\n",
       "    </tr>\n",
       "    <tr>\n",
       "      <th>2023-02-01_SDN</th>\n",
       "      <td>SDN</td>\n",
       "      <td>2023-02-01</td>\n",
       "      <td>-45.8466</td>\n",
       "      <td>6.634935</td>\n",
       "      <td>0.0268</td>\n",
       "      <td>-6.163555</td>\n",
       "      <td>-0.856262</td>\n",
       "      <td>53.893322</td>\n",
       "    </tr>\n",
       "    <tr>\n",
       "      <th>2023-03-01_SDN</th>\n",
       "      <td>SDN</td>\n",
       "      <td>2023-03-01</td>\n",
       "      <td>-60.3808</td>\n",
       "      <td>2.349076</td>\n",
       "      <td>0.0283</td>\n",
       "      <td>-6.933841</td>\n",
       "      <td>-1.128958</td>\n",
       "      <td>34.682300</td>\n",
       "    </tr>\n",
       "    <tr>\n",
       "      <th>2023-04-01_SDN</th>\n",
       "      <td>SDN</td>\n",
       "      <td>2023-04-01</td>\n",
       "      <td>-108.7178</td>\n",
       "      <td>-18.084763</td>\n",
       "      <td>0.0536</td>\n",
       "      <td>13.220889</td>\n",
       "      <td>-1.249599</td>\n",
       "      <td>26.183284</td>\n",
       "    </tr>\n",
       "    <tr>\n",
       "      <th>2023-05-01_SDN</th>\n",
       "      <td>SDN</td>\n",
       "      <td>2023-05-01</td>\n",
       "      <td>-121.4406</td>\n",
       "      <td>-22.534018</td>\n",
       "      <td>0.0510</td>\n",
       "      <td>10.167037</td>\n",
       "      <td>-1.333742</td>\n",
       "      <td>20.255533</td>\n",
       "    </tr>\n",
       "    <tr>\n",
       "      <th>2023-06-01_SDN</th>\n",
       "      <td>SDN</td>\n",
       "      <td>2023-06-01</td>\n",
       "      <td>-103.9755</td>\n",
       "      <td>-16.080017</td>\n",
       "      <td>0.0639</td>\n",
       "      <td>21.426175</td>\n",
       "      <td>-1.448711</td>\n",
       "      <td>12.156130</td>\n",
       "    </tr>\n",
       "  </tbody>\n",
       "</table>\n",
       "</div>"
      ],
      "text/plain": [
       "               iso3       Date  timelinetone_orig  timelinetone  \\\n",
       "key                                                               \n",
       "2019-01-01_SDN  SDN 2019-01-01           -39.0412     12.299257   \n",
       "2019-02-01_SDN  SDN 2019-02-01           -79.5541     -7.614472   \n",
       "2019-03-01_SDN  SDN 2019-03-01           -53.5858      6.150716   \n",
       "2019-04-01_SDN  SDN 2019-04-01           -70.7977     -2.054533   \n",
       "2019-05-01_SDN  SDN 2019-05-01           -46.8292      9.006981   \n",
       "2019-06-01_SDN  SDN 2019-06-01           -60.8712      2.141766   \n",
       "2019-07-01_SDN  SDN 2019-07-01           -18.0825     21.159275   \n",
       "2019-08-01_SDN  SDN 2019-08-01           -65.3376      1.182796   \n",
       "2019-09-01_SDN  SDN 2019-09-01           -38.1210     11.759117   \n",
       "2019-10-01_SDN  SDN 2019-10-01           -47.6363      8.665790   \n",
       "2019-11-01_SDN  SDN 2019-11-01           -47.2372      7.905362   \n",
       "2019-12-01_SDN  SDN 2019-12-01           -64.9031      1.366475   \n",
       "2020-01-01_SDN  SDN 2020-01-01           -68.8033     -0.282284   \n",
       "2020-02-01_SDN  SDN 2020-02-01           -54.5541      3.883095   \n",
       "2020-03-01_SDN  SDN 2020-03-01           -58.8048      3.944452   \n",
       "2020-04-01_SDN  SDN 2020-04-01           -65.8509      0.036662   \n",
       "2020-05-01_SDN  SDN 2020-05-01           -52.2121      6.731430   \n",
       "2020-06-01_SDN  SDN 2020-06-01           -53.5627      5.231339   \n",
       "2020-07-01_SDN  SDN 2020-07-01           -47.9322      8.540702   \n",
       "2020-08-01_SDN  SDN 2020-08-01           -69.1316     -0.421068   \n",
       "2020-09-01_SDN  SDN 2020-09-01           -72.2023     -2.648309   \n",
       "2020-10-01_SDN  SDN 2020-10-01           -61.4333      1.904145   \n",
       "2020-11-01_SDN  SDN 2020-11-01           -63.6778      0.955312   \n",
       "2020-12-01_SDN  SDN 2020-12-01           -78.4256     -4.349986   \n",
       "2021-01-01_SDN  SDN 2021-01-01           -71.6598     -1.489832   \n",
       "2021-02-01_SDN  SDN 2021-02-01           -69.4857     -3.358187   \n",
       "2021-03-01_SDN  SDN 2021-03-01           -51.1475      7.181476   \n",
       "2021-04-01_SDN  SDN 2021-04-01           -37.0473     12.213010   \n",
       "2021-05-01_SDN  SDN 2021-05-01           -48.2203      8.418912   \n",
       "2021-06-01_SDN  SDN 2021-06-01           -53.9886      5.051296   \n",
       "2021-07-01_SDN  SDN 2021-07-01           -46.0822      9.322766   \n",
       "2021-08-01_SDN  SDN 2021-08-01           -65.8163      0.980432   \n",
       "2021-09-01_SDN  SDN 2021-09-01           -59.8563      2.570802   \n",
       "2021-10-01_SDN  SDN 2021-10-01           -44.0401     10.186037   \n",
       "2021-11-01_SDN  SDN 2021-11-01           -56.1524      4.136577   \n",
       "2021-12-01_SDN  SDN 2021-12-01           -55.5048      5.339484   \n",
       "2022-01-01_SDN  SDN 2022-01-01           -73.2344     -2.155474   \n",
       "2022-02-01_SDN  SDN 2022-02-01           -61.1509      0.165241   \n",
       "2022-03-01_SDN  SDN 2022-03-01           -72.5516     -1.866829   \n",
       "2022-04-01_SDN  SDN 2022-04-01           -78.2586     -5.208532   \n",
       "2022-05-01_SDN  SDN 2022-05-01           -91.1155     -9.714476   \n",
       "2022-06-01_SDN  SDN 2022-06-01           -75.4232     -4.009903   \n",
       "2022-07-01_SDN  SDN 2022-07-01           -59.7167      3.558958   \n",
       "2022-08-01_SDN  SDN 2022-08-01          -111.6022    -18.374963   \n",
       "2022-09-01_SDN  SDN 2022-09-01           -86.4215     -8.659291   \n",
       "2022-10-01_SDN  SDN 2022-10-01           -73.6470     -2.329895   \n",
       "2022-11-01_SDN  SDN 2022-11-01           -76.6059     -4.509874   \n",
       "2022-12-01_SDN  SDN 2022-12-01           -78.1242     -4.222573   \n",
       "2023-01-01_SDN  SDN 2023-01-01           -65.7104      1.025199   \n",
       "2023-02-01_SDN  SDN 2023-02-01           -45.8466      6.634935   \n",
       "2023-03-01_SDN  SDN 2023-03-01           -60.3808      2.349076   \n",
       "2023-04-01_SDN  SDN 2023-04-01          -108.7178    -18.084763   \n",
       "2023-05-01_SDN  SDN 2023-05-01          -121.4406    -22.534018   \n",
       "2023-06-01_SDN  SDN 2023-06-01          -103.9755    -16.080017   \n",
       "\n",
       "                timelinevol_orig  timelinevol       fpi    fpi_orig  \n",
       "key                                                                  \n",
       "2019-01-01_SDN            0.0184   -15.803090 -0.750266   61.360641  \n",
       "2019-02-01_SDN            0.0141   -16.280752 -0.740594   62.041995  \n",
       "2019-03-01_SDN            0.0143   -19.069272 -0.746508   61.625377  \n",
       "2019-04-01_SDN            0.0112   -20.556208 -0.737791   62.239464  \n",
       "2019-05-01_SDN            0.0127   -20.343879 -0.798728   57.946533  \n",
       "2019-06-01_SDN            0.0100   -21.512164 -0.764072   60.388029  \n",
       "2019-07-01_SDN            0.0137   -19.547250 -0.718590   63.592111  \n",
       "2019-08-01_SDN            0.0124   -20.582868 -0.742270   61.923927  \n",
       "2019-09-01_SDN            0.0093   -22.069805 -0.756079   60.951124  \n",
       "2019-10-01_SDN            0.0269    -9.031738 -0.673862   66.743133  \n",
       "2019-11-01_SDN            0.0167   -16.174745 -0.626319   70.092538  \n",
       "2019-12-01_SDN            0.0207   -13.970842 -0.723026   63.279645  \n",
       "2020-01-01_SDN            0.0184   -15.803090 -0.659772   67.735805  \n",
       "2020-02-01_SDN            0.0099   -20.609212 -0.540648   76.127906  \n",
       "2020-03-01_SDN            0.0136   -19.626913 -0.232189   97.858419  \n",
       "2020-04-01_SDN            0.0202   -13.386541  0.001301  114.307477  \n",
       "2020-05-01_SDN            0.0170   -16.918372  0.202092  128.452955  \n",
       "2020-06-01_SDN            0.0139   -18.405308  0.336793  137.942417  \n",
       "2020-07-01_SDN            0.0341    -3.296004  0.315860  136.467734  \n",
       "2020-08-01_SDN            0.0085   -23.689724  0.455491  146.304550  \n",
       "2020-09-01_SDN            0.0168   -16.095082  0.871390  175.604100  \n",
       "2020-10-01_SDN            0.0614    19.434601  1.140020  194.528691  \n",
       "2020-11-01_SDN            0.0529    12.663249  1.262160  203.133319  \n",
       "2020-12-01_SDN            0.0385     0.209166  1.309468  206.466100  \n",
       "2021-01-01_SDN            0.0416     2.678718  1.902788  248.264690  \n",
       "2021-02-01_SDN            0.0419     5.865553  2.097635  261.991344  \n",
       "2021-03-01_SDN            0.0343    -3.136678  1.733626  236.347456  \n",
       "2021-04-01_SDN            0.0470     7.963134  1.763376  238.443254  \n",
       "2021-05-01_SDN            0.0380    -0.189149  1.811427  241.828407  \n",
       "2021-06-01_SDN            0.0676    24.373705  1.898614  247.970608  \n",
       "2021-07-01_SDN            0.0715    26.497945  2.248015  272.585479  \n",
       "2021-08-01_SDN            0.0866    38.527053  2.080130  260.758167  \n",
       "2021-09-01_SDN            0.0579    16.646397  1.599905  226.926977  \n",
       "2021-10-01_SDN            0.0513    10.406026  1.339001  208.546644  \n",
       "2021-11-01_SDN            0.0363    -0.560804  1.159378  195.892440  \n",
       "2021-12-01_SDN            0.0561    14.229848  1.098423  191.598236  \n",
       "2022-01-01_SDN            0.0559    14.070522  0.577047  154.867983  \n",
       "2022-02-01_SDN            0.0702    28.410173  0.210300  129.031156  \n",
       "2022-03-01_SDN            0.0681    23.789404  0.436610  144.974410  \n",
       "2022-04-01_SDN            0.0289    -6.455863  0.225202  130.081027  \n",
       "2022-05-01_SDN            0.0312    -5.606230  0.005407  114.596759  \n",
       "2022-06-01_SDN            0.0283    -6.933841 -0.115131  106.105035  \n",
       "2022-07-01_SDN            0.0239   -11.421627 -0.433548   83.672987  \n",
       "2022-08-01_SDN            0.0251   -10.465671 -0.460428   81.779276  \n",
       "2022-09-01_SDN            0.0231   -11.076315 -0.505618   78.595756  \n",
       "2022-10-01_SDN            0.0338    -3.534993 -0.560951   74.697580  \n",
       "2022-11-01_SDN            0.0301    -5.499908 -0.638209   69.254863  \n",
       "2022-12-01_SDN            0.0290    -7.358816 -0.692544   65.427056  \n",
       "2023-01-01_SDN            0.0300    -6.562186 -0.787660   58.726269  \n",
       "2023-02-01_SDN            0.0268    -6.163555 -0.856262   53.893322  \n",
       "2023-03-01_SDN            0.0283    -6.933841 -1.128958   34.682300  \n",
       "2023-04-01_SDN            0.0536    13.220889 -1.249599   26.183284  \n",
       "2023-05-01_SDN            0.0510    10.167037 -1.333742   20.255533  \n",
       "2023-06-01_SDN            0.0639    21.426175 -1.448711   12.156130  "
      ]
     },
     "execution_count": 9,
     "metadata": {},
     "output_type": "execute_result"
    }
   ],
   "source": [
    "_df = pd.read_feather(files_dir / 'gdelt_monthly_fpi.feather').query(f\"iso3 == '{country_iso}'\")\n",
    "_df"
   ]
  },
  {
   "cell_type": "code",
   "execution_count": 10,
   "id": "bb62d848-7734-4ba3-9eb8-a455c0ba1d04",
   "metadata": {
    "tags": []
   },
   "outputs": [],
   "source": [
    "countries_hash = joblib.hash(_df['iso3'].unique())"
   ]
  },
  {
   "cell_type": "code",
   "execution_count": 11,
   "id": "05875ab2-c77e-4906-ba86-57d81a2ba9c5",
   "metadata": {
    "tags": []
   },
   "outputs": [
    {
     "data": {
      "text/plain": [
       "(54, 8)"
      ]
     },
     "execution_count": 11,
     "metadata": {},
     "output_type": "execute_result"
    }
   ],
   "source": [
    "_df.shape"
   ]
  },
  {
   "cell_type": "code",
   "execution_count": 12,
   "id": "dfe84851-655a-4399-a47c-36d13dd349a3",
   "metadata": {
    "tags": []
   },
   "outputs": [],
   "source": [
    "if _df['iso3'].nunique() > 1:\n",
    "    df_oh, oh_cols = one_hot(_df, ['iso3'])\n",
    "    df_oh = df_oh.drop(columns=['iso3'])\n",
    "    df_oh.columns.values\n",
    "else:\n",
    "    oh_cols = None"
   ]
  },
  {
   "cell_type": "code",
   "execution_count": 13,
   "id": "fb06b495-a732-4a2f-8276-c4056fad617c",
   "metadata": {
    "tags": []
   },
   "outputs": [],
   "source": [
    "# in the eda notebook, all original values were scaled for each country.\n",
    "# to avoid leaking data across train/val/test, we start with the original\n",
    "# values so we can fit the scaler using our train split only!\n",
    "if _df['iso3'].nunique() > 1:\n",
    "    df = df_oh[['Date', 'timelinetone_orig', 'timelinevol_orig', 'fpi_orig'] + oh_cols]\n",
    "else:\n",
    "    df = _df[['Date', 'timelinetone_orig', 'timelinevol_orig', 'fpi_orig']]"
   ]
  },
  {
   "cell_type": "code",
   "execution_count": 14,
   "id": "392ceafb-6fd5-4d51-acd2-c84160273d49",
   "metadata": {
    "tags": []
   },
   "outputs": [
    {
     "data": {
      "text/plain": [
       "(54, 4)"
      ]
     },
     "execution_count": 14,
     "metadata": {},
     "output_type": "execute_result"
    }
   ],
   "source": [
    "df.shape"
   ]
  },
  {
   "cell_type": "code",
   "execution_count": 15,
   "id": "10a1d47a-d015-4111-a786-5d903b07e119",
   "metadata": {
    "tags": []
   },
   "outputs": [
    {
     "data": {
      "text/plain": [
       "(42, 4)"
      ]
     },
     "execution_count": 15,
     "metadata": {},
     "output_type": "execute_result"
    }
   ],
   "source": [
    "df_train = df.query(\"Date < '2022-07-01'\")\n",
    "df_train.shape"
   ]
  },
  {
   "cell_type": "code",
   "execution_count": 16,
   "id": "18995a56-a349-409b-85e3-1b20efbb315a",
   "metadata": {
    "tags": []
   },
   "outputs": [],
   "source": [
    "scalers = {'timelinetone': MinMaxScaler().fit(df_train['timelinetone_orig'].values.reshape(-1, 1)),\n",
    "           'timelinevol': MinMaxScaler().fit(df_train['timelinevol_orig'].values.reshape(-1, 1)),\n",
    "           'fpi': MinMaxScaler().fit(df_train['fpi_orig'].values.reshape(-1, 1))}"
   ]
  },
  {
   "cell_type": "code",
   "execution_count": 17,
   "id": "30aa6601-224f-4b0e-913f-45486d41571f",
   "metadata": {
    "tags": []
   },
   "outputs": [],
   "source": [
    "def scale_features(df_split):\n",
    "    df_split['timelinetone'] = scalers['timelinetone'].transform(df_split['timelinetone_orig'].values.reshape(-1, 1))\n",
    "    df_split['timelinevol'] = scalers['timelinevol'].transform(df_split['timelinevol_orig'].values.reshape(-1, 1))\n",
    "    df_split['fpi'] = scalers['fpi'].transform(df_split['fpi_orig'].values.reshape(-1, 1))\n",
    "    df_split = df_split.drop(columns=['timelinetone_orig', 'timelinevol_orig', 'fpi_orig'])\n",
    "    return df_split"
   ]
  },
  {
   "cell_type": "code",
   "execution_count": 18,
   "id": "32b9d41d-7531-4ead-b8ce-398857e979f8",
   "metadata": {
    "tags": []
   },
   "outputs": [],
   "source": [
    "df_train = scale_features(df_train)"
   ]
  },
  {
   "cell_type": "code",
   "execution_count": 19,
   "id": "839d9fea-b49a-4e85-b2af-329c5cb2fe2f",
   "metadata": {
    "tags": []
   },
   "outputs": [
    {
     "data": {
      "text/plain": [
       "(6, 4)"
      ]
     },
     "execution_count": 19,
     "metadata": {},
     "output_type": "execute_result"
    }
   ],
   "source": [
    "df_val = \n",
    "df_val.shape"
   ]
  },
  {
   "cell_type": "code",
   "execution_count": 20,
   "id": "1c0dc63a-bf4e-4d6c-bcfa-aae8906df738",
   "metadata": {
    "tags": []
   },
   "outputs": [],
   "source": [
    "df_val = scale_features(df_val)"
   ]
  },
  {
   "cell_type": "code",
   "execution_count": 21,
   "id": "ab5db2f8-cd07-435e-b67d-eb101540b260",
   "metadata": {
    "tags": []
   },
   "outputs": [
    {
     "data": {
      "text/plain": [
       "(48, 4)"
      ]
     },
     "execution_count": 21,
     "metadata": {},
     "output_type": "execute_result"
    }
   ],
   "source": [
    "# if validation set is not needed,\n",
    "# then can use this larger train set\n",
    "df_train_val = df.query(\"Date < '2023-01-01'\")\n",
    "df_train_val.shape"
   ]
  },
  {
   "cell_type": "code",
   "execution_count": 22,
   "id": "6e08595d-6cd4-4f0f-8583-e19338d4282b",
   "metadata": {
    "tags": []
   },
   "outputs": [],
   "source": [
    "df_train_val = scale_features(df_train_val)"
   ]
  },
  {
   "cell_type": "code",
   "execution_count": 23,
   "id": "6d8d2cc1-5360-4ebb-bee3-7165282c3230",
   "metadata": {
    "tags": []
   },
   "outputs": [],
   "source": [
    "df_train_hash = joblib.hash(df_train)\n",
    "df_train_val_hash = joblib.hash(df_train)"
   ]
  },
  {
   "cell_type": "code",
   "execution_count": 24,
   "id": "3ab6c7a3-33ff-4e90-820e-199371b04a5a",
   "metadata": {
    "tags": []
   },
   "outputs": [
    {
     "data": {
      "text/plain": [
       "(6, 4)"
      ]
     },
     "execution_count": 24,
     "metadata": {},
     "output_type": "execute_result"
    }
   ],
   "source": [
    "df_test = df.query(\"Date >= '2023-01-01'\")\n",
    "df_test.shape"
   ]
  },
  {
   "cell_type": "code",
   "execution_count": 25,
   "id": "2c3b6011-09df-46ff-99f9-253fef2c7fba",
   "metadata": {
    "tags": []
   },
   "outputs": [],
   "source": [
    "df_test = scale_features(df_test)"
   ]
  },
  {
   "cell_type": "code",
   "execution_count": 26,
   "id": "981eed76-43f3-4ada-a769-475573150141",
   "metadata": {
    "tags": []
   },
   "outputs": [
    {
     "data": {
      "text/plain": [
       "0.14285714285714285"
      ]
     },
     "execution_count": 26,
     "metadata": {},
     "output_type": "execute_result"
    }
   ],
   "source": [
    "df_test.shape[0] / df_train.shape[0]"
   ]
  },
  {
   "cell_type": "code",
   "execution_count": 27,
   "id": "550bde4d-8cbf-44a1-8b77-789dd333841d",
   "metadata": {
    "tags": []
   },
   "outputs": [],
   "source": [
    "assert df.shape[0] == df_test.shape[0] + df_val.shape[0] + df_train.shape[0]"
   ]
  },
  {
   "cell_type": "code",
   "execution_count": 28,
   "id": "817dd9c0-f7c5-4edc-be8a-fb464b50623f",
   "metadata": {
    "tags": []
   },
   "outputs": [],
   "source": [
    "assert df.shape[0] == df_test.shape[0] + df_train_val.shape[0]"
   ]
  },
  {
   "cell_type": "code",
   "execution_count": 29,
   "id": "08201595-b1bc-4d85-90b2-965685293036",
   "metadata": {
    "tags": []
   },
   "outputs": [],
   "source": [
    "if oh_cols is None:\n",
    "    X_train = np.asarray(df_train[['timelinetone', 'timelinevol']].astype('float32'))\n",
    "    y_train = np.asarray(df_train['fpi'].astype('float32'))\n",
    "\n",
    "    X_train_val = np.asarray(df_train_val[['timelinetone', 'timelinevol']].astype('float32'))\n",
    "    y_train_val = np.asarray(df_train_val['fpi'].astype('float32'))\n",
    "\n",
    "    X_val = np.asarray(df_val[['timelinetone', 'timelinevol']].astype('float32'))\n",
    "    y_val = np.asarray(df_val['fpi'].astype('float32'))\n",
    "\n",
    "    X_test = np.asarray(df_test[['timelinetone', 'timelinevol']].astype('float32'))\n",
    "    y_test = np.asarray(df_test['fpi'].astype('float32'))   \n",
    "else:\n",
    "    X_train = np.asarray(df_train[['timelinetone', 'timelinevol'] + oh_cols].astype('float32'))\n",
    "    y_train = np.asarray(df_train['fpi'].astype('float32'))\n",
    "\n",
    "    X_train_val = np.asarray(df_train_val[['timelinetone', 'timelinevol'] + oh_cols].astype('float32'))\n",
    "    y_train_val = np.asarray(df_train_val['fpi'].astype('float32'))\n",
    "\n",
    "    X_val = np.asarray(df_val[['timelinetone', 'timelinevol'] + oh_cols].astype('float32'))\n",
    "    y_val = np.asarray(df_val['fpi'].astype('float32'))\n",
    "\n",
    "    X_test = np.asarray(df_test[['timelinetone', 'timelinevol'] + oh_cols].astype('float32'))\n",
    "    y_test = np.asarray(df_test['fpi'].astype('float32'))"
   ]
  },
  {
   "cell_type": "markdown",
   "id": "189aed11-fc86-44ba-a8d6-633552a51b93",
   "metadata": {},
   "source": [
    "## ML model selection"
   ]
  },
  {
   "cell_type": "code",
   "execution_count": 30,
   "id": "e553d98c-c442-4254-bf5a-01fea60813d0",
   "metadata": {
    "tags": []
   },
   "outputs": [],
   "source": [
    "# gridsearch and results plot adapted from \n",
    "# https://scikit-learn.org/stable/auto_examples/ensemble/plot_forest_hist_grad_boosting_comparison.html\n",
    "models = {\n",
    "    \"Random Forest\": RandomForestRegressor(\n",
    "        min_samples_leaf=5, random_state=0, n_jobs=N_CORES\n",
    "    ),\n",
    "    \"Hist Gradient Boosting\": HistGradientBoostingRegressor(\n",
    "        max_leaf_nodes=15, random_state=0, early_stopping=True\n",
    "    ),\n",
    "    \"AdaBoost\": AdaBoostRegressor(\n",
    "        random_state=0,\n",
    "    ),\n",
    "}\n",
    "param_grids = {\n",
    "    \"Random Forest\": {\"n_estimators\": [10, 20, 50, 100],\n",
    "                      \"max_depth\": [5, 10, 15, 20, 30]},\n",
    "    \"Hist Gradient Boosting\": {\"max_iter\": [10, 20, 50, 100, 300, 500],\n",
    "                               \"learning_rate\": [0.01, 0.05, 0.1]},\n",
    "    \"AdaBoost\": {\"n_estimators\": [10, 20, 50, 100],\n",
    "                 \"learning_rate\": [0.01, 0.05, 0.1]},\n",
    "\n",
    "}\n",
    "cv = KFold(n_splits=4, shuffle=True, random_state=0)"
   ]
  },
  {
   "cell_type": "code",
   "execution_count": 31,
   "id": "e3ecbb1c-081e-4bf2-b126-753df6a91764",
   "metadata": {
    "tags": []
   },
   "outputs": [
    {
     "data": {
      "text/plain": [
       "'\\n%%time\\nresults = []\\nfor name, model in models.items():\\n    grid_search = GridSearchCV(\\n        estimator=model,\\n        param_grid=param_grids[name],\\n        return_train_score=True,\\n        cv=cv,\\n    ).fit(X_train_val, y_train_val)\\n    result = {\"model\": name, \"cv_results\": pd.DataFrame(grid_search.cv_results_)}\\n    results.append(result)\\n'"
      ]
     },
     "execution_count": 31,
     "metadata": {},
     "output_type": "execute_result"
    }
   ],
   "source": [
    "\"\"\"\n",
    "%%time\n",
    "results = []\n",
    "for name, model in models.items():\n",
    "    grid_search = GridSearchCV(\n",
    "        estimator=model,\n",
    "        param_grid=param_grids[name],\n",
    "        return_train_score=True,\n",
    "        cv=cv,\n",
    "    ).fit(X_train_val, y_train_val)\n",
    "    result = {\"model\": name, \"cv_results\": pd.DataFrame(grid_search.cv_results_)}\n",
    "    results.append(result)\n",
    "\"\"\""
   ]
  },
  {
   "cell_type": "code",
   "execution_count": 32,
   "id": "2e6f892a-5102-46f6-8d8a-6f7400109545",
   "metadata": {
    "tags": []
   },
   "outputs": [],
   "source": [
    "#results"
   ]
  },
  {
   "cell_type": "code",
   "execution_count": 33,
   "id": "69c9da31-9972-4b7b-90be-71730561d510",
   "metadata": {
    "tags": []
   },
   "outputs": [
    {
     "data": {
      "text/plain": [
       "'\\nfig = make_subplots(\\n    rows=1,\\n    cols=2,\\n    shared_yaxes=True,\\n    subplot_titles=[\"Train time vs score\", \"Predict time vs score\"],\\n)\\nmodel_names = [result[\"model\"] for result in results]\\ncolors_list = colors.qualitative.Plotly * (\\n    len(model_names) // len(colors.qualitative.Plotly) + 1\\n)\\n\\nfor idx, result in enumerate(results):\\n    cv_results = result[\"cv_results\"].round(3)\\n    model_name = result[\"model\"]\\n    param_name = list(param_grids[model_name].keys())[0]\\n    cv_results[param_name] = cv_results[\"param_\" + param_name]\\n    cv_results[\"model\"] = model_name\\n\\n    scatter_fig = px.scatter(\\n        cv_results,\\n        x=\"mean_fit_time\",\\n        y=\"mean_test_score\",\\n        error_x=\"std_fit_time\",\\n        error_y=\"std_test_score\",\\n        hover_data=param_name,\\n        color=\"model\",\\n    )\\n    line_fig = px.line(\\n        cv_results,\\n        x=\"mean_fit_time\",\\n        y=\"mean_test_score\",\\n    )\\n\\n    scatter_trace = scatter_fig[\"data\"][0]\\n    line_trace = line_fig[\"data\"][0]\\n    scatter_trace.update(marker=dict(color=colors_list[idx]))\\n    line_trace.update(line=dict(color=colors_list[idx]))\\n    fig.add_trace(scatter_trace, row=1, col=1)\\n    fig.add_trace(line_trace, row=1, col=1)\\n\\n    scatter_fig = px.scatter(\\n        cv_results,\\n        x=\"mean_score_time\",\\n        y=\"mean_test_score\",\\n        error_x=\"std_score_time\",\\n        error_y=\"std_test_score\",\\n        hover_data=param_name,\\n    )\\n    line_fig = px.line(\\n        cv_results,\\n        x=\"mean_score_time\",\\n        y=\"mean_test_score\",\\n    )\\n\\n    scatter_trace = scatter_fig[\"data\"][0]\\n    line_trace = line_fig[\"data\"][0]\\n    scatter_trace.update(marker=dict(color=colors_list[idx]))\\n    line_trace.update(line=dict(color=colors_list[idx]))\\n    fig.add_trace(scatter_trace, row=1, col=2)\\n    fig.add_trace(line_trace, row=1, col=2)\\n\\nfig.update_layout(\\n    xaxis=dict(title=\"Train time (s) - lower is better\"),\\n    yaxis=dict(title=\"Test R2 score - higher is better\"),\\n    xaxis2=dict(title=\"Predict time (s) - lower is better\"),\\n    legend=dict(x=0.72, y=0.05, traceorder=\"normal\", borderwidth=1),\\n    title=dict(x=0.5, text=\"Speed-score trade-off of tree-based ensembles\"),\\n)\\n'"
      ]
     },
     "execution_count": 33,
     "metadata": {},
     "output_type": "execute_result"
    }
   ],
   "source": [
    "\"\"\"\n",
    "fig = make_subplots(\n",
    "    rows=1,\n",
    "    cols=2,\n",
    "    shared_yaxes=True,\n",
    "    subplot_titles=[\"Train time vs score\", \"Predict time vs score\"],\n",
    ")\n",
    "model_names = [result[\"model\"] for result in results]\n",
    "colors_list = colors.qualitative.Plotly * (\n",
    "    len(model_names) // len(colors.qualitative.Plotly) + 1\n",
    ")\n",
    "\n",
    "for idx, result in enumerate(results):\n",
    "    cv_results = result[\"cv_results\"].round(3)\n",
    "    model_name = result[\"model\"]\n",
    "    param_name = list(param_grids[model_name].keys())[0]\n",
    "    cv_results[param_name] = cv_results[\"param_\" + param_name]\n",
    "    cv_results[\"model\"] = model_name\n",
    "\n",
    "    scatter_fig = px.scatter(\n",
    "        cv_results,\n",
    "        x=\"mean_fit_time\",\n",
    "        y=\"mean_test_score\",\n",
    "        error_x=\"std_fit_time\",\n",
    "        error_y=\"std_test_score\",\n",
    "        hover_data=param_name,\n",
    "        color=\"model\",\n",
    "    )\n",
    "    line_fig = px.line(\n",
    "        cv_results,\n",
    "        x=\"mean_fit_time\",\n",
    "        y=\"mean_test_score\",\n",
    "    )\n",
    "\n",
    "    scatter_trace = scatter_fig[\"data\"][0]\n",
    "    line_trace = line_fig[\"data\"][0]\n",
    "    scatter_trace.update(marker=dict(color=colors_list[idx]))\n",
    "    line_trace.update(line=dict(color=colors_list[idx]))\n",
    "    fig.add_trace(scatter_trace, row=1, col=1)\n",
    "    fig.add_trace(line_trace, row=1, col=1)\n",
    "\n",
    "    scatter_fig = px.scatter(\n",
    "        cv_results,\n",
    "        x=\"mean_score_time\",\n",
    "        y=\"mean_test_score\",\n",
    "        error_x=\"std_score_time\",\n",
    "        error_y=\"std_test_score\",\n",
    "        hover_data=param_name,\n",
    "    )\n",
    "    line_fig = px.line(\n",
    "        cv_results,\n",
    "        x=\"mean_score_time\",\n",
    "        y=\"mean_test_score\",\n",
    "    )\n",
    "\n",
    "    scatter_trace = scatter_fig[\"data\"][0]\n",
    "    line_trace = line_fig[\"data\"][0]\n",
    "    scatter_trace.update(marker=dict(color=colors_list[idx]))\n",
    "    line_trace.update(line=dict(color=colors_list[idx]))\n",
    "    fig.add_trace(scatter_trace, row=1, col=2)\n",
    "    fig.add_trace(line_trace, row=1, col=2)\n",
    "\n",
    "fig.update_layout(\n",
    "    xaxis=dict(title=\"Train time (s) - lower is better\"),\n",
    "    yaxis=dict(title=\"Test R2 score - higher is better\"),\n",
    "    xaxis2=dict(title=\"Predict time (s) - lower is better\"),\n",
    "    legend=dict(x=0.72, y=0.05, traceorder=\"normal\", borderwidth=1),\n",
    "    title=dict(x=0.5, text=\"Speed-score trade-off of tree-based ensembles\"),\n",
    ")\n",
    "\"\"\""
   ]
  },
  {
   "cell_type": "markdown",
   "id": "204ec014-e63d-461e-be8b-84548b22f54b",
   "metadata": {},
   "source": [
    "## Random forest model"
   ]
  },
  {
   "cell_type": "code",
   "execution_count": 34,
   "id": "66687197-0428-4a62-b8a6-4b3eecda39ef",
   "metadata": {
    "tags": []
   },
   "outputs": [],
   "source": [
    "rf_train_params = {'n_estimators': 50, 'max_depth': 5,\n",
    "                   'min_samples_leaf': 5, 'random_state': 0}"
   ]
  },
  {
   "cell_type": "code",
   "execution_count": 35,
   "id": "f106b3d2-5f4c-48f1-ae94-aac6a83d6904",
   "metadata": {
    "tags": []
   },
   "outputs": [],
   "source": [
    "rf_train_hash = joblib.hash(rf_train_params)"
   ]
  },
  {
   "cell_type": "code",
   "execution_count": 36,
   "id": "1b1b1d85-8cbf-4b7c-8eae-49f647b3bcd8",
   "metadata": {
    "tags": []
   },
   "outputs": [],
   "source": [
    "rf_train_params.update({'n_jobs': N_CORES})"
   ]
  },
  {
   "cell_type": "code",
   "execution_count": 37,
   "id": "a0a1d339-1567-48ce-ace3-fd7d60437199",
   "metadata": {
    "tags": []
   },
   "outputs": [
    {
     "data": {
      "text/plain": [
       "{'n_estimators': 50,\n",
       " 'max_depth': 5,\n",
       " 'min_samples_leaf': 5,\n",
       " 'random_state': 0,\n",
       " 'n_jobs': 10}"
      ]
     },
     "execution_count": 37,
     "metadata": {},
     "output_type": "execute_result"
    }
   ],
   "source": [
    "rf_train_params"
   ]
  },
  {
   "cell_type": "code",
   "execution_count": 38,
   "id": "ea6ecc25-2647-4100-a9dd-51e90cbc9601",
   "metadata": {
    "tags": []
   },
   "outputs": [],
   "source": [
    "rf = RandomForestRegressor(**rf_train_params)"
   ]
  },
  {
   "cell_type": "code",
   "execution_count": 39,
   "id": "4d547e63-dfd8-42f6-8890-7ed2f9cd070a",
   "metadata": {
    "tags": []
   },
   "outputs": [
    {
     "name": "stdout",
     "output_type": "stream",
     "text": [
      "CPU times: user 29.8 ms, sys: 13.4 ms, total: 43.2 ms\n",
      "Wall time: 105 ms\n"
     ]
    },
    {
     "data": {
      "text/html": [
       "<style>#sk-container-id-1 {color: black;background-color: white;}#sk-container-id-1 pre{padding: 0;}#sk-container-id-1 div.sk-toggleable {background-color: white;}#sk-container-id-1 label.sk-toggleable__label {cursor: pointer;display: block;width: 100%;margin-bottom: 0;padding: 0.3em;box-sizing: border-box;text-align: center;}#sk-container-id-1 label.sk-toggleable__label-arrow:before {content: \"▸\";float: left;margin-right: 0.25em;color: #696969;}#sk-container-id-1 label.sk-toggleable__label-arrow:hover:before {color: black;}#sk-container-id-1 div.sk-estimator:hover label.sk-toggleable__label-arrow:before {color: black;}#sk-container-id-1 div.sk-toggleable__content {max-height: 0;max-width: 0;overflow: hidden;text-align: left;background-color: #f0f8ff;}#sk-container-id-1 div.sk-toggleable__content pre {margin: 0.2em;color: black;border-radius: 0.25em;background-color: #f0f8ff;}#sk-container-id-1 input.sk-toggleable__control:checked~div.sk-toggleable__content {max-height: 200px;max-width: 100%;overflow: auto;}#sk-container-id-1 input.sk-toggleable__control:checked~label.sk-toggleable__label-arrow:before {content: \"▾\";}#sk-container-id-1 div.sk-estimator input.sk-toggleable__control:checked~label.sk-toggleable__label {background-color: #d4ebff;}#sk-container-id-1 div.sk-label input.sk-toggleable__control:checked~label.sk-toggleable__label {background-color: #d4ebff;}#sk-container-id-1 input.sk-hidden--visually {border: 0;clip: rect(1px 1px 1px 1px);clip: rect(1px, 1px, 1px, 1px);height: 1px;margin: -1px;overflow: hidden;padding: 0;position: absolute;width: 1px;}#sk-container-id-1 div.sk-estimator {font-family: monospace;background-color: #f0f8ff;border: 1px dotted black;border-radius: 0.25em;box-sizing: border-box;margin-bottom: 0.5em;}#sk-container-id-1 div.sk-estimator:hover {background-color: #d4ebff;}#sk-container-id-1 div.sk-parallel-item::after {content: \"\";width: 100%;border-bottom: 1px solid gray;flex-grow: 1;}#sk-container-id-1 div.sk-label:hover label.sk-toggleable__label {background-color: #d4ebff;}#sk-container-id-1 div.sk-serial::before {content: \"\";position: absolute;border-left: 1px solid gray;box-sizing: border-box;top: 0;bottom: 0;left: 50%;z-index: 0;}#sk-container-id-1 div.sk-serial {display: flex;flex-direction: column;align-items: center;background-color: white;padding-right: 0.2em;padding-left: 0.2em;position: relative;}#sk-container-id-1 div.sk-item {position: relative;z-index: 1;}#sk-container-id-1 div.sk-parallel {display: flex;align-items: stretch;justify-content: center;background-color: white;position: relative;}#sk-container-id-1 div.sk-item::before, #sk-container-id-1 div.sk-parallel-item::before {content: \"\";position: absolute;border-left: 1px solid gray;box-sizing: border-box;top: 0;bottom: 0;left: 50%;z-index: -1;}#sk-container-id-1 div.sk-parallel-item {display: flex;flex-direction: column;z-index: 1;position: relative;background-color: white;}#sk-container-id-1 div.sk-parallel-item:first-child::after {align-self: flex-end;width: 50%;}#sk-container-id-1 div.sk-parallel-item:last-child::after {align-self: flex-start;width: 50%;}#sk-container-id-1 div.sk-parallel-item:only-child::after {width: 0;}#sk-container-id-1 div.sk-dashed-wrapped {border: 1px dashed gray;margin: 0 0.4em 0.5em 0.4em;box-sizing: border-box;padding-bottom: 0.4em;background-color: white;}#sk-container-id-1 div.sk-label label {font-family: monospace;font-weight: bold;display: inline-block;line-height: 1.2em;}#sk-container-id-1 div.sk-label-container {text-align: center;}#sk-container-id-1 div.sk-container {/* jupyter's `normalize.less` sets `[hidden] { display: none; }` but bootstrap.min.css set `[hidden] { display: none !important; }` so we also need the `!important` here to be able to override the default hidden behavior on the sphinx rendered scikit-learn.org. See: https://github.com/scikit-learn/scikit-learn/issues/21755 */display: inline-block !important;position: relative;}#sk-container-id-1 div.sk-text-repr-fallback {display: none;}</style><div id=\"sk-container-id-1\" class=\"sk-top-container\"><div class=\"sk-text-repr-fallback\"><pre>RandomForestRegressor(max_depth=5, min_samples_leaf=5, n_estimators=50,\n",
       "                      n_jobs=10, random_state=0)</pre><b>In a Jupyter environment, please rerun this cell to show the HTML representation or trust the notebook. <br />On GitHub, the HTML representation is unable to render, please try loading this page with nbviewer.org.</b></div><div class=\"sk-container\" hidden><div class=\"sk-item\"><div class=\"sk-estimator sk-toggleable\"><input class=\"sk-toggleable__control sk-hidden--visually\" id=\"sk-estimator-id-1\" type=\"checkbox\" checked><label for=\"sk-estimator-id-1\" class=\"sk-toggleable__label sk-toggleable__label-arrow\">RandomForestRegressor</label><div class=\"sk-toggleable__content\"><pre>RandomForestRegressor(max_depth=5, min_samples_leaf=5, n_estimators=50,\n",
       "                      n_jobs=10, random_state=0)</pre></div></div></div></div></div>"
      ],
      "text/plain": [
       "RandomForestRegressor(max_depth=5, min_samples_leaf=5, n_estimators=50,\n",
       "                      n_jobs=10, random_state=0)"
      ]
     },
     "execution_count": 39,
     "metadata": {},
     "output_type": "execute_result"
    }
   ],
   "source": [
    "%%time\n",
    "rf.fit(X_train_val, y_train_val)"
   ]
  },
  {
   "cell_type": "code",
   "execution_count": 40,
   "id": "a7767149-41a6-45b9-8832-ccaa20deeae9",
   "metadata": {
    "tags": []
   },
   "outputs": [],
   "source": [
    "y_hat = rf.predict(X_test)"
   ]
  },
  {
   "cell_type": "code",
   "execution_count": 41,
   "id": "4b156cb0-2597-4ab9-9e77-cb76372bf069",
   "metadata": {
    "tags": []
   },
   "outputs": [
    {
     "data": {
      "text/plain": [
       "-60.18395915810023"
      ]
     },
     "execution_count": 41,
     "metadata": {},
     "output_type": "execute_result"
    }
   ],
   "source": [
    "r2_score(y_test, y_hat)"
   ]
  },
  {
   "cell_type": "code",
   "execution_count": 42,
   "id": "98e3fcb3-28d4-4b3c-8589-0b911133477b",
   "metadata": {
    "tags": []
   },
   "outputs": [
    {
     "data": {
      "text/plain": [
       "0.38384827996012844"
      ]
     },
     "execution_count": 42,
     "metadata": {},
     "output_type": "execute_result"
    }
   ],
   "source": [
    "mean_squared_error(y_test, y_hat)"
   ]
  },
  {
   "cell_type": "code",
   "execution_count": 43,
   "id": "89e1b355-12cc-4f2c-8037-dc23912c8f37",
   "metadata": {
    "tags": []
   },
   "outputs": [
    {
     "data": {
      "text/plain": [
       "-15.851592717321498"
      ]
     },
     "execution_count": 43,
     "metadata": {},
     "output_type": "execute_result"
    }
   ],
   "source": [
    "explained_variance_score(y_test, y_hat)"
   ]
  },
  {
   "cell_type": "code",
   "execution_count": 44,
   "id": "a7d2e95c-a1ed-4dd3-80e5-13f83a6a443d",
   "metadata": {
    "tags": []
   },
   "outputs": [],
   "source": [
    "#dump(rf, (files_dir / f\"model_rfreg_{rf_train_hash[:8]}_gdelt_{countries_hash[:8]}_fpi_{df_train_val_hash[:8]}.skops\"))"
   ]
  },
  {
   "cell_type": "markdown",
   "id": "38c7768c-0d8f-4550-875d-515702e7fd76",
   "metadata": {},
   "source": [
    "## LSTM model"
   ]
  },
  {
   "cell_type": "code",
   "execution_count": 45,
   "id": "f3c66de6-2884-4d63-9578-e38d900007f1",
   "metadata": {
    "tags": []
   },
   "outputs": [],
   "source": [
    "import keras"
   ]
  },
  {
   "cell_type": "code",
   "execution_count": 46,
   "id": "9b8e71be-ada0-4001-a232-db914970023b",
   "metadata": {
    "tags": []
   },
   "outputs": [],
   "source": [
    "# adapted from https://keras.io/examples/timeseries/timeseries_weather_forecasting/\n",
    "\n",
    "if oh_cols is not None:\n",
    "    # data are sorted by date, so each yyyy-mm-01 appears once for each of 193 countries.\n",
    "    # use step size of num countries so recurrent model treats each calendar month as one period.\n",
    "    # since the input includes one-hot encoded iso3 features, the model might learn the desired signal.\n",
    "    step = 193\n",
    "\n",
    "    # hard to have a good rationale for any choice of value here given our dataset--\n",
    "    # other than being small enough so dataset_val will have enough samples to compute val_loss.\n",
    "    sampling_rate = 6\n",
    "    sequence_length=int(len(X_train)/step)\n",
    "else:\n",
    "    sampling_rate = 1\n",
    "    sequence_length = 3\n",
    "    sequence_stride = 1\n",
    "\n",
    "learning_rate = 0.005\n",
    "batch_size = 4\n",
    "epochs = 100\n",
    "\n",
    "l1 = 0.035\n",
    "l2 = 0.015"
   ]
  },
  {
   "cell_type": "code",
   "execution_count": 47,
   "id": "203f0f58-5458-49db-b69e-0e1e3098930e",
   "metadata": {},
   "outputs": [],
   "source": [
    "model_params = {'sampling_rate': sampling_rate,\n",
    "                'sequence_length': sequence_length,\n",
    "                'sequence_stride': sequence_stride,\n",
    "                'learning_rate': learning_rate,\n",
    "                'batch_size': batch_size,\n",
    "                'l1': l1, 'l2': l2}"
   ]
  },
  {
   "cell_type": "code",
   "execution_count": 48,
   "id": "53ac03ad-0dea-4696-847a-d142488bf0e7",
   "metadata": {},
   "outputs": [],
   "source": [
    "params_hash = joblib.hash(model_params)"
   ]
  },
  {
   "cell_type": "code",
   "execution_count": 49,
   "id": "ea53e0da-9778-4551-ac0c-b96276650a74",
   "metadata": {
    "tags": []
   },
   "outputs": [],
   "source": [
    "dataset_train = keras.preprocessing.timeseries_dataset_from_array(\n",
    "    X_train,\n",
    "    y_train,\n",
    "    sequence_length=sequence_length,\n",
    "    sampling_rate=sampling_rate,\n",
    "    sequence_stride=sequence_stride,\n",
    "    batch_size=batch_size,\n",
    ")"
   ]
  },
  {
   "cell_type": "code",
   "execution_count": 50,
   "id": "4ab0504e-8de9-4c9c-9eb1-5462870b0afe",
   "metadata": {
    "tags": []
   },
   "outputs": [],
   "source": [
    "dataset_val = keras.preprocessing.timeseries_dataset_from_array(\n",
    "    X_val,\n",
    "    y_val,\n",
    "    sequence_length=sequence_length,\n",
    "    sampling_rate=sampling_rate,\n",
    "    sequence_stride=sequence_stride,\n",
    "    batch_size=batch_size,\n",
    ")"
   ]
  },
  {
   "cell_type": "code",
   "execution_count": 51,
   "id": "1679147a-4982-4c3e-9527-af2b01233668",
   "metadata": {
    "tags": []
   },
   "outputs": [
    {
     "name": "stdout",
     "output_type": "stream",
     "text": [
      "Input shape: (4, 3, 2)\n",
      "Target shape: (4,)\n"
     ]
    }
   ],
   "source": [
    "for batch in dataset_train.take(1):\n",
    "    inputs, targets = batch\n",
    "\n",
    "print(\"Input shape:\", inputs.numpy().shape)\n",
    "print(\"Target shape:\", targets.numpy().shape)"
   ]
  },
  {
   "cell_type": "code",
   "execution_count": 52,
   "id": "7ef8ce33-51f8-42f7-82fe-14e7f30b57ed",
   "metadata": {
    "tags": []
   },
   "outputs": [
    {
     "name": "stderr",
     "output_type": "stream",
     "text": [
      "WARNING:absl:At this time, the v2.11+ optimizer `tf.keras.optimizers.Adam` runs slowly on M1/M2 Macs, please use the legacy Keras optimizer instead, located at `tf.keras.optimizers.legacy.Adam`.\n",
      "WARNING:absl:There is a known slowdown when using v2.11+ Keras optimizers on M1/M2 Macs. Falling back to the legacy Keras optimizer, i.e., `tf.keras.optimizers.legacy.Adam`.\n"
     ]
    },
    {
     "name": "stdout",
     "output_type": "stream",
     "text": [
      "Model: \"model\"\n",
      "_________________________________________________________________\n",
      " Layer (type)                Output Shape              Param #   \n",
      "=================================================================\n",
      " input_1 (InputLayer)        [(None, 3, 2)]            0         \n",
      "                                                                 \n",
      " lstm (LSTM)                 (None, 1)                 16        \n",
      "                                                                 \n",
      " dense (Dense)               (None, 1)                 2         \n",
      "                                                                 \n",
      "=================================================================\n",
      "Total params: 18 (72.00 Byte)\n",
      "Trainable params: 18 (72.00 Byte)\n",
      "Non-trainable params: 0 (0.00 Byte)\n",
      "_________________________________________________________________\n"
     ]
    }
   ],
   "source": [
    "inputs = keras.layers.Input(shape=(inputs.shape[1], inputs.shape[2]))\n",
    "lstm_out = keras.layers.LSTM(1, activation='relu',\n",
    "                             kernel_regularizer=keras.regularizers.L1L2(l1=l1, l2=l2))(inputs)\n",
    "outputs = keras.layers.Dense(1)(lstm_out)\n",
    "\n",
    "model = keras.Model(inputs=inputs, outputs=outputs)\n",
    "model.compile(optimizer=keras.optimizers.Adam(learning_rate=learning_rate), loss=\"mse\")\n",
    "model.summary()"
   ]
  },
  {
   "cell_type": "code",
   "execution_count": 53,
   "id": "3dc1f975-878f-4b99-99fd-7c756d4e9059",
   "metadata": {
    "tags": []
   },
   "outputs": [
    {
     "name": "stdout",
     "output_type": "stream",
     "text": [
      "Epoch 1/100\n",
      " 1/10 [==>...........................] - ETA: 3s - loss: 0.2046\n",
      "Epoch 1: val_loss improved from inf to 0.18776, saving model to /Users/ewheeler/dev/UNDatathon/data/gdelt_files/SDN_lstm_198f4d7a_gdelt_67200d62_fpi_3b77c74d.h5\n",
      "10/10 [==============================] - 1s 13ms/step - loss: 0.4479 - val_loss: 0.1878\n",
      "Epoch 2/100\n",
      " 1/10 [==>...........................] - ETA: 0s - loss: 0.1875\n",
      "Epoch 2: val_loss improved from 0.18776 to 0.16726, saving model to /Users/ewheeler/dev/UNDatathon/data/gdelt_files/SDN_lstm_198f4d7a_gdelt_67200d62_fpi_3b77c74d.h5\n",
      "10/10 [==============================] - 0s 4ms/step - loss: 0.3902 - val_loss: 0.1673\n",
      "Epoch 3/100\n",
      " 1/10 [==>...........................] - ETA: 0s - loss: 0.1830\n",
      "Epoch 3: val_loss improved from 0.16726 to 0.15325, saving model to /Users/ewheeler/dev/UNDatathon/data/gdelt_files/SDN_lstm_198f4d7a_gdelt_67200d62_fpi_3b77c74d.h5\n",
      "10/10 [==============================] - 0s 4ms/step - loss: 0.3392 - val_loss: 0.1532\n",
      "Epoch 4/100\n",
      " 1/10 [==>...........................] - ETA: 0s - loss: 0.1864\n",
      "Epoch 4: val_loss improved from 0.15325 to 0.14505, saving model to /Users/ewheeler/dev/UNDatathon/data/gdelt_files/SDN_lstm_198f4d7a_gdelt_67200d62_fpi_3b77c74d.h5\n",
      "10/10 [==============================] - 0s 3ms/step - loss: 0.2965 - val_loss: 0.1451\n",
      "Epoch 5/100\n",
      " 1/10 [==>...........................] - ETA: 0s - loss: 0.1962\n",
      "Epoch 5: val_loss improved from 0.14505 to 0.14308, saving model to /Users/ewheeler/dev/UNDatathon/data/gdelt_files/SDN_lstm_198f4d7a_gdelt_67200d62_fpi_3b77c74d.h5\n",
      "10/10 [==============================] - 0s 3ms/step - loss: 0.2642 - val_loss: 0.1431\n",
      "Epoch 6/100\n",
      " 1/10 [==>...........................] - ETA: 0s - loss: 0.2110\n",
      "Epoch 6: val_loss improved from 0.14308 to 0.14280, saving model to /Users/ewheeler/dev/UNDatathon/data/gdelt_files/SDN_lstm_198f4d7a_gdelt_67200d62_fpi_3b77c74d.h5\n",
      "10/10 [==============================] - 0s 3ms/step - loss: 0.2418 - val_loss: 0.1428\n",
      "Epoch 7/100\n",
      " 1/10 [==>...........................] - ETA: 0s - loss: 0.2245\n",
      "Epoch 7: val_loss improved from 0.14280 to 0.14192, saving model to /Users/ewheeler/dev/UNDatathon/data/gdelt_files/SDN_lstm_198f4d7a_gdelt_67200d62_fpi_3b77c74d.h5\n",
      "10/10 [==============================] - 0s 4ms/step - loss: 0.2276 - val_loss: 0.1419\n",
      "Epoch 8/100\n",
      " 1/10 [==>...........................] - ETA: 0s - loss: 0.2335\n",
      "Epoch 8: val_loss improved from 0.14192 to 0.13903, saving model to /Users/ewheeler/dev/UNDatathon/data/gdelt_files/SDN_lstm_198f4d7a_gdelt_67200d62_fpi_3b77c74d.h5\n",
      "10/10 [==============================] - 0s 3ms/step - loss: 0.2171 - val_loss: 0.1390\n",
      "Epoch 9/100\n",
      " 1/10 [==>...........................] - ETA: 0s - loss: 0.2361\n",
      "Epoch 9: val_loss improved from 0.13903 to 0.13411, saving model to /Users/ewheeler/dev/UNDatathon/data/gdelt_files/SDN_lstm_198f4d7a_gdelt_67200d62_fpi_3b77c74d.h5\n",
      "10/10 [==============================] - 0s 4ms/step - loss: 0.2078 - val_loss: 0.1341\n",
      "Epoch 10/100\n",
      " 1/10 [==>...........................] - ETA: 0s - loss: 0.2331\n",
      "Epoch 10: val_loss improved from 0.13411 to 0.12779, saving model to /Users/ewheeler/dev/UNDatathon/data/gdelt_files/SDN_lstm_198f4d7a_gdelt_67200d62_fpi_3b77c74d.h5\n",
      "10/10 [==============================] - 0s 4ms/step - loss: 0.1988 - val_loss: 0.1278\n",
      "Epoch 11/100\n",
      " 1/10 [==>...........................] - ETA: 0s - loss: 0.2267\n",
      "Epoch 11: val_loss improved from 0.12779 to 0.12102, saving model to /Users/ewheeler/dev/UNDatathon/data/gdelt_files/SDN_lstm_198f4d7a_gdelt_67200d62_fpi_3b77c74d.h5\n",
      "10/10 [==============================] - 0s 4ms/step - loss: 0.1899 - val_loss: 0.1210\n",
      "Epoch 12/100\n",
      " 1/10 [==>...........................] - ETA: 0s - loss: 0.2186\n",
      "Epoch 12: val_loss improved from 0.12102 to 0.11465, saving model to /Users/ewheeler/dev/UNDatathon/data/gdelt_files/SDN_lstm_198f4d7a_gdelt_67200d62_fpi_3b77c74d.h5\n",
      "10/10 [==============================] - 0s 4ms/step - loss: 0.1820 - val_loss: 0.1147\n",
      "Epoch 13/100\n",
      " 1/10 [==>...........................] - ETA: 0s - loss: 0.2095\n",
      "Epoch 13: val_loss improved from 0.11465 to 0.10849, saving model to /Users/ewheeler/dev/UNDatathon/data/gdelt_files/SDN_lstm_198f4d7a_gdelt_67200d62_fpi_3b77c74d.h5\n",
      "10/10 [==============================] - 0s 4ms/step - loss: 0.1742 - val_loss: 0.1085\n",
      "Epoch 14/100\n",
      " 1/10 [==>...........................] - ETA: 0s - loss: 0.2005\n",
      "Epoch 14: val_loss improved from 0.10849 to 0.10309, saving model to /Users/ewheeler/dev/UNDatathon/data/gdelt_files/SDN_lstm_198f4d7a_gdelt_67200d62_fpi_3b77c74d.h5\n",
      "10/10 [==============================] - 0s 3ms/step - loss: 0.1662 - val_loss: 0.1031\n",
      "Epoch 15/100\n",
      " 1/10 [==>...........................] - ETA: 0s - loss: 0.1930\n",
      "Epoch 15: val_loss improved from 0.10309 to 0.09961, saving model to /Users/ewheeler/dev/UNDatathon/data/gdelt_files/SDN_lstm_198f4d7a_gdelt_67200d62_fpi_3b77c74d.h5\n",
      "10/10 [==============================] - 0s 3ms/step - loss: 0.1603 - val_loss: 0.0996\n",
      "Epoch 16/100\n",
      " 1/10 [==>...........................] - ETA: 0s - loss: 0.1872\n",
      "Epoch 16: val_loss improved from 0.09961 to 0.09667, saving model to /Users/ewheeler/dev/UNDatathon/data/gdelt_files/SDN_lstm_198f4d7a_gdelt_67200d62_fpi_3b77c74d.h5\n",
      "10/10 [==============================] - 0s 3ms/step - loss: 0.1556 - val_loss: 0.0967\n",
      "Epoch 17/100\n",
      " 1/10 [==>...........................] - ETA: 0s - loss: 0.1823\n",
      "Epoch 17: val_loss improved from 0.09667 to 0.09375, saving model to /Users/ewheeler/dev/UNDatathon/data/gdelt_files/SDN_lstm_198f4d7a_gdelt_67200d62_fpi_3b77c74d.h5\n",
      "10/10 [==============================] - 0s 3ms/step - loss: 0.1509 - val_loss: 0.0937\n",
      "Epoch 18/100\n",
      " 1/10 [==>...........................] - ETA: 0s - loss: 0.1775\n",
      "Epoch 18: val_loss improved from 0.09375 to 0.09053, saving model to /Users/ewheeler/dev/UNDatathon/data/gdelt_files/SDN_lstm_198f4d7a_gdelt_67200d62_fpi_3b77c74d.h5\n",
      "10/10 [==============================] - 0s 3ms/step - loss: 0.1464 - val_loss: 0.0905\n",
      "Epoch 19/100\n",
      " 1/10 [==>...........................] - ETA: 0s - loss: 0.1724\n",
      "Epoch 19: val_loss improved from 0.09053 to 0.08798, saving model to /Users/ewheeler/dev/UNDatathon/data/gdelt_files/SDN_lstm_198f4d7a_gdelt_67200d62_fpi_3b77c74d.h5\n",
      "10/10 [==============================] - 0s 4ms/step - loss: 0.1420 - val_loss: 0.0880\n",
      "Epoch 20/100\n",
      " 1/10 [==>...........................] - ETA: 0s - loss: 0.1679\n",
      "Epoch 20: val_loss improved from 0.08798 to 0.08563, saving model to /Users/ewheeler/dev/UNDatathon/data/gdelt_files/SDN_lstm_198f4d7a_gdelt_67200d62_fpi_3b77c74d.h5\n",
      "10/10 [==============================] - 0s 3ms/step - loss: 0.1376 - val_loss: 0.0856\n",
      "Epoch 21/100\n",
      " 1/10 [==>...........................] - ETA: 0s - loss: 0.1637\n",
      "Epoch 21: val_loss improved from 0.08563 to 0.08342, saving model to /Users/ewheeler/dev/UNDatathon/data/gdelt_files/SDN_lstm_198f4d7a_gdelt_67200d62_fpi_3b77c74d.h5\n",
      "10/10 [==============================] - 0s 4ms/step - loss: 0.1334 - val_loss: 0.0834\n",
      "Epoch 22/100\n",
      " 1/10 [==>...........................] - ETA: 0s - loss: 0.1594\n",
      "Epoch 22: val_loss improved from 0.08342 to 0.08125, saving model to /Users/ewheeler/dev/UNDatathon/data/gdelt_files/SDN_lstm_198f4d7a_gdelt_67200d62_fpi_3b77c74d.h5\n",
      "10/10 [==============================] - 0s 4ms/step - loss: 0.1292 - val_loss: 0.0812\n",
      "Epoch 23/100\n",
      " 1/10 [==>...........................] - ETA: 0s - loss: 0.1552\n",
      "Epoch 23: val_loss improved from 0.08125 to 0.07903, saving model to /Users/ewheeler/dev/UNDatathon/data/gdelt_files/SDN_lstm_198f4d7a_gdelt_67200d62_fpi_3b77c74d.h5\n",
      "10/10 [==============================] - 0s 3ms/step - loss: 0.1253 - val_loss: 0.0790\n",
      "Epoch 24/100\n",
      " 1/10 [==>...........................] - ETA: 0s - loss: 0.1508\n",
      "Epoch 24: val_loss improved from 0.07903 to 0.07838, saving model to /Users/ewheeler/dev/UNDatathon/data/gdelt_files/SDN_lstm_198f4d7a_gdelt_67200d62_fpi_3b77c74d.h5\n",
      "10/10 [==============================] - 0s 4ms/step - loss: 0.1214 - val_loss: 0.0784\n",
      "Epoch 25/100\n",
      " 1/10 [==>...........................] - ETA: 0s - loss: 0.1478\n",
      "Epoch 25: val_loss improved from 0.07838 to 0.07779, saving model to /Users/ewheeler/dev/UNDatathon/data/gdelt_files/SDN_lstm_198f4d7a_gdelt_67200d62_fpi_3b77c74d.h5\n",
      "10/10 [==============================] - 0s 3ms/step - loss: 0.1197 - val_loss: 0.0778\n",
      "Epoch 26/100\n",
      " 1/10 [==>...........................] - ETA: 0s - loss: 0.1439\n",
      "Epoch 26: val_loss did not improve from 0.07779\n",
      "10/10 [==============================] - 0s 3ms/step - loss: 0.1177 - val_loss: 0.0779\n",
      "Epoch 27/100\n",
      " 1/10 [==>...........................] - ETA: 0s - loss: 0.1408\n",
      "Epoch 27: val_loss did not improve from 0.07779\n",
      "10/10 [==============================] - 0s 3ms/step - loss: 0.1155 - val_loss: 0.0785\n",
      "Epoch 28/100\n",
      " 1/10 [==>...........................] - ETA: 0s - loss: 0.1385\n",
      "Epoch 28: val_loss did not improve from 0.07779\n",
      "10/10 [==============================] - 0s 3ms/step - loss: 0.1137 - val_loss: 0.0794\n",
      "Epoch 29/100\n",
      " 1/10 [==>...........................] - ETA: 0s - loss: 0.1366\n",
      "Epoch 29: val_loss did not improve from 0.07779\n",
      "10/10 [==============================] - 0s 3ms/step - loss: 0.1118 - val_loss: 0.0801\n",
      "Epoch 30/100\n",
      " 1/10 [==>...........................] - ETA: 0s - loss: 0.1345\n",
      "Epoch 30: val_loss did not improve from 0.07779\n",
      "10/10 [==============================] - 0s 3ms/step - loss: 0.1100 - val_loss: 0.0810\n"
     ]
    }
   ],
   "source": [
    "checkpoint_filename = f\"{country_iso}_lstm_{params_hash[:8]}_gdelt_{countries_hash[:8]}_fpi_{df_train_hash[:8]}.h5\"\n",
    "path_checkpoint = (files_dir / checkpoint_filename)\n",
    "es_callback = keras.callbacks.EarlyStopping(monitor=\"val_loss\", min_delta=0, patience=5)\n",
    "\n",
    "modelckpt_callback = keras.callbacks.ModelCheckpoint(\n",
    "    monitor=\"val_loss\",\n",
    "    filepath=path_checkpoint,\n",
    "    verbose=1,\n",
    "    save_weights_only=True,\n",
    "    save_best_only=True,\n",
    ")\n",
    "\n",
    "history = model.fit(\n",
    "    dataset_train,\n",
    "    epochs=epochs,\n",
    "    validation_data=dataset_val,\n",
    "    callbacks=[es_callback, modelckpt_callback],\n",
    ")"
   ]
  },
  {
   "cell_type": "code",
   "execution_count": 54,
   "id": "a13489e2-78fa-442d-83c7-cc3c0455720f",
   "metadata": {
    "tags": []
   },
   "outputs": [
    {
     "data": {
      "image/png": "[encoded data removed]",
      "text/plain": [
       "<Figure size 640x480 with 1 Axes>"
      ]
     },
     "metadata": {},
     "output_type": "display_data"
    }
   ],
   "source": [
    "def visualize_loss(history, title):\n",
    "    loss = history.history[\"loss\"]\n",
    "    val_loss = history.history[\"val_loss\"]\n",
    "    epochs = range(len(loss))\n",
    "    plt.figure()\n",
    "    plt.plot(epochs, loss, \"b\", label=\"Training loss\")\n",
    "    plt.plot(epochs, val_loss, \"r\", label=\"Validation loss\")\n",
    "    plt.title(title)\n",
    "    plt.xlabel(\"Epochs\")\n",
    "    plt.ylabel(\"Loss\")\n",
    "    plt.legend()\n",
    "    plt.show()\n",
    "\n",
    "visualize_loss(history, \"Training and Validation Loss\")"
   ]
  },
  {
   "cell_type": "code",
   "execution_count": 55,
   "id": "c186de20-44d3-458b-98ea-4dbf86bcb1e8",
   "metadata": {
    "tags": []
   },
   "outputs": [],
   "source": [
    "def show_plot(plot_data, delta, title):\n",
    "    labels = [\"History\", \"True Future\", \"Model Prediction\"]\n",
    "    marker = [\".-\", \"rx\", \"go\"]\n",
    "    time_steps = list(range(-(plot_data[0].shape[0]), 0))\n",
    "    if delta:\n",
    "        future = delta\n",
    "    else:\n",
    "        future = 0\n",
    "\n",
    "    plt.title(title)\n",
    "    for i, val in enumerate(plot_data):\n",
    "        if i:\n",
    "            plt.plot(future, plot_data[i], marker[i], markersize=10, label=labels[i])\n",
    "        else:\n",
    "            plt.plot(time_steps, plot_data[i].flatten(), marker[i], label=labels[i])\n",
    "    plt.legend()\n",
    "    plt.xlim([time_steps[0], (future + 5) * 2])\n",
    "    plt.xlabel(\"Time-Step\")\n",
    "    \n",
    "    return plt.show()"
   ]
  },
  {
   "cell_type": "code",
   "execution_count": 56,
   "id": "d4a1ee0a-22e6-45da-98c2-ae3d332f7f4f",
   "metadata": {
    "tags": []
   },
   "outputs": [
    {
     "name": "stdout",
     "output_type": "stream",
     "text": [
      "1/1 [==============================] - 0s 66ms/step\n"
     ]
    },
    {
     "data": {
      "image/png": "[encoded data removed]",
      "text/plain": [
       "<Figure size 640x480 with 1 Axes>"
      ]
     },
     "metadata": {},
     "output_type": "display_data"
    },
    {
     "data": {
      "text/plain": [
       "None"
      ]
     },
     "metadata": {},
     "output_type": "display_data"
    }
   ],
   "source": [
    "for x, y in dataset_val.take(4):\n",
    "    \n",
    "    display(show_plot(\n",
    "        [x[0][:, 1].numpy(), y[0].numpy(), model.predict(x)[0]],\n",
    "        12,\n",
    "        \"Single Step Prediction\",\n",
    "    ))"
   ]
  },
  {
   "cell_type": "code",
   "execution_count": 57,
   "id": "9f3a894d-dfb1-4a4d-8595-56bec24292e0",
   "metadata": {
    "tags": []
   },
   "outputs": [],
   "source": [
    "dataset_test = keras.preprocessing.timeseries_dataset_from_array(\n",
    "    X_test,\n",
    "    y_test,\n",
    "    sequence_length=sequence_length,\n",
    "    sampling_rate=sampling_rate,\n",
    "    sequence_stride=sequence_stride,\n",
    "    batch_size=batch_size,\n",
    ")"
   ]
  },
  {
   "cell_type": "code",
   "execution_count": 58,
   "id": "4b169c94-aaa7-4293-a3c2-50e61b5db0af",
   "metadata": {
    "tags": []
   },
   "outputs": [
    {
     "name": "stdout",
     "output_type": "stream",
     "text": [
      "1/1 [==============================] - 0s 27ms/step - loss: 0.2240\n"
     ]
    },
    {
     "data": {
      "text/plain": [
       "0.22400104999542236"
      ]
     },
     "execution_count": 58,
     "metadata": {},
     "output_type": "execute_result"
    }
   ],
   "source": [
    "test_loss = model.evaluate(dataset_test)\n",
    "test_loss"
   ]
  },
  {
   "cell_type": "code",
   "execution_count": 59,
   "id": "681eba28-df2a-4c7c-99ee-4c6e460b147e",
   "metadata": {
    "tags": []
   },
   "outputs": [
    {
     "name": "stdout",
     "output_type": "stream",
     "text": [
      "1/1 [==============================] - 0s 8ms/step\n"
     ]
    },
    {
     "data": {
      "text/plain": [
       "array([[[0.40954718],\n",
       "        [0.39263418],\n",
       "        [0.34786421],\n",
       "        [0.3542532 ]]])"
      ]
     },
     "execution_count": 59,
     "metadata": {},
     "output_type": "execute_result"
    }
   ],
   "source": [
    "y_pred = np.asarray([model.predict(x).astype(float) for x, y in dataset_test])\n",
    "y_pred"
   ]
  },
  {
   "cell_type": "code",
   "execution_count": 60,
   "id": "6c324964-3162-457c-92e7-386b9dda4999",
   "metadata": {
    "tags": []
   },
   "outputs": [
    {
     "data": {
      "text/plain": [
       "[0.40954717993736267,\n",
       " 0.39263418316841125,\n",
       " 0.34786421060562134,\n",
       " 0.35425320267677307]"
      ]
     },
     "execution_count": 60,
     "metadata": {},
     "output_type": "execute_result"
    }
   ],
   "source": [
    "y_hat = list(y_pred.reshape(1, -1)[0])\n",
    "y_hat"
   ]
  },
  {
   "cell_type": "code",
   "execution_count": 61,
   "id": "24aa46e2-c85c-4756-a322-6cef1db6ff5d",
   "metadata": {
    "tags": []
   },
   "outputs": [
    {
     "data": {
      "text/plain": [
       "[0.003632779698818922,\n",
       " -0.018883856013417244,\n",
       " -0.10838775336742401,\n",
       " -0.1479845494031906]"
      ]
     },
     "execution_count": 61,
     "metadata": {},
     "output_type": "execute_result"
    }
   ],
   "source": [
    "[y.numpy().tolist() for x, y in dataset_test][0]"
   ]
  },
  {
   "cell_type": "code",
   "execution_count": 62,
   "id": "125bac2c-1c0c-4265-950c-b1bc885900d2",
   "metadata": {
    "tags": []
   },
   "outputs": [],
   "source": [
    "inverse_fpi_scale = lambda x: [scalers['fpi'].inverse_transform(np.asarray(p).astype(float).reshape(1, -1))[0][0] for p in x]"
   ]
  },
  {
   "cell_type": "code",
   "execution_count": 63,
   "id": "d6c8e7c7-43f3-4aa6-b7c0-3ae8f9df8c06",
   "metadata": {
    "tags": []
   },
   "outputs": [
    {
     "data": {
      "text/plain": [
       "{'SDN': {'train_mse': [0.44790974259376526,\n",
       "   0.39022713899612427,\n",
       "   0.33919236063957214,\n",
       "   0.29651376605033875,\n",
       "   0.2642083764076233,\n",
       "   0.24181106686592102,\n",
       "   0.2275896966457367,\n",
       "   0.21705229580402374,\n",
       "   0.20775437355041504,\n",
       "   0.19878605008125305,\n",
       "   0.18989679217338562,\n",
       "   0.1820373833179474,\n",
       "   0.17417249083518982,\n",
       "   0.1662323772907257,\n",
       "   0.16033509373664856,\n",
       "   0.15560463070869446,\n",
       "   0.1509421169757843,\n",
       "   0.146430104970932,\n",
       "   0.14195190370082855,\n",
       "   0.13756270706653595,\n",
       "   0.13344722986221313,\n",
       "   0.12924784421920776,\n",
       "   0.1252504140138626,\n",
       "   0.12137262523174286,\n",
       "   0.11973121017217636,\n",
       "   0.11766032129526138,\n",
       "   0.11552055925130844,\n",
       "   0.11366544663906097,\n",
       "   0.1118338331580162,\n",
       "   0.10998723655939102],\n",
       "  'train_mse_orig_units': [154.0854080534571,\n",
       "   141.70447481472362,\n",
       "   130.75042377892967,\n",
       "   121.58993521953529,\n",
       "   114.65594043650354,\n",
       "   109.84860552323681,\n",
       "   106.79614560850067,\n",
       "   104.53440899825588,\n",
       "   102.53871276575137,\n",
       "   100.61376126894338,\n",
       "   98.70578032087654,\n",
       "   97.01884508796222,\n",
       "   95.33073285505981,\n",
       "   93.62647525275571,\n",
       "   92.36068852644546,\n",
       "   91.34534692803341,\n",
       "   90.34458989469105,\n",
       "   89.3761363936302,\n",
       "   88.41493999303934,\n",
       "   87.47284745366802,\n",
       "   86.58950576424516,\n",
       "   85.68815405598295,\n",
       "   84.8301498499991,\n",
       "   83.9978253529943,\n",
       "   83.64551375466041,\n",
       "   83.20102034883627,\n",
       "   82.74174407903139,\n",
       "   82.3435646632273,\n",
       "   81.95042907617645,\n",
       "   81.55407752856036],\n",
       "  'val_mse': [0.1877620965242386,\n",
       "   0.167260080575943,\n",
       "   0.1532452553510666,\n",
       "   0.14505267143249512,\n",
       "   0.1430782675743103,\n",
       "   0.1427951157093048,\n",
       "   0.14192210137844086,\n",
       "   0.13903361558914185,\n",
       "   0.13411419093608856,\n",
       "   0.12779393792152405,\n",
       "   0.12101812660694122,\n",
       "   0.11465069651603699,\n",
       "   0.10849136114120483,\n",
       "   0.1030883938074112,\n",
       "   0.09961020946502686,\n",
       "   0.09667281806468964,\n",
       "   0.0937458798289299,\n",
       "   0.09052756428718567,\n",
       "   0.08797843754291534,\n",
       "   0.08562859892845154,\n",
       "   0.0834205150604248,\n",
       "   0.08124718815088272,\n",
       "   0.07902806997299194,\n",
       "   0.07837657630443573,\n",
       "   0.0777861475944519,\n",
       "   0.07786258310079575,\n",
       "   0.07851029932498932,\n",
       "   0.07943660765886307,\n",
       "   0.08013591915369034,\n",
       "   0.08099281042814255],\n",
       "  'val_mse_orig_units': [98.24759149671284,\n",
       "   93.84706040269548,\n",
       "   90.83893308805379,\n",
       "   89.08048551075507,\n",
       "   88.65670154765594,\n",
       "   88.59592612979323,\n",
       "   88.40854325397369,\n",
       "   87.78856170862258,\n",
       "   86.73266158616481,\n",
       "   85.37608914066536,\n",
       "   83.92173614180842,\n",
       "   82.55503765836805,\n",
       "   81.23300440545357,\n",
       "   80.07331719165566,\n",
       "   79.32676337041259,\n",
       "   78.69628477625474,\n",
       "   78.06804983832417,\n",
       "   77.37727398254877,\n",
       "   76.83013210493819,\n",
       "   76.32576522145956,\n",
       "   75.85182442734671,\n",
       "   75.38534383016916,\n",
       "   74.90903464341724,\n",
       "   74.76919872907266,\n",
       "   74.6424697330736,\n",
       "   74.65887576959221,\n",
       "   74.79790089726022,\n",
       "   74.9967227417139,\n",
       "   75.1468222238893,\n",
       "   75.33074446387432],\n",
       "  'test_mse': [0.22400104999542236],\n",
       "  'test_mse_orig_units': [106.02588227391077],\n",
       "  'y_test_pred': [0.40954717993736267,\n",
       "   0.39263418316841125,\n",
       "   0.34786421060562134,\n",
       "   0.35425320267677307],\n",
       "  'y_test_pred_orig_units': [145.85130803902788,\n",
       "   142.22112023883875,\n",
       "   132.6117405155126,\n",
       "   133.98306703966696],\n",
       "  'y_test_actual': [0.003632779698818922,\n",
       "   -0.018883856013417244,\n",
       "   -0.10838775336742401,\n",
       "   -0.1479845494031906],\n",
       "  'y_test_actual_orig_units': [58.72626900560469,\n",
       "   53.89332204886436,\n",
       "   34.682299857908156,\n",
       "   26.183285291814233],\n",
       "  'lstm_model': '198f4d7a',\n",
       "  'lstm_params': {'sampling_rate': 1,\n",
       "   'sequence_length': 3,\n",
       "   'sequence_stride': 1,\n",
       "   'learning_rate': 0.005,\n",
       "   'batch_size': 4,\n",
       "   'l1': 0.035,\n",
       "   'l2': 0.015},\n",
       "  'lstm_checkpoint': 'SDN_lstm_198f4d7a_gdelt_67200d62_fpi_3b77c74d.h5'}}"
      ]
     },
     "execution_count": 63,
     "metadata": {},
     "output_type": "execute_result"
    }
   ],
   "source": [
    "model_perf = {country_iso: {'train_mse': history.history['loss'],\n",
    "                            'train_mse_orig_units': inverse_fpi_scale(history.history['loss']),\n",
    "                            'val_mse': history.history['val_loss'],\n",
    "                            'val_mse_orig_units': inverse_fpi_scale(history.history['val_loss']),\n",
    "                            'test_mse': [test_loss],\n",
    "                            'test_mse_orig_units': inverse_fpi_scale([test_loss]),\n",
    "                            'y_test_pred': y_hat,\n",
    "                            'y_test_pred_orig_units': inverse_fpi_scale(y_hat),\n",
    "                            'y_test_actual': [y.numpy().tolist() for x, y in dataset_test][0],\n",
    "                            'y_test_actual_orig_units': inverse_fpi_scale([y.numpy().tolist() for x, y in dataset_test][0]),\n",
    "                            'lstm_model': params_hash[:8],\n",
    "                            'lstm_params': model_params,\n",
    "                            'lstm_checkpoint': checkpoint_filename}}\n",
    "model_perf"
   ]
  },
  {
   "cell_type": "code",
   "execution_count": 64,
   "id": "b07740f8-6680-4207-9d56-3275f94f0359",
   "metadata": {
    "tags": []
   },
   "outputs": [],
   "source": [
    "with open(files_dir / \"models_summary.json\", 'r') as f:\n",
    "    models_summary = json.load(f)"
   ]
  },
  {
   "cell_type": "code",
   "execution_count": 65,
   "id": "7f6cd94b-0d9c-4fe2-a9b7-f8418c626cf5",
   "metadata": {
    "tags": []
   },
   "outputs": [],
   "source": [
    "models_summary.update(model_perf)"
   ]
  },
  {
   "cell_type": "code",
   "execution_count": 66,
   "id": "3dbd3133-8d1b-4952-bee7-6309c006d88e",
   "metadata": {
    "tags": []
   },
   "outputs": [],
   "source": [
    "with open(files_dir / \"models_summary.json\", 'w') as f:\n",
    "    json.dump(models_summary, f, sort_keys=True, indent=4)"
   ]
  },
  {
   "cell_type": "code",
   "execution_count": 67,
   "id": "a84d115b-8c08-4c96-95ea-a566cce3fa7c",
   "metadata": {
    "tags": []
   },
   "outputs": [
    {
     "name": "stdout",
     "output_type": "stream",
     "text": [
      "1/1 [==============================] - 0s 8ms/step\n"
     ]
    },
    {
     "data": {
      "image/png": "[encoded data removed]",
      "text/plain": [
       "<Figure size 640x480 with 1 Axes>"
      ]
     },
     "metadata": {},
     "output_type": "display_data"
    },
    {
     "data": {
      "text/plain": [
       "None"
      ]
     },
     "metadata": {},
     "output_type": "display_data"
    }
   ],
   "source": [
    "for x, y in dataset_test.take(4):\n",
    "    display(show_plot(\n",
    "        [x[0][:, 1].numpy(), y[0].numpy(), model.predict(x)[0]],\n",
    "        12,\n",
    "        \"Single Step Prediction\",\n",
    "    ))"
   ]
  },
  {
   "cell_type": "markdown",
   "id": "88369d3f-0c82-4641-babc-878be77da8c6",
   "metadata": {},
   "source": [
    "## Env info"
   ]
  },
  {
   "cell_type": "code",
   "execution_count": 68,
   "id": "c3d161eb-9a99-4e96-9e5e-7296fa125d81",
   "metadata": {
    "tags": []
   },
   "outputs": [
    {
     "name": "stdout",
     "output_type": "stream",
     "text": [
      "Author: ewheeler@unicef.org\n",
      "\n",
      "Last updated: 2023-11-05T19:46:13.061877+03:00\n",
      "\n",
      "Python implementation: CPython\n",
      "Python version       : 3.10.9\n",
      "IPython version      : 8.12.0\n",
      "\n",
      "Compiler    : Clang 14.0.6 \n",
      "OS          : Darwin\n",
      "Release     : 21.4.0\n",
      "Machine     : arm64\n",
      "Processor   : arm\n",
      "CPU cores   : 10\n",
      "Architecture: 64bit\n",
      "\n",
      "keras     : 2.13.1\n",
      "joblib    : 1.3.2\n",
      "json      : 2.0.9\n",
      "seaborn   : 0.12.2\n",
      "numpy     : 1.24.1\n",
      "matplotlib: 3.6.3\n",
      "plotly    : 5.14.1\n",
      "skops     : 0.7.post0\n",
      "pandas    : 2.1.1\n",
      "\n"
     ]
    }
   ],
   "source": [
    "# NOTE some dependencies may be missing\n",
    "# https://github.com/rasbt/watermark/issues/74\n",
    "%load_ext watermark\n",
    "%watermark -u -i -m -v -iv --author ewheeler@unicef.org"
   ]
  },
  {
   "cell_type": "code",
   "execution_count": null,
   "id": "4d9b080c-ce7d-4d97-872d-1baa836335dd",
   "metadata": {},
   "outputs": [],
   "source": []
  },
  {
   "cell_type": "code",
   "execution_count": null,
   "id": "c4b20335-6bd0-4375-ba25-bea509ee3955",
   "metadata": {},
   "outputs": [],
   "source": []
  }
 ],
 "metadata": {
  "kernelspec": {
   "display_name": "Python [conda env:magasin] *",
   "language": "python",
   "name": "conda-env-magasin-py"
  },
  "language_info": {
   "codemirror_mode": {
    "name": "ipython",
    "version": 3
   },
   "file_extension": ".py",
   "mimetype": "text/x-python",
   "name": "python",
   "nbconvert_exporter": "python",
   "pygments_lexer": "ipython3",
   "version": "3.10.9"
  }
 },
 "nbformat": 4,
 "nbformat_minor": 5
}
